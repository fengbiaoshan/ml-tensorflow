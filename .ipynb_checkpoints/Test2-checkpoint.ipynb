{
 "cells": [
  {
   "cell_type": "code",
   "execution_count": 1,
   "metadata": {
    "collapsed": true
   },
   "outputs": [],
   "source": [
    "import tensorflow as tf"
   ]
  },
  {
   "cell_type": "code",
   "execution_count": 2,
   "metadata": {},
   "outputs": [
    {
     "name": "stdout",
     "output_type": "stream",
     "text": [
      "[[ 0.06625714 -0.07661729  0.06246748  0.06704278 -0.04887221]]\n",
      "[[ 0.06625714 -0.07661729  0.06246748 -0.03295722 -0.04887221]]\n"
     ]
    }
   ],
   "source": [
    "with tf.variable_scope(\"test\"):\n",
    "    a = tf.get_variable(\"a\", shape=[1,5], initializer=tf.truncated_normal_initializer(0,0.1))\n",
    "    loss = tf.reduce_max(a)\n",
    "    optimizer = tf.train.GradientDescentOptimizer(0.1)\n",
    "    train_op = optimizer.minimize(loss)\n",
    "    \n",
    "sess = tf.Session()\n",
    "init = tf.global_variables_initializer()\n",
    "sess.run(init)\n",
    "a_r = sess.run(a)\n",
    "sess.run(train_op)\n",
    "a_r2 = sess.run(a)\n",
    "\n",
    "print a_r\n",
    "print a_r2"
   ]
  },
  {
   "cell_type": "code",
   "execution_count": null,
   "metadata": {
    "collapsed": true
   },
   "outputs": [],
   "source": []
  }
 ],
 "metadata": {
  "kernelspec": {
   "display_name": "Python 2",
   "language": "python",
   "name": "python2"
  },
  "language_info": {
   "codemirror_mode": {
    "name": "ipython",
    "version": 2
   },
   "file_extension": ".py",
   "mimetype": "text/x-python",
   "name": "python",
   "nbconvert_exporter": "python",
   "pygments_lexer": "ipython2",
   "version": "2.7.14"
  }
 },
 "nbformat": 4,
 "nbformat_minor": 2
}
