{
 "cells": [
  {
   "cell_type": "markdown",
   "metadata": {
    "deletable": true,
    "editable": true
   },
   "source": [
    "# numpy"
   ]
  },
  {
   "cell_type": "code",
   "execution_count": 13,
   "metadata": {
    "collapsed": true,
    "deletable": true,
    "editable": true
   },
   "outputs": [],
   "source": [
    "#coding:utf-8\n",
    "import numpy as np"
   ]
  },
  {
   "cell_type": "markdown",
   "metadata": {
    "deletable": true,
    "editable": true
   },
   "source": [
    "## ndarray"
   ]
  },
  {
   "cell_type": "markdown",
   "metadata": {
    "deletable": true,
    "editable": true
   },
   "source": [
    "### 轴和维数"
   ]
  },
  {
   "cell_type": "code",
   "execution_count": 14,
   "metadata": {
    "collapsed": false,
    "deletable": true,
    "editable": true
   },
   "outputs": [
    {
     "name": "stdout",
     "output_type": "stream",
     "text": [
      "向量 [1 2 3 4]\n",
      "维数： 1\n"
     ]
    }
   ],
   "source": [
    "vector = np.array([1,2,3,4])\n",
    "print u\"向量\", vector\n",
    "print u\"维数：\",vector.ndim"
   ]
  },
  {
   "cell_type": "code",
   "execution_count": 15,
   "metadata": {
    "collapsed": false,
    "deletable": true,
    "editable": true
   },
   "outputs": [
    {
     "name": "stdout",
     "output_type": "stream",
     "text": [
      "矩阵:\n",
      "[[1 2 5]\n",
      " [3 3 4]\n",
      " [9 4 5]]\n",
      "维数： 2\n",
      "竖为0轴，横为1轴： [13  9 14] [ 8 10 18]\n"
     ]
    }
   ],
   "source": [
    "matrix = np.array([[1,2,5],[3,3,4],[9,4,5]])\n",
    "print u\"矩阵:\"\n",
    "print matrix\n",
    "print u\"维数：\",matrix.ndim\n",
    "print \"竖为0轴，横为1轴：\", matrix.sum(axis=0), matrix.sum(axis=1)"
   ]
  },
  {
   "cell_type": "markdown",
   "metadata": {
    "deletable": true,
    "editable": true
   },
   "source": [
    "ndarray的维数和向量等维数不同，ndarray的维数表示数据的存储格式（一维数组，二位数组，三维数组）"
   ]
  },
  {
   "cell_type": "markdown",
   "metadata": {
    "deletable": true,
    "editable": true
   },
   "source": [
    "### 引用及数据更改"
   ]
  },
  {
   "cell_type": "code",
   "execution_count": 16,
   "metadata": {
    "collapsed": false,
    "deletable": true,
    "editable": true,
    "scrolled": true
   },
   "outputs": [
    {
     "name": "stdout",
     "output_type": "stream",
     "text": [
      "[2 6 4]\n",
      "[[1 2 5]\n",
      " [3 6 4]\n",
      " [9 4 5]]\n",
      "[[2]\n",
      " [4]\n",
      " [4]]\n",
      "[[1 2 5]\n",
      " [3 4 4]\n",
      " [9 4 5]]\n"
     ]
    }
   ],
   "source": [
    "secondcol = matrix[:,1]\n",
    "secondcol[1] = 6\n",
    "print secondcol\n",
    "print matrix\n",
    "secondcol = matrix[:,1:2]\n",
    "secondcol[1][0] = 4\n",
    "print secondcol\n",
    "print matrix"
   ]
  },
  {
   "cell_type": "markdown",
   "metadata": {
    "deletable": true,
    "editable": true
   },
   "source": [
    "原矩阵被更改，secondcol是指向第二列的引用"
   ]
  },
  {
   "cell_type": "code",
   "execution_count": 17,
   "metadata": {
    "collapsed": false
   },
   "outputs": [
    {
     "name": "stdout",
     "output_type": "stream",
     "text": [
      "[[2 5]\n",
      " [4 7]\n",
      " [4 5]]\n",
      "[[1 2 5]\n",
      " [3 4 7]\n",
      " [9 4 5]]\n"
     ]
    }
   ],
   "source": [
    "subma = matrix[:,1:]\n",
    "subma[1][1] = 7\n",
    "print subma\n",
    "print matrix"
   ]
  },
  {
   "cell_type": "markdown",
   "metadata": {},
   "source": [
    "原矩阵被更改，subma是指向部分矩阵的引用"
   ]
  },
  {
   "cell_type": "code",
   "execution_count": 18,
   "metadata": {
    "collapsed": false,
    "deletable": true,
    "editable": true
   },
   "outputs": [
    {
     "name": "stdout",
     "output_type": "stream",
     "text": [
      "[[ 2]\n",
      " [-1]\n",
      " [ 4]]\n",
      "[[1 2 5]\n",
      " [3 4 7]\n",
      " [9 4 5]]\n"
     ]
    }
   ],
   "source": [
    "secondcol = matrix[:,[1]]\n",
    "secondcol[1] = -1\n",
    "print secondcol\n",
    "print matrix"
   ]
  },
  {
   "cell_type": "markdown",
   "metadata": {
    "deletable": true,
    "editable": true
   },
   "source": [
    "原矩阵没有被更改，secondcol是新的列向量"
   ]
  },
  {
   "cell_type": "code",
   "execution_count": 22,
   "metadata": {
    "collapsed": false,
    "deletable": true,
    "editable": true
   },
   "outputs": [
    {
     "name": "stdout",
     "output_type": "stream",
     "text": [
      "[[2 5]\n",
      " [4 7]\n",
      " [4 5]]\n",
      "[[ 2.  5.]\n",
      " [ 4.  3.]\n",
      " [ 4.  5.]]\n",
      "[[1 2 5]\n",
      " [3 4 7]\n",
      " [9 4 5]]\n"
     ]
    }
   ],
   "source": [
    "subma = matrix[:,1:]\n",
    "newma = np.empty((3,2))\n",
    "newma[:,:] = subma #这两步操作可以用 newma = np.asarray(subma)代替\n",
    "newma[1][1] = 3\n",
    "print subma\n",
    "print newma\n",
    "print matrix"
   ]
  },
  {
   "cell_type": "markdown",
   "metadata": {},
   "source": [
    "原矩阵没有被更改，newma是新的矩阵，subma是引用。"
   ]
  },
  {
   "cell_type": "code",
   "execution_count": null,
   "metadata": {
    "collapsed": true
   },
   "outputs": [],
   "source": []
  }
 ],
 "metadata": {
  "kernelspec": {
   "display_name": "Python 2",
   "language": "python",
   "name": "python2"
  },
  "language_info": {
   "codemirror_mode": {
    "name": "ipython",
    "version": 2
   },
   "file_extension": ".py",
   "mimetype": "text/x-python",
   "name": "python",
   "nbconvert_exporter": "python",
   "pygments_lexer": "ipython2",
   "version": "2.7.6"
  }
 },
 "nbformat": 4,
 "nbformat_minor": 2
}
