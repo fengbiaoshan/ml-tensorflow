{
 "cells": [
  {
   "cell_type": "code",
   "execution_count": 6,
   "metadata": {},
   "outputs": [
    {
     "name": "stdout",
     "output_type": "stream",
     "text": [
      "Softmax test 1 passed!\n",
      "Softmax test 2 passed!\n",
      "Basic (non-exhaustive) softmax tests pass\n",
      "\n",
      "Cross-entropy test 1 passed!\n",
      "Basic (non-exhaustive) cross-entropy tests pass\n"
     ]
    }
   ],
   "source": [
    "%run q1_softmax.py"
   ]
  },
  {
   "cell_type": "code",
   "execution_count": 6,
   "metadata": {
    "scrolled": true
   },
   "outputs": [
    {
     "name": "stdout",
     "output_type": "stream",
     "text": [
      "Epoch 0: loss = 76.78 (0.243 sec)\n",
      "Epoch 1: loss = 24.30 (0.025 sec)\n",
      "Epoch 2: loss = 12.21 (0.025 sec)\n",
      "Epoch 3: loss = 7.90 (0.024 sec)\n",
      "Epoch 4: loss = 5.78 (0.025 sec)\n",
      "Epoch 5: loss = 4.54 (0.024 sec)\n",
      "Epoch 6: loss = 3.73 (0.025 sec)\n",
      "Epoch 7: loss = 3.16 (0.025 sec)\n",
      "Epoch 8: loss = 2.74 (0.024 sec)\n",
      "Epoch 9: loss = 2.41 (0.027 sec)\n",
      "Epoch 10: loss = 2.16 (0.026 sec)\n",
      "Epoch 11: loss = 1.95 (0.024 sec)\n",
      "Epoch 12: loss = 1.78 (0.025 sec)\n",
      "Epoch 13: loss = 1.64 (0.025 sec)\n",
      "Epoch 14: loss = 1.51 (0.025 sec)\n",
      "Epoch 15: loss = 1.41 (0.025 sec)\n",
      "Epoch 16: loss = 1.32 (0.025 sec)\n",
      "Epoch 17: loss = 1.24 (0.028 sec)\n",
      "Epoch 18: loss = 1.16 (0.028 sec)\n",
      "Epoch 19: loss = 1.10 (0.027 sec)\n",
      "Epoch 20: loss = 1.04 (0.026 sec)\n",
      "Epoch 21: loss = 0.99 (0.026 sec)\n",
      "Epoch 22: loss = 0.95 (0.027 sec)\n",
      "Epoch 23: loss = 0.90 (0.027 sec)\n",
      "Epoch 24: loss = 0.86 (0.027 sec)\n",
      "Epoch 25: loss = 0.83 (0.029 sec)\n",
      "Epoch 26: loss = 0.80 (0.027 sec)\n",
      "Epoch 27: loss = 0.77 (0.025 sec)\n",
      "Epoch 28: loss = 0.74 (0.025 sec)\n",
      "Epoch 29: loss = 0.71 (0.025 sec)\n",
      "Epoch 30: loss = 0.69 (0.027 sec)\n",
      "Epoch 31: loss = 0.66 (0.026 sec)\n",
      "Epoch 32: loss = 0.64 (0.025 sec)\n",
      "Epoch 33: loss = 0.62 (0.026 sec)\n",
      "Epoch 34: loss = 0.60 (0.026 sec)\n",
      "Epoch 35: loss = 0.59 (0.026 sec)\n",
      "Epoch 36: loss = 0.57 (0.027 sec)\n",
      "Epoch 37: loss = 0.55 (0.025 sec)\n",
      "Epoch 38: loss = 0.54 (0.025 sec)\n",
      "Epoch 39: loss = 0.53 (0.025 sec)\n",
      "Epoch 40: loss = 0.51 (0.026 sec)\n",
      "Epoch 41: loss = 0.50 (0.029 sec)\n",
      "Epoch 42: loss = 0.49 (0.026 sec)\n",
      "Epoch 43: loss = 0.48 (0.025 sec)\n",
      "Epoch 44: loss = 0.46 (0.025 sec)\n",
      "Epoch 45: loss = 0.45 (0.025 sec)\n",
      "Epoch 46: loss = 0.44 (0.024 sec)\n",
      "Epoch 47: loss = 0.43 (0.025 sec)\n",
      "Epoch 48: loss = 0.42 (0.025 sec)\n",
      "Epoch 49: loss = 0.42 (0.024 sec)\n",
      "Basic (non-exhaustive) classifier tests pass\n"
     ]
    }
   ],
   "source": [
    "%run q1_classifier.py"
   ]
  },
  {
   "cell_type": "code",
   "execution_count": 7,
   "metadata": {
    "scrolled": true
   },
   "outputs": [
    {
     "name": "stdout",
     "output_type": "stream",
     "text": [
      "SHIFT test passed!\n",
      "LEFT-ARC test passed!\n",
      "RIGHT-ARC test passed!\n",
      "parse test passed!\n",
      "minibatch_parse test passed!\n"
     ]
    }
   ],
   "source": [
    "%run q2_parser_transitions.py"
   ]
  },
  {
   "cell_type": "code",
   "execution_count": null,
   "metadata": {
    "scrolled": false
   },
   "outputs": [
    {
     "name": "stdout",
     "output_type": "stream",
     "text": [
      "================================================================================\n",
      "INITIALIZING\n",
      "================================================================================\n",
      "Loading data... took 2.31 seconds\n",
      "Building parser... took 0.97 seconds\n",
      "Loading pretrained embeddings... took 2.88 seconds\n",
      "Vectorizing data... took 1.17 seconds\n",
      "Preprocessing training data...\n",
      "39832/39832 [==============================] - 41s    \n",
      "Building model... took 0.13 seconds\n",
      "\n",
      "================================================================================\n",
      "TRAINING\n",
      "================================================================================\n",
      "Epoch 1 out of 10\n",
      "924/924 [==============================] - 116s - train loss: 1.0445   \n",
      "Evaluating on dev set - dev UAS: 0.05\n",
      "- train_UAS: 0.06\n",
      "New best dev UAS! Saving model in ./data/weights/parser.weights\n",
      "\n",
      "Epoch 2 out of 10\n",
      "924/924 [==============================] - 112s - train loss: 1.0320   \n",
      "Evaluating on dev set - dev UAS: 0.05\n",
      "- train_UAS: 0.06\n",
      "\n",
      "Epoch 3 out of 10\n",
      "380/924 [===========>..................] - ETA: 70s - train loss: 1.0314"
     ]
    }
   ],
   "source": [
    "%run q2_parser_model.py"
   ]
  },
  {
   "cell_type": "code",
   "execution_count": null,
   "metadata": {
    "collapsed": true
   },
   "outputs": [],
   "source": []
  }
 ],
 "metadata": {
  "anaconda-cloud": {},
  "kernelspec": {
   "display_name": "Python [conda env:py27]",
   "language": "python",
   "name": "conda-env-py27-py"
  },
  "language_info": {
   "codemirror_mode": {
    "name": "ipython",
    "version": 2
   },
   "file_extension": ".py",
   "mimetype": "text/x-python",
   "name": "python",
   "nbconvert_exporter": "python",
   "pygments_lexer": "ipython2",
   "version": "2.7.14"
  }
 },
 "nbformat": 4,
 "nbformat_minor": 1
}
