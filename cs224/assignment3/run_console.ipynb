{
 "cells": [
  {
   "cell_type": "code",
   "execution_count": 7,
   "metadata": {
    "scrolled": false
   },
   "outputs": [
    {
     "name": "stderr",
     "output_type": "stream",
     "text": [
      "INFO:Testing make_windowed_data\n",
      "INFO:Passed!\n"
     ]
    },
    {
     "name": "stdout",
     "output_type": "stream",
     "text": [
      "([([[1, 1], [2, 0], [3, 3]], [1, 2, 3])], [5, 0], [6, 0])\n",
      "[([5, 0, 1, 1, 2, 0], 1), ([1, 1, 2, 0, 3, 3], 2), ([2, 0, 3, 3, 6, 0], 3)]\n"
     ]
    }
   ],
   "source": [
    "%run q1_window.py test1"
   ]
  },
  {
   "cell_type": "code",
   "execution_count": 15,
   "metadata": {},
   "outputs": [
    {
     "name": "stderr",
     "output_type": "stream",
     "text": [
      "INFO:Testing implementation of WindowModel\n",
      "INFO:Loading training data...\n",
      "INFO:Done. Read 721 sentences\n",
      "INFO:Loading dev data...\n",
      "INFO:Done. Read 721 sentences\n",
      "INFO:Built dictionary for 2653 features.\n",
      "INFO:Initialized embeddings.\n",
      "INFO:Building model...\n",
      "INFO:took 0.20 seconds\n",
      "INFO:Epoch 1 out of 10\n"
     ]
    },
    {
     "name": "stdout",
     "output_type": "stream",
     "text": [
      "5/5 [==============================] - 0s - train loss: 1.4603     "
     ]
    },
    {
     "name": "stderr",
     "output_type": "stream",
     "text": [
      "INFO:Evaluating on development data\n"
     ]
    },
    {
     "name": "stdout",
     "output_type": "stream",
     "text": [
      "\n",
      "\n",
      "5/5 [==============================] - 0s     "
     ]
    },
    {
     "name": "stderr",
     "output_type": "stream",
     "text": [
      "DEBUG:Token-level confusion matrix:\n",
      "go\\gu  \tPER    \tORG    \tLOC    \tMISC   \tO      \n",
      "PER    \t114.00 \t6.00   \t3.00   \t0.00   \t701.00 \n",
      "ORG    \t7.00   \t6.00   \t11.00  \t0.00   \t367.00 \n",
      "LOC    \t0.00   \t0.00   \t157.00 \t0.00   \t420.00 \n",
      "MISC   \t7.00   \t0.00   \t0.00   \t0.00   \t251.00 \n",
      "O      \t10.00  \t13.00  \t8.00   \t1.00   \t7084.00\n",
      "\n",
      "DEBUG:Token-level scores:\n",
      "label\tacc  \tprec \trec  \tf1   \n",
      "PER  \t0.92 \t0.83 \t0.14 \t0.24 \n",
      "ORG  \t0.96 \t0.24 \t0.02 \t0.03 \n",
      "LOC  \t0.95 \t0.88 \t0.27 \t0.42 \n",
      "MISC \t0.00 \t0.00 \t0.00 \t0.00 \n",
      "O    \t0.81 \t0.80 \t1.00 \t0.89 \n",
      "micro\t0.92 \t0.80 \t0.80 \t0.80 \n",
      "macro\t0.73 \t0.55 \t0.28 \t0.31 \n",
      "not-O\t0.95 \t0.81 \t0.14 \t0.23 \n",
      "\n",
      "INFO:Entity level P/R/F1: 0.47/0.11/0.18\n",
      "INFO:Epoch 2 out of 10\n"
     ]
    },
    {
     "name": "stdout",
     "output_type": "stream",
     "text": [
      "\n",
      "\n",
      "5/5 [==============================] - 0s - train loss: 0.6834     "
     ]
    },
    {
     "name": "stderr",
     "output_type": "stream",
     "text": [
      "INFO:Evaluating on development data\n"
     ]
    },
    {
     "name": "stdout",
     "output_type": "stream",
     "text": [
      "\n",
      "\n",
      "5/5 [==============================] - 0s     \n"
     ]
    },
    {
     "name": "stderr",
     "output_type": "stream",
     "text": [
      "DEBUG:Token-level confusion matrix:\n",
      "go\\gu  \tPER    \tORG    \tLOC    \tMISC   \tO      \n",
      "PER    \t374.00 \t1.00   \t9.00   \t0.00   \t440.00 \n",
      "ORG    \t75.00  \t0.00   \t31.00  \t0.00   \t285.00 \n",
      "LOC    \t16.00  \t0.00   \t214.00 \t0.00   \t347.00 \n",
      "MISC   \t16.00  \t0.00   \t6.00   \t0.00   \t236.00 \n",
      "O      \t33.00  \t0.00   \t12.00  \t0.00   \t7071.00\n",
      "\n",
      "DEBUG:Token-level scores:\n",
      "label\tacc  \tprec \trec  \tf1   \n",
      "PER  \t0.94 \t0.73 \t0.45 \t0.56 \n",
      "ORG  \t0.00 \t0.00 \t0.00 \t0.00 \n",
      "LOC  \t0.95 \t0.79 \t0.37 \t0.50 \n",
      "MISC \t0.00 \t0.00 \t0.00 \t0.00 \n",
      "O    \t0.85 \t0.84 \t0.99 \t0.91 \n",
      "micro\t0.93 \t0.84 \t0.84 \t0.84 \n",
      "macro\t0.55 \t0.47 \t0.36 \t0.40 \n",
      "not-O\t0.95 \t0.75 \t0.29 \t0.41 \n",
      "\n",
      "INFO:Entity level P/R/F1: 0.44/0.20/0.28\n",
      "INFO:Epoch 3 out of 10\n"
     ]
    },
    {
     "name": "stdout",
     "output_type": "stream",
     "text": [
      "\n",
      "5/5 [==============================] - 0s - train loss: 0.5254     "
     ]
    },
    {
     "name": "stderr",
     "output_type": "stream",
     "text": [
      "INFO:Evaluating on development data\n"
     ]
    },
    {
     "name": "stdout",
     "output_type": "stream",
     "text": [
      "\n",
      "\n",
      "5/5 [==============================] - 0s     \n"
     ]
    },
    {
     "name": "stderr",
     "output_type": "stream",
     "text": [
      "DEBUG:Token-level confusion matrix:\n",
      "go\\gu  \tPER    \tORG    \tLOC    \tMISC   \tO      \n",
      "PER    \t594.00 \t1.00   \t31.00  \t1.00   \t197.00 \n",
      "ORG    \t148.00 \t0.00   \t56.00  \t6.00   \t181.00 \n",
      "LOC    \t54.00  \t0.00   \t362.00 \t8.00   \t153.00 \n",
      "MISC   \t43.00  \t0.00   \t59.00  \t15.00  \t141.00 \n",
      "O      \t82.00  \t1.00   \t106.00 \t0.00   \t6927.00\n",
      "\n",
      "DEBUG:Token-level scores:\n",
      "label\tacc  \tprec \trec  \tf1   \n",
      "PER  \t0.94 \t0.64 \t0.72 \t0.68 \n",
      "ORG  \t0.00 \t0.00 \t0.00 \t0.00 \n",
      "LOC  \t0.95 \t0.59 \t0.63 \t0.61 \n",
      "MISC \t0.97 \t0.50 \t0.06 \t0.10 \n",
      "O    \t0.91 \t0.91 \t0.97 \t0.94 \n",
      "micro\t0.94 \t0.86 \t0.86 \t0.86 \n",
      "macro\t0.75 \t0.53 \t0.48 \t0.47 \n",
      "not-O\t0.95 \t0.62 \t0.47 \t0.54 \n",
      "\n",
      "INFO:Entity level P/R/F1: 0.50/0.41/0.45\n",
      "INFO:Epoch 4 out of 10\n"
     ]
    },
    {
     "name": "stdout",
     "output_type": "stream",
     "text": [
      "\n",
      "5/5 [==============================] - 0s - train loss: 0.4316     "
     ]
    },
    {
     "name": "stderr",
     "output_type": "stream",
     "text": [
      "INFO:Evaluating on development data\n"
     ]
    },
    {
     "name": "stdout",
     "output_type": "stream",
     "text": [
      "\n",
      "\n",
      "5/5 [==============================] - 0s     \n"
     ]
    },
    {
     "name": "stderr",
     "output_type": "stream",
     "text": [
      "DEBUG:Token-level confusion matrix:\n",
      "go\\gu  \tPER    \tORG    \tLOC    \tMISC   \tO      \n",
      "PER    \t697.00 \t5.00   \t46.00  \t7.00   \t69.00  \n",
      "ORG    \t196.00 \t11.00  \t65.00  \t17.00  \t102.00 \n",
      "LOC    \t76.00  \t2.00   \t430.00 \t12.00  \t57.00  \n",
      "MISC   \t70.00  \t6.00   \t76.00  \t44.00  \t62.00  \n",
      "O      \t137.00 \t1.00   \t155.00 \t8.00   \t6815.00\n",
      "\n",
      "DEBUG:Token-level scores:\n",
      "label\tacc  \tprec \trec  \tf1   \n",
      "PER  \t0.93 \t0.59 \t0.85 \t0.70 \n",
      "ORG  \t0.96 \t0.44 \t0.03 \t0.05 \n",
      "LOC  \t0.95 \t0.56 \t0.75 \t0.64 \n",
      "MISC \t0.97 \t0.50 \t0.17 \t0.25 \n",
      "O    \t0.94 \t0.96 \t0.96 \t0.96 \n",
      "micro\t0.95 \t0.87 \t0.87 \t0.87 \n",
      "macro\t0.95 \t0.61 \t0.55 \t0.52 \n",
      "not-O\t0.95 \t0.57 \t0.58 \t0.58 \n",
      "\n",
      "INFO:Entity level P/R/F1: 0.51/0.54/0.52\n",
      "INFO:Epoch 5 out of 10\n"
     ]
    },
    {
     "name": "stdout",
     "output_type": "stream",
     "text": [
      "\n",
      "5/5 [==============================] - 0s - train loss: 0.3892     "
     ]
    },
    {
     "name": "stderr",
     "output_type": "stream",
     "text": [
      "INFO:Evaluating on development data\n"
     ]
    },
    {
     "name": "stdout",
     "output_type": "stream",
     "text": [
      "\n",
      "\n",
      "5/5 [==============================] - 0s     \n"
     ]
    },
    {
     "name": "stderr",
     "output_type": "stream",
     "text": [
      "DEBUG:Token-level confusion matrix:\n",
      "go\\gu  \tPER    \tORG    \tLOC    \tMISC   \tO      \n",
      "PER    \t713.00 \t19.00  \t31.00  \t11.00  \t50.00  \n",
      "ORG    \t190.00 \t54.00  \t28.00  \t23.00  \t96.00  \n",
      "LOC    \t67.00  \t28.00  \t406.00 \t25.00  \t51.00  \n",
      "MISC   \t63.00  \t25.00  \t40.00  \t72.00  \t58.00  \n",
      "O      \t153.00 \t14.00  \t74.00  \t19.00  \t6856.00\n",
      "\n",
      "DEBUG:Token-level scores:\n",
      "label\tacc  \tprec \trec  \tf1   \n",
      "PER  \t0.94 \t0.60 \t0.87 \t0.71 \n",
      "ORG  \t0.95 \t0.39 \t0.14 \t0.20 \n",
      "LOC  \t0.96 \t0.70 \t0.70 \t0.70 \n",
      "MISC \t0.97 \t0.48 \t0.28 \t0.35 \n",
      "O    \t0.94 \t0.96 \t0.96 \t0.96 \n",
      "micro\t0.95 \t0.88 \t0.88 \t0.88 \n",
      "macro\t0.95 \t0.63 \t0.59 \t0.59 \n",
      "not-O\t0.96 \t0.61 \t0.61 \t0.61 \n",
      "\n",
      "INFO:Entity level P/R/F1: 0.52/0.56/0.54\n"
     ]
    },
    {
     "name": "stdout",
     "output_type": "stream",
     "text": [
      "\n"
     ]
    },
    {
     "name": "stderr",
     "output_type": "stream",
     "text": [
      "INFO:Epoch 6 out of 10\n"
     ]
    },
    {
     "name": "stdout",
     "output_type": "stream",
     "text": [
      "5/5 [==============================] - 0s - train loss: 0.3602     "
     ]
    },
    {
     "name": "stderr",
     "output_type": "stream",
     "text": [
      "INFO:Evaluating on development data\n"
     ]
    },
    {
     "name": "stdout",
     "output_type": "stream",
     "text": [
      "\n",
      "\n",
      "5/5 [==============================] - 0s     \n"
     ]
    },
    {
     "name": "stderr",
     "output_type": "stream",
     "text": [
      "DEBUG:Token-level confusion matrix:\n",
      "go\\gu  \tPER    \tORG    \tLOC    \tMISC   \tO      \n",
      "PER    \t711.00 \t32.00  \t21.00  \t13.00  \t47.00  \n",
      "ORG    \t147.00 \t88.00  \t24.00  \t18.00  \t114.00 \n",
      "LOC    \t38.00  \t61.00  \t393.00 \t23.00  \t62.00  \n",
      "MISC   \t52.00  \t36.00  \t29.00  \t82.00  \t59.00  \n",
      "O      \t114.00 \t37.00  \t25.00  \t11.00  \t6929.00\n",
      "\n",
      "DEBUG:Token-level scores:\n",
      "label\tacc  \tprec \trec  \tf1   \n",
      "PER  \t0.95 \t0.67 \t0.86 \t0.75 \n",
      "ORG  \t0.95 \t0.35 \t0.23 \t0.27 \n",
      "LOC  \t0.97 \t0.80 \t0.68 \t0.74 \n",
      "MISC \t0.97 \t0.56 \t0.32 \t0.40 \n",
      "O    \t0.95 \t0.96 \t0.97 \t0.97 \n",
      "micro\t0.96 \t0.89 \t0.89 \t0.89 \n",
      "macro\t0.96 \t0.67 \t0.61 \t0.63 \n",
      "not-O\t0.96 \t0.65 \t0.62 \t0.64 \n",
      "\n",
      "INFO:Entity level P/R/F1: 0.54/0.57/0.56\n",
      "INFO:Epoch 7 out of 10\n"
     ]
    },
    {
     "name": "stdout",
     "output_type": "stream",
     "text": [
      "\n",
      "5/5 [==============================] - 0s - train loss: 0.3376     "
     ]
    },
    {
     "name": "stderr",
     "output_type": "stream",
     "text": [
      "INFO:Evaluating on development data\n"
     ]
    },
    {
     "name": "stdout",
     "output_type": "stream",
     "text": [
      "\n",
      "\n",
      "5/5 [==============================] - 0s     \n"
     ]
    },
    {
     "name": "stderr",
     "output_type": "stream",
     "text": [
      "DEBUG:Token-level confusion matrix:\n",
      "go\\gu  \tPER    \tORG    \tLOC    \tMISC   \tO      \n",
      "PER    \t709.00 \t21.00  \t18.00  \t10.00  \t66.00  \n",
      "ORG    \t136.00 \t94.00  \t24.00  \t13.00  \t124.00 \n",
      "LOC    \t40.00  \t23.00  \t417.00 \t19.00  \t78.00  \n",
      "MISC   \t48.00  \t27.00  \t28.00  \t91.00  \t64.00  \n",
      "O      \t63.00  \t34.00  \t15.00  \t6.00   \t6998.00\n",
      "\n",
      "DEBUG:Token-level scores:\n",
      "label\tacc  \tprec \trec  \tf1   \n",
      "PER  \t0.96 \t0.71 \t0.86 \t0.78 \n",
      "ORG  \t0.96 \t0.47 \t0.24 \t0.32 \n",
      "LOC  \t0.97 \t0.83 \t0.72 \t0.77 \n",
      "MISC \t0.98 \t0.65 \t0.35 \t0.46 \n",
      "O    \t0.95 \t0.95 \t0.98 \t0.97 \n",
      "micro\t0.96 \t0.91 \t0.91 \t0.91 \n",
      "macro\t0.96 \t0.72 \t0.63 \t0.66 \n",
      "not-O\t0.97 \t0.71 \t0.64 \t0.67 \n",
      "\n",
      "INFO:Entity level P/R/F1: 0.60/0.58/0.59\n",
      "INFO:Epoch 8 out of 10\n"
     ]
    },
    {
     "name": "stdout",
     "output_type": "stream",
     "text": [
      "\n",
      "5/5 [==============================] - 0s - train loss: 0.3097     "
     ]
    },
    {
     "name": "stderr",
     "output_type": "stream",
     "text": [
      "INFO:Evaluating on development data\n"
     ]
    },
    {
     "name": "stdout",
     "output_type": "stream",
     "text": [
      "\n",
      "\n",
      "5/5 [==============================] - 0s     \n"
     ]
    },
    {
     "name": "stderr",
     "output_type": "stream",
     "text": [
      "DEBUG:Token-level confusion matrix:\n",
      "go\\gu  \tPER    \tORG    \tLOC    \tMISC   \tO      \n",
      "PER    \t720.00 \t6.00   \t21.00  \t5.00   \t72.00  \n",
      "ORG    \t159.00 \t65.00  \t24.00  \t14.00  \t129.00 \n",
      "LOC    \t39.00  \t7.00   \t444.00 \t11.00  \t76.00  \n",
      "MISC   \t50.00  \t12.00  \t35.00  \t97.00  \t64.00  \n",
      "O      \t70.00  \t14.00  \t15.00  \t3.00   \t7014.00\n",
      "\n",
      "DEBUG:Token-level scores:\n",
      "label\tacc  \tprec \trec  \tf1   \n",
      "PER  \t0.95 \t0.69 \t0.87 \t0.77 \n",
      "ORG  \t0.96 \t0.62 \t0.17 \t0.26 \n",
      "LOC  \t0.98 \t0.82 \t0.77 \t0.80 \n",
      "MISC \t0.98 \t0.75 \t0.38 \t0.50 \n",
      "O    \t0.95 \t0.95 \t0.99 \t0.97 \n",
      "micro\t0.96 \t0.91 \t0.91 \t0.91 \n",
      "macro\t0.96 \t0.77 \t0.63 \t0.66 \n",
      "not-O\t0.97 \t0.73 \t0.65 \t0.69 \n",
      "\n",
      "INFO:Entity level P/R/F1: 0.63/0.59/0.61\n",
      "INFO:Epoch 9 out of 10\n"
     ]
    },
    {
     "name": "stdout",
     "output_type": "stream",
     "text": [
      "\n",
      "5/5 [==============================] - 0s - train loss: 0.3012     "
     ]
    },
    {
     "name": "stderr",
     "output_type": "stream",
     "text": [
      "INFO:Evaluating on development data\n"
     ]
    },
    {
     "name": "stdout",
     "output_type": "stream",
     "text": [
      "\n",
      "\n",
      "5/5 [==============================] - 0s     \n"
     ]
    },
    {
     "name": "stderr",
     "output_type": "stream",
     "text": [
      "DEBUG:Token-level confusion matrix:\n",
      "go\\gu  \tPER    \tORG    \tLOC    \tMISC   \tO      \n",
      "PER    \t722.00 \t3.00   \t24.00  \t4.00   \t71.00  \n",
      "ORG    \t164.00 \t54.00  \t31.00  \t18.00  \t124.00 \n",
      "LOC    \t28.00  \t4.00   \t476.00 \t10.00  \t59.00  \n",
      "MISC   \t49.00  \t7.00   \t39.00  \t106.00 \t57.00  \n",
      "O      \t64.00  \t10.00  \t17.00  \t2.00   \t7023.00\n",
      "\n",
      "DEBUG:Token-level scores:\n",
      "label\tacc  \tprec \trec  \tf1   \n",
      "PER  \t0.96 \t0.70 \t0.88 \t0.78 \n",
      "ORG  \t0.96 \t0.69 \t0.14 \t0.23 \n",
      "LOC  \t0.98 \t0.81 \t0.82 \t0.82 \n",
      "MISC \t0.98 \t0.76 \t0.41 \t0.53 \n",
      "O    \t0.96 \t0.96 \t0.99 \t0.97 \n",
      "micro\t0.97 \t0.91 \t0.91 \t0.91 \n",
      "macro\t0.97 \t0.78 \t0.65 \t0.67 \n",
      "not-O\t0.97 \t0.74 \t0.66 \t0.70 \n",
      "\n",
      "INFO:Entity level P/R/F1: 0.64/0.60/0.62\n",
      "INFO:Epoch 10 out of 10\n"
     ]
    },
    {
     "name": "stdout",
     "output_type": "stream",
     "text": [
      "\n",
      "5/5 [==============================] - 0s - train loss: 0.2877     "
     ]
    },
    {
     "name": "stderr",
     "output_type": "stream",
     "text": [
      "INFO:Evaluating on development data\n"
     ]
    },
    {
     "name": "stdout",
     "output_type": "stream",
     "text": [
      "\n",
      "\n",
      "5/5 [==============================] - 0s     \n"
     ]
    },
    {
     "name": "stderr",
     "output_type": "stream",
     "text": [
      "DEBUG:Token-level confusion matrix:\n",
      "go\\gu  \tPER    \tORG    \tLOC    \tMISC   \tO      \n",
      "PER    \t738.00 \t3.00   \t24.00  \t5.00   \t54.00  \n",
      "ORG    \t162.00 \t65.00  \t32.00  \t20.00  \t112.00 \n",
      "LOC    \t25.00  \t5.00   \t491.00 \t13.00  \t43.00  \n",
      "MISC   \t49.00  \t8.00   \t33.00  \t113.00 \t55.00  \n",
      "O      \t68.00  \t9.00   \t11.00  \t3.00   \t7025.00\n",
      "\n",
      "DEBUG:Token-level scores:\n",
      "label\tacc  \tprec \trec  \tf1   \n",
      "PER  \t0.96 \t0.71 \t0.90 \t0.79 \n",
      "ORG  \t0.96 \t0.72 \t0.17 \t0.27 \n",
      "LOC  \t0.98 \t0.83 \t0.85 \t0.84 \n",
      "MISC \t0.98 \t0.73 \t0.44 \t0.55 \n",
      "O    \t0.96 \t0.96 \t0.99 \t0.98 \n",
      "micro\t0.97 \t0.92 \t0.92 \t0.92 \n",
      "macro\t0.97 \t0.79 \t0.67 \t0.69 \n",
      "not-O\t0.97 \t0.75 \t0.69 \t0.72 \n",
      "\n",
      "INFO:Entity level P/R/F1: 0.66/0.63/0.65\n",
      "INFO:Model did not crash!\n",
      "INFO:Passed!\n"
     ]
    },
    {
     "name": "stdout",
     "output_type": "stream",
     "text": [
      "\n"
     ]
    }
   ],
   "source": [
    "%run q1_window.py test2"
   ]
  },
  {
   "cell_type": "code",
   "execution_count": 16,
   "metadata": {},
   "outputs": [
    {
     "name": "stderr",
     "output_type": "stream",
     "text": [
      "INFO:Loading training data...\n",
      "INFO:Done. Read 14041 sentences\n",
      "INFO:Loading dev data...\n",
      "INFO:Done. Read 3250 sentences\n",
      "INFO:Built dictionary for 10007 features.\n",
      "INFO:Initialized embeddings.\n",
      "INFO:Building model...\n",
      "INFO:took 0.10 seconds\n",
      "INFO:Epoch 1 out of 10\n"
     ]
    },
    {
     "name": "stdout",
     "output_type": "stream",
     "text": [
      "100/100 [==============================] - 0s - train loss: 0.3635     "
     ]
    },
    {
     "name": "stderr",
     "output_type": "stream",
     "text": [
      "INFO:Evaluating on development data\n"
     ]
    },
    {
     "name": "stdout",
     "output_type": "stream",
     "text": [
      "\n",
      "\n",
      "26/26 [==============================] - 0s     \n"
     ]
    },
    {
     "name": "stderr",
     "output_type": "stream",
     "text": [
      "DEBUG:Token-level confusion matrix:\n",
      "go\\gu   \tPER     \tORG     \tLOC     \tMISC    \tO       \n",
      "PER     \t2677.00 \t165.00  \t94.00   \t13.00   \t200.00  \n",
      "ORG     \t425.00  \t1000.00 \t246.00  \t116.00  \t305.00  \n",
      "LOC     \t144.00  \t249.00  \t1399.00 \t112.00  \t190.00  \n",
      "MISC    \t118.00  \t220.00  \t126.00  \t613.00  \t191.00  \n",
      "O       \t119.00  \t144.00  \t34.00   \t28.00   \t42434.00\n",
      "\n",
      "DEBUG:Token-level scores:\n",
      "label\tacc  \tprec \trec  \tf1   \n",
      "PER  \t0.98 \t0.77 \t0.85 \t0.81 \n",
      "ORG  \t0.96 \t0.56 \t0.48 \t0.52 \n",
      "LOC  \t0.98 \t0.74 \t0.67 \t0.70 \n",
      "MISC \t0.98 \t0.70 \t0.48 \t0.57 \n",
      "O    \t0.98 \t0.98 \t0.99 \t0.99 \n",
      "micro\t0.97 \t0.94 \t0.94 \t0.94 \n",
      "macro\t0.97 \t0.75 \t0.69 \t0.72 \n",
      "not-O\t0.97 \t0.71 \t0.66 \t0.68 \n",
      "\n",
      "INFO:Entity level P/R/F1: 0.59/0.61/0.60\n",
      "INFO:New best score! Saving model in results/window/20171230_084055/model.weights\n",
      "INFO:Epoch 2 out of 10\n"
     ]
    },
    {
     "name": "stdout",
     "output_type": "stream",
     "text": [
      "\n",
      "100/100 [==============================] - 0s - train loss: 0.1947     "
     ]
    },
    {
     "name": "stderr",
     "output_type": "stream",
     "text": [
      "INFO:Evaluating on development data\n"
     ]
    },
    {
     "name": "stdout",
     "output_type": "stream",
     "text": [
      "\n",
      "\n",
      "26/26 [==============================] - 0s     \n"
     ]
    },
    {
     "name": "stderr",
     "output_type": "stream",
     "text": [
      "DEBUG:Token-level confusion matrix:\n",
      "go\\gu   \tPER     \tORG     \tLOC     \tMISC    \tO       \n",
      "PER     \t2857.00 \t71.00   \t71.00   \t6.00    \t144.00  \n",
      "ORG     \t435.00  \t1127.00 \t181.00  \t107.00  \t242.00  \n",
      "LOC     \t147.00  \t210.00  \t1543.00 \t71.00   \t123.00  \n",
      "MISC    \t116.00  \t144.00  \t114.00  \t739.00  \t155.00  \n",
      "O       \t106.00  \t83.00   \t32.00   \t25.00   \t42513.00\n",
      "\n",
      "DEBUG:Token-level scores:\n",
      "label\tacc  \tprec \trec  \tf1   \n",
      "PER  \t0.98 \t0.78 \t0.91 \t0.84 \n",
      "ORG  \t0.97 \t0.69 \t0.54 \t0.60 \n",
      "LOC  \t0.98 \t0.79 \t0.74 \t0.76 \n",
      "MISC \t0.99 \t0.78 \t0.58 \t0.67 \n",
      "O    \t0.98 \t0.98 \t0.99 \t0.99 \n",
      "micro\t0.98 \t0.95 \t0.95 \t0.95 \n",
      "macro\t0.98 \t0.81 \t0.75 \t0.77 \n",
      "not-O\t0.98 \t0.77 \t0.73 \t0.75 \n",
      "\n",
      "INFO:Entity level P/R/F1: 0.66/0.69/0.68\n",
      "INFO:New best score! Saving model in results/window/20171230_084055/model.weights\n",
      "INFO:Epoch 3 out of 10\n"
     ]
    },
    {
     "name": "stdout",
     "output_type": "stream",
     "text": [
      "\n",
      "100/100 [==============================] - 0s - train loss: 0.1552     "
     ]
    },
    {
     "name": "stderr",
     "output_type": "stream",
     "text": [
      "INFO:Evaluating on development data\n"
     ]
    },
    {
     "name": "stdout",
     "output_type": "stream",
     "text": [
      "\n",
      "\n",
      "26/26 [==============================] - 0s     \n"
     ]
    },
    {
     "name": "stderr",
     "output_type": "stream",
     "text": [
      "DEBUG:Token-level confusion matrix:\n",
      "go\\gu   \tPER     \tORG     \tLOC     \tMISC    \tO       \n",
      "PER     \t2815.00 \t155.00  \t68.00   \t9.00    \t102.00  \n",
      "ORG     \t217.00  \t1456.00 \t157.00  \t54.00   \t208.00  \n",
      "LOC     \t76.00   \t282.00  \t1626.00 \t32.00   \t78.00   \n",
      "MISC    \t65.00   \t196.00  \t101.00  \t772.00  \t134.00  \n",
      "O       \t76.00   \t107.00  \t19.00   \t26.00   \t42531.00\n",
      "\n",
      "DEBUG:Token-level scores:\n",
      "label\tacc  \tprec \trec  \tf1   \n",
      "PER  \t0.99 \t0.87 \t0.89 \t0.88 \n",
      "ORG  \t0.97 \t0.66 \t0.70 \t0.68 \n",
      "LOC  \t0.98 \t0.82 \t0.78 \t0.80 \n",
      "MISC \t0.99 \t0.86 \t0.61 \t0.71 \n",
      "O    \t0.99 \t0.99 \t0.99 \t0.99 \n",
      "micro\t0.98 \t0.96 \t0.96 \t0.96 \n",
      "macro\t0.98 \t0.84 \t0.79 \t0.81 \n",
      "not-O\t0.98 \t0.80 \t0.78 \t0.79 \n",
      "\n",
      "INFO:Entity level P/R/F1: 0.70/0.74/0.72\n",
      "INFO:New best score! Saving model in results/window/20171230_084055/model.weights\n",
      "INFO:Epoch 4 out of 10\n"
     ]
    },
    {
     "name": "stdout",
     "output_type": "stream",
     "text": [
      "\n",
      "100/100 [==============================] - 0s - train loss: 0.1267     "
     ]
    },
    {
     "name": "stderr",
     "output_type": "stream",
     "text": [
      "INFO:Evaluating on development data\n"
     ]
    },
    {
     "name": "stdout",
     "output_type": "stream",
     "text": [
      "\n",
      "\n",
      "26/26 [==============================] - 0s     \n"
     ]
    },
    {
     "name": "stderr",
     "output_type": "stream",
     "text": [
      "DEBUG:Token-level confusion matrix:\n",
      "go\\gu   \tPER     \tORG     \tLOC     \tMISC    \tO       \n",
      "PER     \t2919.00 \t72.00   \t57.00   \t12.00   \t89.00   \n",
      "ORG     \t242.00  \t1447.00 \t160.00  \t64.00   \t179.00  \n",
      "LOC     \t92.00   \t171.00  \t1738.00 \t29.00   \t64.00   \n",
      "MISC    \t73.00   \t120.00  \t75.00   \t874.00  \t126.00  \n",
      "O       \t70.00   \t71.00   \t16.00   \t31.00   \t42571.00\n",
      "\n",
      "DEBUG:Token-level scores:\n",
      "label\tacc  \tprec \trec  \tf1   \n",
      "PER  \t0.99 \t0.86 \t0.93 \t0.89 \n",
      "ORG  \t0.98 \t0.77 \t0.69 \t0.73 \n",
      "LOC  \t0.99 \t0.85 \t0.83 \t0.84 \n",
      "MISC \t0.99 \t0.87 \t0.69 \t0.77 \n",
      "O    \t0.99 \t0.99 \t1.00 \t0.99 \n",
      "micro\t0.99 \t0.96 \t0.96 \t0.96 \n",
      "macro\t0.99 \t0.87 \t0.83 \t0.84 \n",
      "not-O\t0.99 \t0.84 \t0.81 \t0.82 \n",
      "\n",
      "INFO:Entity level P/R/F1: 0.74/0.78/0.76\n",
      "INFO:New best score! Saving model in results/window/20171230_084055/model.weights\n",
      "INFO:Epoch 5 out of 10\n"
     ]
    },
    {
     "name": "stdout",
     "output_type": "stream",
     "text": [
      "\n",
      "100/100 [==============================] - 0s - train loss: 0.1058     "
     ]
    },
    {
     "name": "stderr",
     "output_type": "stream",
     "text": [
      "INFO:Evaluating on development data\n"
     ]
    },
    {
     "name": "stdout",
     "output_type": "stream",
     "text": [
      "\n",
      "\n",
      "26/26 [==============================] - 0s     \n"
     ]
    },
    {
     "name": "stderr",
     "output_type": "stream",
     "text": [
      "DEBUG:Token-level confusion matrix:\n",
      "go\\gu   \tPER     \tORG     \tLOC     \tMISC    \tO       \n",
      "PER     \t2882.00 \t72.00   \t69.00   \t20.00   \t106.00  \n",
      "ORG     \t174.00  \t1548.00 \t127.00  \t61.00   \t182.00  \n",
      "LOC     \t56.00   \t193.00  \t1744.00 \t27.00   \t74.00   \n",
      "MISC    \t53.00   \t93.00   \t63.00   \t936.00  \t123.00  \n",
      "O       \t51.00   \t63.00   \t17.00   \t30.00   \t42598.00\n",
      "\n",
      "DEBUG:Token-level scores:\n",
      "label\tacc  \tprec \trec  \tf1   \n",
      "PER  \t0.99 \t0.90 \t0.92 \t0.91 \n",
      "ORG  \t0.98 \t0.79 \t0.74 \t0.76 \n",
      "LOC  \t0.99 \t0.86 \t0.83 \t0.85 \n",
      "MISC \t0.99 \t0.87 \t0.74 \t0.80 \n",
      "O    \t0.99 \t0.99 \t1.00 \t0.99 \n",
      "micro\t0.99 \t0.97 \t0.97 \t0.97 \n",
      "macro\t0.99 \t0.88 \t0.84 \t0.86 \n",
      "not-O\t0.99 \t0.86 \t0.83 \t0.84 \n",
      "\n",
      "INFO:Entity level P/R/F1: 0.77/0.80/0.78\n",
      "INFO:New best score! Saving model in results/window/20171230_084055/model.weights\n",
      "INFO:Epoch 6 out of 10\n"
     ]
    },
    {
     "name": "stdout",
     "output_type": "stream",
     "text": [
      "\n",
      "100/100 [==============================] - 0s - train loss: 0.0891     "
     ]
    },
    {
     "name": "stderr",
     "output_type": "stream",
     "text": [
      "INFO:Evaluating on development data\n"
     ]
    },
    {
     "name": "stdout",
     "output_type": "stream",
     "text": [
      "\n",
      "\n",
      "26/26 [==============================] - 0s     \n"
     ]
    },
    {
     "name": "stderr",
     "output_type": "stream",
     "text": [
      "DEBUG:Token-level confusion matrix:\n",
      "go\\gu   \tPER     \tORG     \tLOC     \tMISC    \tO       \n",
      "PER     \t2898.00 \t82.00   \t96.00   \t15.00   \t58.00   \n",
      "ORG     \t167.00  \t1595.00 \t130.00  \t56.00   \t144.00  \n",
      "LOC     \t54.00   \t177.00  \t1795.00 \t16.00   \t52.00   \n",
      "MISC    \t52.00   \t88.00   \t66.00   \t948.00  \t114.00  \n",
      "O       \t51.00   \t60.00   \t21.00   \t30.00   \t42597.00\n",
      "\n",
      "DEBUG:Token-level scores:\n",
      "label\tacc  \tprec \trec  \tf1   \n",
      "PER  \t0.99 \t0.90 \t0.92 \t0.91 \n",
      "ORG  \t0.98 \t0.80 \t0.76 \t0.78 \n",
      "LOC  \t0.99 \t0.85 \t0.86 \t0.85 \n",
      "MISC \t0.99 \t0.89 \t0.75 \t0.81 \n",
      "O    \t0.99 \t0.99 \t1.00 \t0.99 \n",
      "micro\t0.99 \t0.97 \t0.97 \t0.97 \n",
      "macro\t0.99 \t0.89 \t0.86 \t0.87 \n",
      "not-O\t0.99 \t0.86 \t0.84 \t0.85 \n",
      "\n",
      "INFO:Entity level P/R/F1: 0.78/0.81/0.80\n",
      "INFO:New best score! Saving model in results/window/20171230_084055/model.weights\n",
      "INFO:Epoch 7 out of 10\n"
     ]
    },
    {
     "name": "stdout",
     "output_type": "stream",
     "text": [
      "\n",
      "100/100 [==============================] - 0s - train loss: 0.0765     "
     ]
    },
    {
     "name": "stderr",
     "output_type": "stream",
     "text": [
      "INFO:Evaluating on development data\n"
     ]
    },
    {
     "name": "stdout",
     "output_type": "stream",
     "text": [
      "\n",
      "\n",
      "26/26 [==============================] - 0s     \n"
     ]
    },
    {
     "name": "stderr",
     "output_type": "stream",
     "text": [
      "DEBUG:Token-level confusion matrix:\n",
      "go\\gu   \tPER     \tORG     \tLOC     \tMISC    \tO       \n",
      "PER     \t2979.00 \t44.00   \t42.00   \t16.00   \t68.00   \n",
      "ORG     \t173.00  \t1596.00 \t119.00  \t55.00   \t149.00  \n",
      "LOC     \t69.00   \t147.00  \t1805.00 \t24.00   \t49.00   \n",
      "MISC    \t58.00   \t68.00   \t56.00   \t981.00  \t105.00  \n",
      "O       \t59.00   \t54.00   \t13.00   \t32.00   \t42601.00\n",
      "\n",
      "DEBUG:Token-level scores:\n",
      "label\tacc  \tprec \trec  \tf1   \n",
      "PER  \t0.99 \t0.89 \t0.95 \t0.92 \n",
      "ORG  \t0.98 \t0.84 \t0.76 \t0.80 \n",
      "LOC  \t0.99 \t0.89 \t0.86 \t0.87 \n",
      "MISC \t0.99 \t0.89 \t0.77 \t0.83 \n",
      "O    \t0.99 \t0.99 \t1.00 \t0.99 \n",
      "micro\t0.99 \t0.97 \t0.97 \t0.97 \n",
      "macro\t0.99 \t0.90 \t0.87 \t0.88 \n",
      "not-O\t0.99 \t0.88 \t0.86 \t0.87 \n",
      "\n",
      "INFO:Entity level P/R/F1: 0.80/0.83/0.82\n",
      "INFO:New best score! Saving model in results/window/20171230_084055/model.weights\n",
      "INFO:Epoch 8 out of 10\n"
     ]
    },
    {
     "name": "stdout",
     "output_type": "stream",
     "text": [
      "\n",
      "100/100 [==============================] - 0s - train loss: 0.0675     "
     ]
    },
    {
     "name": "stderr",
     "output_type": "stream",
     "text": [
      "INFO:Evaluating on development data\n"
     ]
    },
    {
     "name": "stdout",
     "output_type": "stream",
     "text": [
      "\n",
      "\n",
      "26/26 [==============================] - 0s     \n"
     ]
    },
    {
     "name": "stderr",
     "output_type": "stream",
     "text": [
      "DEBUG:Token-level confusion matrix:\n",
      "go\\gu   \tPER     \tORG     \tLOC     \tMISC    \tO       \n",
      "PER     \t2938.00 \t38.00   \t79.00   \t16.00   \t78.00   \n",
      "ORG     \t143.00  \t1617.00 \t132.00  \t50.00   \t150.00  \n",
      "LOC     \t54.00   \t117.00  \t1846.00 \t22.00   \t55.00   \n",
      "MISC    \t47.00   \t58.00   \t53.00   \t993.00  \t117.00  \n",
      "O       \t40.00   \t41.00   \t17.00   \t27.00   \t42634.00\n",
      "\n",
      "DEBUG:Token-level scores:\n",
      "label\tacc  \tprec \trec  \tf1   \n",
      "PER  \t0.99 \t0.91 \t0.93 \t0.92 \n",
      "ORG  \t0.99 \t0.86 \t0.77 \t0.82 \n",
      "LOC  \t0.99 \t0.87 \t0.88 \t0.87 \n",
      "MISC \t0.99 \t0.90 \t0.78 \t0.84 \n",
      "O    \t0.99 \t0.99 \t1.00 \t0.99 \n",
      "micro\t0.99 \t0.97 \t0.97 \t0.97 \n",
      "macro\t0.99 \t0.91 \t0.87 \t0.89 \n",
      "not-O\t0.99 \t0.89 \t0.86 \t0.87 \n",
      "\n",
      "INFO:Entity level P/R/F1: 0.81/0.84/0.82\n",
      "INFO:New best score! Saving model in results/window/20171230_084055/model.weights\n",
      "INFO:Epoch 9 out of 10\n"
     ]
    },
    {
     "name": "stdout",
     "output_type": "stream",
     "text": [
      "\n",
      "100/100 [==============================] - 0s - train loss: 0.0599     "
     ]
    },
    {
     "name": "stderr",
     "output_type": "stream",
     "text": [
      "INFO:Evaluating on development data\n"
     ]
    },
    {
     "name": "stdout",
     "output_type": "stream",
     "text": [
      "\n",
      "\n",
      "26/26 [==============================] - 0s     \n"
     ]
    },
    {
     "name": "stderr",
     "output_type": "stream",
     "text": [
      "DEBUG:Token-level confusion matrix:\n",
      "go\\gu   \tPER     \tORG     \tLOC     \tMISC    \tO       \n",
      "PER     \t2935.00 \t49.00   \t62.00   \t28.00   \t75.00   \n",
      "ORG     \t138.00  \t1644.00 \t114.00  \t75.00   \t121.00  \n",
      "LOC     \t48.00   \t129.00  \t1828.00 \t44.00   \t45.00   \n",
      "MISC    \t46.00   \t51.00   \t38.00   \t1028.00 \t105.00  \n",
      "O       \t37.00   \t56.00   \t17.00   \t32.00   \t42617.00\n",
      "\n",
      "DEBUG:Token-level scores:\n",
      "label\tacc  \tprec \trec  \tf1   \n",
      "PER  \t0.99 \t0.92 \t0.93 \t0.92 \n",
      "ORG  \t0.99 \t0.85 \t0.79 \t0.82 \n",
      "LOC  \t0.99 \t0.89 \t0.87 \t0.88 \n",
      "MISC \t0.99 \t0.85 \t0.81 \t0.83 \n",
      "O    \t0.99 \t0.99 \t1.00 \t0.99 \n",
      "micro\t0.99 \t0.97 \t0.97 \t0.97 \n",
      "macro\t0.99 \t0.90 \t0.88 \t0.89 \n",
      "not-O\t0.99 \t0.89 \t0.86 \t0.87 \n",
      "\n",
      "INFO:Entity level P/R/F1: 0.81/0.84/0.82\n",
      "INFO:Epoch 10 out of 10\n"
     ]
    },
    {
     "name": "stdout",
     "output_type": "stream",
     "text": [
      "\n",
      "100/100 [==============================] - 0s - train loss: 0.0540     "
     ]
    },
    {
     "name": "stderr",
     "output_type": "stream",
     "text": [
      "INFO:Evaluating on development data\n"
     ]
    },
    {
     "name": "stdout",
     "output_type": "stream",
     "text": [
      "\n",
      "\n",
      "26/26 [==============================] - 0s     \n"
     ]
    },
    {
     "name": "stderr",
     "output_type": "stream",
     "text": [
      "DEBUG:Token-level confusion matrix:\n",
      "go\\gu   \tPER     \tORG     \tLOC     \tMISC    \tO       \n",
      "PER     \t2972.00 \t38.00   \t68.00   \t16.00   \t55.00   \n",
      "ORG     \t149.00  \t1641.00 \t117.00  \t55.00   \t130.00  \n",
      "LOC     \t49.00   \t114.00  \t1871.00 \t23.00   \t37.00   \n",
      "MISC    \t49.00   \t50.00   \t57.00   \t1004.00 \t108.00  \n",
      "O       \t48.00   \t45.00   \t18.00   \t27.00   \t42621.00\n",
      "\n",
      "DEBUG:Token-level scores:\n",
      "label\tacc  \tprec \trec  \tf1   \n",
      "PER  \t0.99 \t0.91 \t0.94 \t0.93 \n",
      "ORG  \t0.99 \t0.87 \t0.78 \t0.82 \n",
      "LOC  \t0.99 \t0.88 \t0.89 \t0.89 \n",
      "MISC \t0.99 \t0.89 \t0.79 \t0.84 \n",
      "O    \t0.99 \t0.99 \t1.00 \t0.99 \n",
      "micro\t0.99 \t0.98 \t0.98 \t0.98 \n",
      "macro\t0.99 \t0.91 \t0.88 \t0.89 \n",
      "not-O\t0.99 \t0.89 \t0.87 \t0.88 \n",
      "\n",
      "INFO:Entity level P/R/F1: 0.82/0.85/0.83\n",
      "INFO:New best score! Saving model in results/window/20171230_084055/model.weights\n"
     ]
    },
    {
     "name": "stdout",
     "output_type": "stream",
     "text": [
      "\n",
      "26/26 [==============================] - 0s     \n"
     ]
    }
   ],
   "source": [
    "%run q1_window.py train"
   ]
  },
  {
   "cell_type": "code",
   "execution_count": 17,
   "metadata": {},
   "outputs": [
    {
     "name": "stderr",
     "output_type": "stream",
     "text": [
      "INFO:Testing rnn_cell\n",
      "INFO:Passed!\n"
     ]
    },
    {
     "name": "stdout",
     "output_type": "stream",
     "text": [
      "y_ = [[ 0.83201838  0.88079703]\n",
      " [ 0.7310586   0.62245935]]\n",
      "ht_ = [[ 0.83201838  0.88079703]\n",
      " [ 0.7310586   0.62245935]]\n"
     ]
    }
   ],
   "source": [
    "%run q2_rnn_cell.py test"
   ]
  },
  {
   "cell_type": "code",
   "execution_count": 21,
   "metadata": {},
   "outputs": [
    {
     "name": "stderr",
     "output_type": "stream",
     "text": [
      "INFO:Testing pad_sequences\n",
      "INFO:Passed!\n"
     ]
    }
   ],
   "source": [
    "%run q2_rnn.py test1"
   ]
  },
  {
   "cell_type": "code",
   "execution_count": 29,
   "metadata": {
    "scrolled": true
   },
   "outputs": [
    {
     "name": "stderr",
     "output_type": "stream",
     "text": [
      "INFO:Testing implementation of RNNModel\n",
      "INFO:Loading training data...\n",
      "INFO:Done. Read 721 sentences\n",
      "INFO:Loading dev data...\n",
      "INFO:Done. Read 721 sentences\n",
      "INFO:Built dictionary for 2653 features.\n",
      "INFO:Initialized embeddings.\n",
      "INFO:Building model...\n",
      "/opt/conda/lib/python2.7/site-packages/tensorflow/python/ops/gradients_impl.py:96: UserWarning: Converting sparse IndexedSlices to a dense Tensor of unknown shape. This may consume a large amount of memory.\n",
      "  \"Converting sparse IndexedSlices to a dense Tensor of unknown shape. \"\n",
      "INFO:took 2.51 seconds\n",
      "INFO:Epoch 1 out of 10\n"
     ]
    },
    {
     "name": "stdout",
     "output_type": "stream",
     "text": [
      "23/23 [==============================] - 0s - train loss: 7.9036     "
     ]
    },
    {
     "name": "stderr",
     "output_type": "stream",
     "text": [
      "INFO:Evaluating on development data\n"
     ]
    },
    {
     "name": "stdout",
     "output_type": "stream",
     "text": [
      "\n",
      "\n",
      "23/23 [==============================] - 3s     "
     ]
    },
    {
     "name": "stderr",
     "output_type": "stream",
     "text": [
      "DEBUG:Token-level confusion matrix:\n",
      "go\\gu  \tPER    \tORG    \tLOC    \tMISC   \tO      \n",
      "PER    \t679.00 \t0.00   \t29.00  \t6.00   \t110.00 \n",
      "ORG    \t182.00 \t0.00   \t49.00  \t23.00  \t137.00 \n",
      "LOC    \t92.00  \t0.00   \t319.00 \t27.00  \t139.00 \n",
      "MISC   \t67.00  \t0.00   \t14.00  \t80.00  \t97.00  \n",
      "O      \t106.00 \t0.00   \t115.00 \t0.00   \t6895.00\n",
      "\n",
      "DEBUG:Token-level scores:\n",
      "label\tacc  \tprec \trec  \tf1   \n",
      "PER  \t0.94 \t0.60 \t0.82 \t0.70 \n",
      "ORG  \t0.00 \t0.00 \t0.00 \t0.00 \n",
      "LOC  \t0.95 \t0.61 \t0.55 \t0.58 \n",
      "MISC \t0.97 \t0.59 \t0.31 \t0.41 \n",
      "O    \t0.92 \t0.93 \t0.97 \t0.95 \n",
      "micro\t0.95 \t0.87 \t0.87 \t0.87 \n",
      "macro\t0.76 \t0.55 \t0.53 \t0.53 \n",
      "not-O\t0.95 \t0.60 \t0.53 \t0.56 \n",
      "\n",
      "INFO:Entity level P/R/F1: 0.55/0.48/0.51\n",
      "INFO:Epoch 2 out of 10\n"
     ]
    },
    {
     "name": "stdout",
     "output_type": "stream",
     "text": [
      "\n",
      "\n",
      "23/23 [==============================] - ETA: 0s - train loss: 4.862 - 0s - train loss: 4.9817     "
     ]
    },
    {
     "name": "stderr",
     "output_type": "stream",
     "text": [
      "INFO:Evaluating on development data\n"
     ]
    },
    {
     "name": "stdout",
     "output_type": "stream",
     "text": [
      "\n",
      "\n",
      "23/23 [==============================] - 3s     "
     ]
    },
    {
     "name": "stderr",
     "output_type": "stream",
     "text": [
      "DEBUG:Token-level confusion matrix:\n",
      "go\\gu  \tPER    \tORG    \tLOC    \tMISC   \tO      \n",
      "PER    \t703.00 \t0.00   \t43.00  \t2.00   \t76.00  \n",
      "ORG    \t188.00 \t10.00  \t57.00  \t12.00  \t124.00 \n",
      "LOC    \t57.00  \t2.00   \t428.00 \t5.00   \t85.00  \n",
      "MISC   \t68.00  \t2.00   \t58.00  \t55.00  \t75.00  \n",
      "O      \t75.00  \t0.00   \t96.00  \t0.00   \t6945.00\n",
      "\n",
      "DEBUG:Token-level scores:\n",
      "label\tacc  \tprec \trec  \tf1   \n",
      "PER  \t0.94 \t0.64 \t0.85 \t0.73 \n",
      "ORG  \t0.96 \t0.71 \t0.03 \t0.05 \n",
      "LOC  \t0.96 \t0.63 \t0.74 \t0.68 \n",
      "MISC \t0.98 \t0.74 \t0.21 \t0.33 \n",
      "O    \t0.94 \t0.95 \t0.98 \t0.96 \n",
      "micro\t0.96 \t0.89 \t0.89 \t0.89 \n",
      "macro\t0.96 \t0.74 \t0.56 \t0.55 \n",
      "not-O\t0.96 \t0.64 \t0.58 \t0.61 \n",
      "\n",
      "INFO:Entity level P/R/F1: 0.57/0.54/0.55\n",
      "INFO:Epoch 3 out of 10\n"
     ]
    },
    {
     "name": "stdout",
     "output_type": "stream",
     "text": [
      "\n",
      "\n",
      "23/23 [==============================] - 0s - train loss: 4.2845     "
     ]
    },
    {
     "name": "stderr",
     "output_type": "stream",
     "text": [
      "INFO:Evaluating on development data\n"
     ]
    },
    {
     "name": "stdout",
     "output_type": "stream",
     "text": [
      "\n",
      "\n",
      "23/23 [==============================] - 3s     "
     ]
    },
    {
     "name": "stderr",
     "output_type": "stream",
     "text": [
      "DEBUG:Token-level confusion matrix:\n",
      "go\\gu  \tPER    \tORG    \tLOC    \tMISC   \tO      \n",
      "PER    \t711.00 \t10.00  \t30.00  \t1.00   \t72.00  \n",
      "ORG    \t131.00 \t81.00  \t41.00  \t6.00   \t132.00 \n",
      "LOC    \t28.00  \t25.00  \t459.00 \t2.00   \t63.00  \n",
      "MISC   \t44.00  \t25.00  \t55.00  \t53.00  \t81.00  \n",
      "O      \t56.00  \t12.00  \t34.00  \t0.00   \t7014.00\n",
      "\n",
      "DEBUG:Token-level scores:\n",
      "label\tacc  \tprec \trec  \tf1   \n",
      "PER  \t0.96 \t0.73 \t0.86 \t0.79 \n",
      "ORG  \t0.96 \t0.53 \t0.21 \t0.30 \n",
      "LOC  \t0.97 \t0.74 \t0.80 \t0.77 \n",
      "MISC \t0.98 \t0.85 \t0.21 \t0.33 \n",
      "O    \t0.95 \t0.95 \t0.99 \t0.97 \n",
      "micro\t0.96 \t0.91 \t0.91 \t0.91 \n",
      "macro\t0.96 \t0.76 \t0.61 \t0.63 \n",
      "not-O\t0.97 \t0.72 \t0.64 \t0.68 \n",
      "\n",
      "INFO:Entity level P/R/F1: 0.62/0.58/0.60\n",
      "INFO:Epoch 4 out of 10\n"
     ]
    },
    {
     "name": "stdout",
     "output_type": "stream",
     "text": [
      "\n",
      "\n",
      "23/23 [==============================] - 0s - train loss: 3.7354     "
     ]
    },
    {
     "name": "stderr",
     "output_type": "stream",
     "text": [
      "INFO:Evaluating on development data\n"
     ]
    },
    {
     "name": "stdout",
     "output_type": "stream",
     "text": [
      "\n",
      "\n",
      "23/23 [==============================] - 3s     "
     ]
    },
    {
     "name": "stderr",
     "output_type": "stream",
     "text": [
      "DEBUG:Token-level confusion matrix:\n",
      "go\\gu  \tPER    \tORG    \tLOC    \tMISC   \tO      \n",
      "PER    \t738.00 \t4.00   \t20.00  \t8.00   \t54.00  \n",
      "ORG    \t153.00 \t58.00  \t43.00  \t23.00  \t114.00 \n",
      "LOC    \t32.00  \t7.00   \t468.00 \t15.00  \t55.00  \n",
      "MISC   \t38.00  \t13.00  \t16.00  \t129.00 \t62.00  \n",
      "O      \t60.00  \t12.00  \t16.00  \t1.00   \t7027.00\n",
      "\n",
      "DEBUG:Token-level scores:\n",
      "label\tacc  \tprec \trec  \tf1   \n",
      "PER  \t0.96 \t0.72 \t0.90 \t0.80 \n",
      "ORG  \t0.96 \t0.62 \t0.15 \t0.24 \n",
      "LOC  \t0.98 \t0.83 \t0.81 \t0.82 \n",
      "MISC \t0.98 \t0.73 \t0.50 \t0.59 \n",
      "O    \t0.96 \t0.96 \t0.99 \t0.97 \n",
      "micro\t0.97 \t0.92 \t0.92 \t0.92 \n",
      "macro\t0.97 \t0.77 \t0.67 \t0.69 \n",
      "not-O\t0.97 \t0.75 \t0.68 \t0.71 \n",
      "\n",
      "INFO:Entity level P/R/F1: 0.66/0.64/0.65\n",
      "INFO:Epoch 5 out of 10\n"
     ]
    },
    {
     "name": "stdout",
     "output_type": "stream",
     "text": [
      "\n",
      "\n",
      "23/23 [==============================] - 0s - train loss: 3.4559     "
     ]
    },
    {
     "name": "stderr",
     "output_type": "stream",
     "text": [
      "INFO:Evaluating on development data\n"
     ]
    },
    {
     "name": "stdout",
     "output_type": "stream",
     "text": [
      "\n",
      "\n",
      "23/23 [==============================] - 3s     \n"
     ]
    },
    {
     "name": "stderr",
     "output_type": "stream",
     "text": [
      "DEBUG:Token-level confusion matrix:\n",
      "go\\gu  \tPER    \tORG    \tLOC    \tMISC   \tO      \n",
      "PER    \t759.00 \t1.00   \t14.00  \t4.00   \t46.00  \n",
      "ORG    \t164.00 \t60.00  \t30.00  \t28.00  \t109.00 \n",
      "LOC    \t43.00  \t3.00   \t461.00 \t19.00  \t51.00  \n",
      "MISC   \t46.00  \t10.00  \t7.00   \t140.00 \t55.00  \n",
      "O      \t68.00  \t8.00   \t6.00   \t1.00   \t7033.00\n",
      "\n",
      "DEBUG:Token-level scores:\n",
      "label\tacc  \tprec \trec  \tf1   \n",
      "PER  \t0.96 \t0.70 \t0.92 \t0.80 \n",
      "ORG  \t0.96 \t0.73 \t0.15 \t0.25 \n",
      "LOC  \t0.98 \t0.89 \t0.80 \t0.84 \n",
      "MISC \t0.98 \t0.73 \t0.54 \t0.62 \n",
      "O    \t0.96 \t0.96 \t0.99 \t0.98 \n",
      "micro\t0.97 \t0.92 \t0.92 \t0.92 \n",
      "macro\t0.97 \t0.80 \t0.68 \t0.70 \n",
      "not-O\t0.97 \t0.76 \t0.69 \t0.72 \n",
      "\n",
      "INFO:Entity level P/R/F1: 0.67/0.65/0.66\n",
      "INFO:Epoch 6 out of 10\n"
     ]
    },
    {
     "name": "stdout",
     "output_type": "stream",
     "text": [
      "\n",
      "23/23 [==============================] - 0s - train loss: 3.1881     "
     ]
    },
    {
     "name": "stderr",
     "output_type": "stream",
     "text": [
      "INFO:Evaluating on development data\n"
     ]
    },
    {
     "name": "stdout",
     "output_type": "stream",
     "text": [
      "\n",
      "\n",
      "23/23 [==============================] - 3s     "
     ]
    },
    {
     "name": "stderr",
     "output_type": "stream",
     "text": [
      "DEBUG:Token-level confusion matrix:\n",
      "go\\gu  \tPER    \tORG    \tLOC    \tMISC   \tO      \n",
      "PER    \t763.00 \t3.00   \t16.00  \t5.00   \t37.00  \n",
      "ORG    \t127.00 \t92.00  \t39.00  \t26.00  \t107.00 \n",
      "LOC    \t16.00  \t12.00  \t502.00 \t10.00  \t37.00  \n",
      "MISC   \t32.00  \t13.00  \t16.00  \t145.00 \t52.00  \n",
      "O      \t56.00  \t12.00  \t7.00   \t3.00   \t7038.00\n",
      "\n",
      "DEBUG:Token-level scores:\n",
      "label\tacc  \tprec \trec  \tf1   \n",
      "PER  \t0.97 \t0.77 \t0.93 \t0.84 \n",
      "ORG  \t0.96 \t0.70 \t0.24 \t0.35 \n",
      "LOC  \t0.98 \t0.87 \t0.87 \t0.87 \n",
      "MISC \t0.98 \t0.77 \t0.56 \t0.65 \n",
      "O    \t0.97 \t0.97 \t0.99 \t0.98 \n",
      "micro\t0.97 \t0.93 \t0.93 \t0.93 \n",
      "macro\t0.97 \t0.81 \t0.72 \t0.74 \n",
      "not-O\t0.97 \t0.79 \t0.73 \t0.76 \n",
      "\n",
      "INFO:Entity level P/R/F1: 0.69/0.68/0.69\n",
      "INFO:Epoch 7 out of 10\n"
     ]
    },
    {
     "name": "stdout",
     "output_type": "stream",
     "text": [
      "\n",
      "\n",
      "23/23 [==============================] - 0s - train loss: 2.8590     "
     ]
    },
    {
     "name": "stderr",
     "output_type": "stream",
     "text": [
      "INFO:Evaluating on development data\n"
     ]
    },
    {
     "name": "stdout",
     "output_type": "stream",
     "text": [
      "\n",
      "\n",
      "23/23 [==============================] - 3s     "
     ]
    },
    {
     "name": "stderr",
     "output_type": "stream",
     "text": [
      "DEBUG:Token-level confusion matrix:\n",
      "go\\gu  \tPER    \tORG    \tLOC    \tMISC   \tO      \n",
      "PER    \t774.00 \t6.00   \t9.00   \t2.00   \t33.00  \n",
      "ORG    \t105.00 \t155.00 \t32.00  \t12.00  \t87.00  \n",
      "LOC    \t14.00  \t21.00  \t508.00 \t1.00   \t33.00  \n",
      "MISC   \t34.00  \t29.00  \t20.00  \t128.00 \t47.00  \n",
      "O      \t53.00  \t13.00  \t7.00   \t3.00   \t7040.00\n",
      "\n",
      "DEBUG:Token-level scores:\n",
      "label\tacc  \tprec \trec  \tf1   \n",
      "PER  \t0.97 \t0.79 \t0.94 \t0.86 \n",
      "ORG  \t0.97 \t0.69 \t0.40 \t0.50 \n",
      "LOC  \t0.99 \t0.88 \t0.88 \t0.88 \n",
      "MISC \t0.98 \t0.88 \t0.50 \t0.63 \n",
      "O    \t0.97 \t0.97 \t0.99 \t0.98 \n",
      "micro\t0.98 \t0.94 \t0.94 \t0.94 \n",
      "macro\t0.98 \t0.84 \t0.74 \t0.77 \n",
      "not-O\t0.98 \t0.81 \t0.76 \t0.79 \n",
      "\n",
      "INFO:Entity level P/R/F1: 0.72/0.71/0.71\n",
      "INFO:Epoch 8 out of 10\n"
     ]
    },
    {
     "name": "stdout",
     "output_type": "stream",
     "text": [
      "\n",
      "\n",
      "23/23 [==============================] - 0s - train loss: 2.5679     "
     ]
    },
    {
     "name": "stderr",
     "output_type": "stream",
     "text": [
      "INFO:Evaluating on development data\n"
     ]
    },
    {
     "name": "stdout",
     "output_type": "stream",
     "text": [
      "\n",
      "\n",
      "23/23 [==============================] - 3s     "
     ]
    },
    {
     "name": "stderr",
     "output_type": "stream",
     "text": [
      "DEBUG:Token-level confusion matrix:\n",
      "go\\gu  \tPER    \tORG    \tLOC    \tMISC   \tO      \n",
      "PER    \t762.00 \t16.00  \t8.00   \t7.00   \t31.00  \n",
      "ORG    \t54.00  \t206.00 \t27.00  \t35.00  \t69.00  \n",
      "LOC    \t9.00   \t25.00  \t499.00 \t19.00  \t25.00  \n",
      "MISC   \t19.00  \t26.00  \t8.00   \t174.00 \t31.00  \n",
      "O      \t37.00  \t24.00  \t6.00   \t4.00   \t7045.00\n",
      "\n",
      "DEBUG:Token-level scores:\n",
      "label\tacc  \tprec \trec  \tf1   \n",
      "PER  \t0.98 \t0.86 \t0.92 \t0.89 \n",
      "ORG  \t0.97 \t0.69 \t0.53 \t0.60 \n",
      "LOC  \t0.99 \t0.91 \t0.86 \t0.89 \n",
      "MISC \t0.98 \t0.73 \t0.67 \t0.70 \n",
      "O    \t0.98 \t0.98 \t0.99 \t0.98 \n",
      "micro\t0.98 \t0.95 \t0.95 \t0.95 \n",
      "macro\t0.98 \t0.84 \t0.80 \t0.81 \n",
      "not-O\t0.98 \t0.84 \t0.80 \t0.82 \n",
      "\n",
      "INFO:Entity level P/R/F1: 0.72/0.74/0.73\n",
      "INFO:Epoch 9 out of 10\n"
     ]
    },
    {
     "name": "stdout",
     "output_type": "stream",
     "text": [
      "\n",
      "\n",
      "23/23 [==============================] - 0s - train loss: 2.3539     "
     ]
    },
    {
     "name": "stderr",
     "output_type": "stream",
     "text": [
      "INFO:Evaluating on development data\n"
     ]
    },
    {
     "name": "stdout",
     "output_type": "stream",
     "text": [
      "\n",
      "\n",
      "23/23 [==============================] - 3s     "
     ]
    },
    {
     "name": "stderr",
     "output_type": "stream",
     "text": [
      "DEBUG:Token-level confusion matrix:\n",
      "go\\gu  \tPER    \tORG    \tLOC    \tMISC   \tO      \n",
      "PER    \t771.00 \t13.00  \t8.00   \t4.00   \t28.00  \n",
      "ORG    \t38.00  \t247.00 \t29.00  \t11.00  \t66.00  \n",
      "LOC    \t5.00   \t27.00  \t521.00 \t2.00   \t22.00  \n",
      "MISC   \t16.00  \t34.00  \t16.00  \t160.00 \t32.00  \n",
      "O      \t29.00  \t24.00  \t7.00   \t3.00   \t7053.00\n",
      "\n",
      "DEBUG:Token-level scores:\n",
      "label\tacc  \tprec \trec  \tf1   \n",
      "PER  \t0.98 \t0.90 \t0.94 \t0.92 \n",
      "ORG  \t0.97 \t0.72 \t0.63 \t0.67 \n",
      "LOC  \t0.99 \t0.90 \t0.90 \t0.90 \n",
      "MISC \t0.99 \t0.89 \t0.62 \t0.73 \n",
      "O    \t0.98 \t0.98 \t0.99 \t0.99 \n",
      "micro\t0.98 \t0.95 \t0.95 \t0.95 \n",
      "macro\t0.98 \t0.88 \t0.82 \t0.84 \n",
      "not-O\t0.98 \t0.86 \t0.83 \t0.85 \n",
      "\n",
      "INFO:Entity level P/R/F1: 0.76/0.78/0.77\n",
      "INFO:Epoch 10 out of 10\n"
     ]
    },
    {
     "name": "stdout",
     "output_type": "stream",
     "text": [
      "\n",
      "\n",
      "23/23 [==============================] - 0s - train loss: 2.1353     "
     ]
    },
    {
     "name": "stderr",
     "output_type": "stream",
     "text": [
      "INFO:Evaluating on development data\n"
     ]
    },
    {
     "name": "stdout",
     "output_type": "stream",
     "text": [
      "\n",
      "\n",
      "23/23 [==============================] - 3s     "
     ]
    },
    {
     "name": "stderr",
     "output_type": "stream",
     "text": [
      "DEBUG:Token-level confusion matrix:\n",
      "go\\gu  \tPER    \tORG    \tLOC    \tMISC   \tO      \n",
      "PER    \t768.00 \t20.00  \t8.00   \t7.00   \t21.00  \n",
      "ORG    \t22.00  \t266.00 \t25.00  \t23.00  \t55.00  \n",
      "LOC    \t4.00   \t32.00  \t515.00 \t7.00   \t19.00  \n",
      "MISC   \t7.00   \t32.00  \t10.00  \t185.00 \t24.00  \n",
      "O      \t16.00  \t19.00  \t3.00   \t5.00   \t7073.00\n",
      "\n",
      "DEBUG:Token-level scores:\n",
      "label\tacc  \tprec \trec  \tf1   \n",
      "PER  \t0.99 \t0.94 \t0.93 \t0.94 \n",
      "ORG  \t0.98 \t0.72 \t0.68 \t0.70 \n",
      "LOC  \t0.99 \t0.92 \t0.89 \t0.91 \n",
      "MISC \t0.99 \t0.81 \t0.72 \t0.76 \n",
      "O    \t0.98 \t0.98 \t0.99 \t0.99 \n",
      "micro\t0.98 \t0.96 \t0.96 \t0.96 \n",
      "macro\t0.98 \t0.88 \t0.84 \t0.86 \n",
      "not-O\t0.98 \t0.88 \t0.85 \t0.86 \n",
      "\n",
      "INFO:Entity level P/R/F1: 0.77/0.80/0.79\n",
      "INFO:Model did not crash!\n",
      "INFO:Passed!\n"
     ]
    },
    {
     "name": "stdout",
     "output_type": "stream",
     "text": [
      "\n",
      "\n"
     ]
    }
   ],
   "source": [
    "%run q2_rnn.py test2"
   ]
  },
  {
   "cell_type": "code",
   "execution_count": 30,
   "metadata": {},
   "outputs": [
    {
     "name": "stderr",
     "output_type": "stream",
     "text": [
      "INFO:Loading training data...\n",
      "INFO:Done. Read 14041 sentences\n",
      "INFO:Loading dev data...\n",
      "INFO:Done. Read 3250 sentences\n",
      "INFO:Built dictionary for 10007 features.\n",
      "INFO:Initialized embeddings.\n",
      "INFO:Building model...\n",
      "INFO:took 5.22 seconds\n",
      "INFO:Epoch 1 out of 10\n"
     ]
    },
    {
     "name": "stdout",
     "output_type": "stream",
     "text": [
      "439/439 [==============================] - 19s - train loss: 3.3914    "
     ]
    },
    {
     "name": "stderr",
     "output_type": "stream",
     "text": [
      "INFO:Evaluating on development data\n"
     ]
    },
    {
     "name": "stdout",
     "output_type": "stream",
     "text": [
      "\n",
      "\n",
      "102/102 [==============================] - 35s    "
     ]
    },
    {
     "name": "stderr",
     "output_type": "stream",
     "text": [
      "DEBUG:Token-level confusion matrix:\n",
      "go\\gu   \tPER     \tORG     \tLOC     \tMISC    \tO       \n",
      "PER     \t2840.00 \t87.00   \t60.00   \t5.00    \t157.00  \n",
      "ORG     \t288.00  \t1278.00 \t177.00  \t117.00  \t232.00  \n",
      "LOC     \t90.00   \t247.00  \t1593.00 \t63.00   \t101.00  \n",
      "MISC    \t67.00   \t223.00  \t72.00   \t749.00  \t157.00  \n",
      "O       \t62.00   \t96.00   \t21.00   \t38.00   \t42542.00\n",
      "\n",
      "DEBUG:Token-level scores:\n",
      "label\tacc  \tprec \trec  \tf1   \n",
      "PER  \t0.98 \t0.85 \t0.90 \t0.87 \n",
      "ORG  \t0.97 \t0.66 \t0.61 \t0.64 \n",
      "LOC  \t0.98 \t0.83 \t0.76 \t0.79 \n",
      "MISC \t0.99 \t0.77 \t0.59 \t0.67 \n",
      "O    \t0.98 \t0.99 \t0.99 \t0.99 \n",
      "micro\t0.98 \t0.95 \t0.95 \t0.95 \n",
      "macro\t0.98 \t0.82 \t0.77 \t0.79 \n",
      "not-O\t0.98 \t0.79 \t0.75 \t0.77 \n",
      "\n",
      "INFO:Entity level P/R/F1: 0.68/0.71/0.70\n",
      "INFO:New best score! Saving model in results/rnn/20171230_120803/model.weights\n"
     ]
    },
    {
     "name": "stdout",
     "output_type": "stream",
     "text": [
      "\n"
     ]
    },
    {
     "name": "stderr",
     "output_type": "stream",
     "text": [
      "INFO:Epoch 2 out of 10\n"
     ]
    },
    {
     "name": "stdout",
     "output_type": "stream",
     "text": [
      "\n",
      "439/439 [==============================] - 16s - train loss: 1.8714    "
     ]
    },
    {
     "name": "stderr",
     "output_type": "stream",
     "text": [
      "INFO:Evaluating on development data\n"
     ]
    },
    {
     "name": "stdout",
     "output_type": "stream",
     "text": [
      "\n",
      "\n",
      "102/102 [==============================] - 31s    "
     ]
    },
    {
     "name": "stderr",
     "output_type": "stream",
     "text": [
      "DEBUG:Token-level confusion matrix:\n",
      "go\\gu   \tPER     \tORG     \tLOC     \tMISC    \tO       \n",
      "PER     \t2958.00 \t24.00   \t36.00   \t10.00   \t121.00  \n",
      "ORG     \t258.00  \t1399.00 \t112.00  \t125.00  \t198.00  \n",
      "LOC     \t99.00   \t133.00  \t1723.00 \t68.00   \t71.00   \n",
      "MISC    \t73.00   \t85.00   \t45.00   \t928.00  \t137.00  \n",
      "O       \t58.00   \t53.00   \t9.00    \t37.00   \t42602.00\n",
      "\n",
      "DEBUG:Token-level scores:\n",
      "label\tacc  \tprec \trec  \tf1   \n",
      "PER  \t0.99 \t0.86 \t0.94 \t0.90 \n",
      "ORG  \t0.98 \t0.83 \t0.67 \t0.74 \n",
      "LOC  \t0.99 \t0.90 \t0.82 \t0.86 \n",
      "MISC \t0.99 \t0.79 \t0.73 \t0.76 \n",
      "O    \t0.99 \t0.99 \t1.00 \t0.99 \n",
      "micro\t0.99 \t0.97 \t0.97 \t0.97 \n",
      "macro\t0.99 \t0.87 \t0.83 \t0.85 \n",
      "not-O\t0.99 \t0.85 \t0.81 \t0.83 \n",
      "\n",
      "INFO:Entity level P/R/F1: 0.76/0.78/0.77\n",
      "INFO:New best score! Saving model in results/rnn/20171230_120803/model.weights\n"
     ]
    },
    {
     "name": "stdout",
     "output_type": "stream",
     "text": [
      "\n"
     ]
    },
    {
     "name": "stderr",
     "output_type": "stream",
     "text": [
      "INFO:Epoch 3 out of 10\n"
     ]
    },
    {
     "name": "stdout",
     "output_type": "stream",
     "text": [
      "\n",
      "439/439 [==============================] - 16s - train loss: 1.3444    "
     ]
    },
    {
     "name": "stderr",
     "output_type": "stream",
     "text": [
      "INFO:Evaluating on development data\n"
     ]
    },
    {
     "name": "stdout",
     "output_type": "stream",
     "text": [
      "\n",
      "\n",
      "102/102 [==============================] - 31s    "
     ]
    },
    {
     "name": "stderr",
     "output_type": "stream",
     "text": [
      "DEBUG:Token-level confusion matrix:\n",
      "go\\gu   \tPER     \tORG     \tLOC     \tMISC    \tO       \n",
      "PER     \t2827.00 \t129.00  \t78.00   \t26.00   \t89.00   \n",
      "ORG     \t112.00  \t1672.00 \t67.00   \t95.00   \t146.00  \n",
      "LOC     \t25.00   \t208.00  \t1752.00 \t60.00   \t49.00   \n",
      "MISC    \t26.00   \t99.00   \t26.00   \t997.00  \t120.00  \n",
      "O       \t33.00   \t81.00   \t16.00   \t43.00   \t42586.00\n",
      "\n",
      "DEBUG:Token-level scores:\n",
      "label\tacc  \tprec \trec  \tf1   \n",
      "PER  \t0.99 \t0.94 \t0.90 \t0.92 \n",
      "ORG  \t0.98 \t0.76 \t0.80 \t0.78 \n",
      "LOC  \t0.99 \t0.90 \t0.84 \t0.87 \n",
      "MISC \t0.99 \t0.82 \t0.79 \t0.80 \n",
      "O    \t0.99 \t0.99 \t1.00 \t0.99 \n",
      "micro\t0.99 \t0.97 \t0.97 \t0.97 \n",
      "macro\t0.99 \t0.88 \t0.86 \t0.87 \n",
      "not-O\t0.99 \t0.87 \t0.84 \t0.85 \n",
      "\n",
      "INFO:Entity level P/R/F1: 0.78/0.81/0.80\n",
      "INFO:New best score! Saving model in results/rnn/20171230_120803/model.weights\n"
     ]
    },
    {
     "name": "stdout",
     "output_type": "stream",
     "text": [
      "\n"
     ]
    },
    {
     "name": "stderr",
     "output_type": "stream",
     "text": [
      "INFO:Epoch 4 out of 10\n"
     ]
    },
    {
     "name": "stdout",
     "output_type": "stream",
     "text": [
      "\n",
      "439/439 [==============================] - 16s - train loss: 1.0256    "
     ]
    },
    {
     "name": "stderr",
     "output_type": "stream",
     "text": [
      "INFO:Evaluating on development data\n"
     ]
    },
    {
     "name": "stdout",
     "output_type": "stream",
     "text": [
      "\n",
      "\n",
      "102/102 [==============================] - 32s    "
     ]
    },
    {
     "name": "stderr",
     "output_type": "stream",
     "text": [
      "DEBUG:Token-level confusion matrix:\n",
      "go\\gu   \tPER     \tORG     \tLOC     \tMISC    \tO       \n",
      "PER     \t3015.00 \t36.00   \t22.00   \t8.00    \t68.00   \n",
      "ORG     \t185.00  \t1665.00 \t49.00   \t57.00   \t136.00  \n",
      "LOC     \t64.00   \t188.00  \t1781.00 \t19.00   \t42.00   \n",
      "MISC    \t65.00   \t91.00   \t33.00   \t959.00  \t120.00  \n",
      "O       \t49.00   \t50.00   \t7.00    \t25.00   \t42628.00\n",
      "\n",
      "DEBUG:Token-level scores:\n",
      "label\tacc  \tprec \trec  \tf1   \n",
      "PER  \t0.99 \t0.89 \t0.96 \t0.92 \n",
      "ORG  \t0.98 \t0.82 \t0.80 \t0.81 \n",
      "LOC  \t0.99 \t0.94 \t0.85 \t0.89 \n",
      "MISC \t0.99 \t0.90 \t0.76 \t0.82 \n",
      "O    \t0.99 \t0.99 \t1.00 \t0.99 \n",
      "micro\t0.99 \t0.97 \t0.97 \t0.97 \n",
      "macro\t0.99 \t0.91 \t0.87 \t0.89 \n",
      "not-O\t0.99 \t0.89 \t0.86 \t0.87 \n",
      "\n",
      "INFO:Entity level P/R/F1: 0.82/0.84/0.83\n",
      "INFO:New best score! Saving model in results/rnn/20171230_120803/model.weights\n"
     ]
    },
    {
     "name": "stdout",
     "output_type": "stream",
     "text": [
      "\n"
     ]
    },
    {
     "name": "stderr",
     "output_type": "stream",
     "text": [
      "INFO:Epoch 5 out of 10\n"
     ]
    },
    {
     "name": "stdout",
     "output_type": "stream",
     "text": [
      "\n",
      "439/439 [==============================] - 16s - train loss: 0.8170    "
     ]
    },
    {
     "name": "stderr",
     "output_type": "stream",
     "text": [
      "INFO:Evaluating on development data\n"
     ]
    },
    {
     "name": "stdout",
     "output_type": "stream",
     "text": [
      "\n",
      "\n",
      "102/102 [==============================] - 32s    "
     ]
    },
    {
     "name": "stderr",
     "output_type": "stream",
     "text": [
      "DEBUG:Token-level confusion matrix:\n",
      "go\\gu   \tPER     \tORG     \tLOC     \tMISC    \tO       \n",
      "PER     \t2994.00 \t30.00   \t50.00   \t15.00   \t60.00   \n",
      "ORG     \t154.00  \t1648.00 \t93.00   \t80.00   \t117.00  \n",
      "LOC     \t37.00   \t99.00   \t1905.00 \t23.00   \t30.00   \n",
      "MISC    \t43.00   \t53.00   \t50.00   \t1015.00 \t107.00  \n",
      "O       \t54.00   \t48.00   \t13.00   \t40.00   \t42604.00\n",
      "\n",
      "DEBUG:Token-level scores:\n",
      "label\tacc  \tprec \trec  \tf1   \n",
      "PER  \t0.99 \t0.91 \t0.95 \t0.93 \n",
      "ORG  \t0.99 \t0.88 \t0.79 \t0.83 \n",
      "LOC  \t0.99 \t0.90 \t0.91 \t0.91 \n",
      "MISC \t0.99 \t0.87 \t0.80 \t0.83 \n",
      "O    \t0.99 \t0.99 \t1.00 \t0.99 \n",
      "micro\t0.99 \t0.98 \t0.98 \t0.98 \n",
      "macro\t0.99 \t0.91 \t0.89 \t0.90 \n",
      "not-O\t0.99 \t0.90 \t0.88 \t0.89 \n",
      "\n",
      "INFO:Entity level P/R/F1: 0.83/0.86/0.84\n",
      "INFO:New best score! Saving model in results/rnn/20171230_120803/model.weights\n"
     ]
    },
    {
     "name": "stdout",
     "output_type": "stream",
     "text": [
      "\n"
     ]
    },
    {
     "name": "stderr",
     "output_type": "stream",
     "text": [
      "INFO:Epoch 6 out of 10\n"
     ]
    },
    {
     "name": "stdout",
     "output_type": "stream",
     "text": [
      "\n",
      "439/439 [==============================] - 16s - train loss: 0.6708    "
     ]
    },
    {
     "name": "stderr",
     "output_type": "stream",
     "text": [
      "INFO:Evaluating on development data\n"
     ]
    },
    {
     "name": "stdout",
     "output_type": "stream",
     "text": [
      "\n",
      "\n",
      "102/102 [==============================] - 32s    "
     ]
    },
    {
     "name": "stderr",
     "output_type": "stream",
     "text": [
      "DEBUG:Token-level confusion matrix:\n",
      "go\\gu   \tPER     \tORG     \tLOC     \tMISC    \tO       \n",
      "PER     \t2944.00 \t48.00   \t65.00   \t18.00   \t74.00   \n",
      "ORG     \t124.00  \t1649.00 \t81.00   \t100.00  \t138.00  \n",
      "LOC     \t27.00   \t112.00  \t1891.00 \t25.00   \t39.00   \n",
      "MISC    \t31.00   \t46.00   \t40.00   \t1040.00 \t111.00  \n",
      "O       \t33.00   \t39.00   \t13.00   \t42.00   \t42632.00\n",
      "\n",
      "DEBUG:Token-level scores:\n",
      "label\tacc  \tprec \trec  \tf1   \n",
      "PER  \t0.99 \t0.93 \t0.93 \t0.93 \n",
      "ORG  \t0.99 \t0.87 \t0.79 \t0.83 \n",
      "LOC  \t0.99 \t0.90 \t0.90 \t0.90 \n",
      "MISC \t0.99 \t0.85 \t0.82 \t0.83 \n",
      "O    \t0.99 \t0.99 \t1.00 \t0.99 \n",
      "micro\t0.99 \t0.98 \t0.98 \t0.98 \n",
      "macro\t0.99 \t0.91 \t0.89 \t0.90 \n",
      "not-O\t0.99 \t0.90 \t0.87 \t0.89 \n",
      "\n",
      "INFO:Entity level P/R/F1: 0.83/0.85/0.84\n",
      "INFO:Epoch 7 out of 10\n"
     ]
    },
    {
     "name": "stdout",
     "output_type": "stream",
     "text": [
      "\n",
      "\n",
      "439/439 [==============================] - 17s - train loss: 0.5557    - ETA: "
     ]
    },
    {
     "name": "stderr",
     "output_type": "stream",
     "text": [
      "INFO:Evaluating on development data\n"
     ]
    },
    {
     "name": "stdout",
     "output_type": "stream",
     "text": [
      "\n",
      "\n",
      "102/102 [==============================] - 37s    "
     ]
    },
    {
     "name": "stderr",
     "output_type": "stream",
     "text": [
      "DEBUG:Token-level confusion matrix:\n",
      "go\\gu   \tPER     \tORG     \tLOC     \tMISC    \tO       \n",
      "PER     \t2899.00 \t87.00   \t79.00   \t21.00   \t63.00   \n",
      "ORG     \t95.00   \t1730.00 \t73.00   \t96.00   \t98.00   \n",
      "LOC     \t21.00   \t119.00  \t1905.00 \t21.00   \t28.00   \n",
      "MISC    \t24.00   \t55.00   \t54.00   \t1047.00 \t88.00   \n",
      "O       \t31.00   \t86.00   \t20.00   \t46.00   \t42576.00\n",
      "\n",
      "DEBUG:Token-level scores:\n",
      "label\tacc  \tprec \trec  \tf1   \n",
      "PER  \t0.99 \t0.94 \t0.92 \t0.93 \n",
      "ORG  \t0.99 \t0.83 \t0.83 \t0.83 \n",
      "LOC  \t0.99 \t0.89 \t0.91 \t0.90 \n",
      "MISC \t0.99 \t0.85 \t0.83 \t0.84 \n",
      "O    \t0.99 \t0.99 \t1.00 \t0.99 \n",
      "micro\t0.99 \t0.98 \t0.98 \t0.98 \n",
      "macro\t0.99 \t0.90 \t0.90 \t0.90 \n",
      "not-O\t0.99 \t0.89 \t0.88 \t0.89 \n",
      "\n",
      "INFO:Entity level P/R/F1: 0.83/0.85/0.84\n",
      "INFO:Epoch 8 out of 10\n"
     ]
    },
    {
     "name": "stdout",
     "output_type": "stream",
     "text": [
      "\n",
      "\n",
      "439/439 [==============================] - 17s - train loss: 0.4771    "
     ]
    },
    {
     "name": "stderr",
     "output_type": "stream",
     "text": [
      "INFO:Evaluating on development data\n"
     ]
    },
    {
     "name": "stdout",
     "output_type": "stream",
     "text": [
      "\n",
      "\n",
      "102/102 [==============================] - 37s    "
     ]
    },
    {
     "name": "stderr",
     "output_type": "stream",
     "text": [
      "DEBUG:Token-level confusion matrix:\n",
      "go\\gu   \tPER     \tORG     \tLOC     \tMISC    \tO       \n",
      "PER     \t2974.00 \t35.00   \t46.00   \t34.00   \t60.00   \n",
      "ORG     \t116.00  \t1659.00 \t71.00   \t139.00  \t107.00  \n",
      "LOC     \t29.00   \t67.00   \t1919.00 \t53.00   \t26.00   \n",
      "MISC    \t31.00   \t28.00   \t32.00   \t1083.00 \t94.00   \n",
      "O       \t41.00   \t51.00   \t8.00    \t47.00   \t42612.00\n",
      "\n",
      "DEBUG:Token-level scores:\n",
      "label\tacc  \tprec \trec  \tf1   \n",
      "PER  \t0.99 \t0.93 \t0.94 \t0.94 \n",
      "ORG  \t0.99 \t0.90 \t0.79 \t0.84 \n",
      "LOC  \t0.99 \t0.92 \t0.92 \t0.92 \n",
      "MISC \t0.99 \t0.80 \t0.85 \t0.83 \n",
      "O    \t0.99 \t0.99 \t1.00 \t0.99 \n",
      "micro\t0.99 \t0.98 \t0.98 \t0.98 \n",
      "macro\t0.99 \t0.91 \t0.90 \t0.90 \n",
      "not-O\t0.99 \t0.90 \t0.89 \t0.89 \n",
      "\n",
      "INFO:Entity level P/R/F1: 0.84/0.86/0.85\n",
      "INFO:New best score! Saving model in results/rnn/20171230_120803/model.weights\n"
     ]
    },
    {
     "name": "stdout",
     "output_type": "stream",
     "text": [
      "\n"
     ]
    },
    {
     "name": "stderr",
     "output_type": "stream",
     "text": [
      "INFO:Epoch 9 out of 10\n"
     ]
    },
    {
     "name": "stdout",
     "output_type": "stream",
     "text": [
      "\n",
      "439/439 [==============================] - 17s - train loss: 0.4156    "
     ]
    },
    {
     "name": "stderr",
     "output_type": "stream",
     "text": [
      "INFO:Evaluating on development data\n"
     ]
    },
    {
     "name": "stdout",
     "output_type": "stream",
     "text": [
      "\n",
      "\n",
      "102/102 [==============================] - 40s    "
     ]
    },
    {
     "name": "stderr",
     "output_type": "stream",
     "text": [
      "DEBUG:Token-level confusion matrix:\n",
      "go\\gu   \tPER     \tORG     \tLOC     \tMISC    \tO       \n",
      "PER     \t2932.00 \t34.00   \t87.00   \t16.00   \t80.00   \n",
      "ORG     \t115.00  \t1626.00 \t116.00  \t92.00   \t143.00  \n",
      "LOC     \t24.00   \t64.00   \t1956.00 \t16.00   \t34.00   \n",
      "MISC    \t27.00   \t25.00   \t61.00   \t1039.00 \t116.00  \n",
      "O       \t33.00   \t36.00   \t21.00   \t29.00   \t42640.00\n",
      "\n",
      "DEBUG:Token-level scores:\n",
      "label\tacc  \tprec \trec  \tf1   \n",
      "PER  \t0.99 \t0.94 \t0.93 \t0.93 \n",
      "ORG  \t0.99 \t0.91 \t0.78 \t0.84 \n",
      "LOC  \t0.99 \t0.87 \t0.93 \t0.90 \n",
      "MISC \t0.99 \t0.87 \t0.82 \t0.84 \n",
      "O    \t0.99 \t0.99 \t1.00 \t0.99 \n",
      "micro\t0.99 \t0.98 \t0.98 \t0.98 \n",
      "macro\t0.99 \t0.92 \t0.89 \t0.90 \n",
      "not-O\t0.99 \t0.90 \t0.88 \t0.89 \n",
      "\n",
      "INFO:Entity level P/R/F1: 0.84/0.85/0.85\n",
      "INFO:Epoch 10 out of 10\n"
     ]
    },
    {
     "name": "stdout",
     "output_type": "stream",
     "text": [
      "\n",
      "\n",
      "439/439 [==============================] - 17s - train loss: 0.3594    "
     ]
    },
    {
     "name": "stderr",
     "output_type": "stream",
     "text": [
      "INFO:Evaluating on development data\n"
     ]
    },
    {
     "name": "stdout",
     "output_type": "stream",
     "text": [
      "\n",
      "\n",
      "102/102 [==============================] - 36s    "
     ]
    },
    {
     "name": "stderr",
     "output_type": "stream",
     "text": [
      "DEBUG:Token-level confusion matrix:\n",
      "go\\gu   \tPER     \tORG     \tLOC     \tMISC    \tO       \n",
      "PER     \t2998.00 \t12.00   \t54.00   \t12.00   \t73.00   \n",
      "ORG     \t160.00  \t1575.00 \t113.00  \t123.00  \t121.00  \n",
      "LOC     \t38.00   \t56.00   \t1939.00 \t31.00   \t30.00   \n",
      "MISC    \t37.00   \t24.00   \t41.00   \t1056.00 \t110.00  \n",
      "O       \t36.00   \t36.00   \t19.00   \t37.00   \t42631.00\n",
      "\n",
      "DEBUG:Token-level scores:\n",
      "label\tacc  \tprec \trec  \tf1   \n",
      "PER  \t0.99 \t0.92 \t0.95 \t0.93 \n",
      "ORG  \t0.99 \t0.92 \t0.75 \t0.83 \n",
      "LOC  \t0.99 \t0.90 \t0.93 \t0.91 \n",
      "MISC \t0.99 \t0.84 \t0.83 \t0.84 \n",
      "O    \t0.99 \t0.99 \t1.00 \t0.99 \n",
      "micro\t0.99 \t0.98 \t0.98 \t0.98 \n",
      "macro\t0.99 \t0.91 \t0.89 \t0.90 \n",
      "not-O\t0.99 \t0.90 \t0.88 \t0.89 \n",
      "\n",
      "INFO:Entity level P/R/F1: 0.84/0.86/0.85\n"
     ]
    },
    {
     "name": "stdout",
     "output_type": "stream",
     "text": [
      "\n",
      "\n",
      "102/102 [==============================] - 36s    \n"
     ]
    }
   ],
   "source": [
    "%run q2_rnn.py train"
   ]
  },
  {
   "cell_type": "code",
   "execution_count": 1,
   "metadata": {},
   "outputs": [
    {
     "name": "stderr",
     "output_type": "stream",
     "text": [
      "INFO:Testing gru_cell\n",
      "INFO:Passed!\n"
     ]
    },
    {
     "name": "stdout",
     "output_type": "stream",
     "text": [
      "y_ = [[ 0.32035077  0.55478156]\n",
      " [-0.00592549  0.0195577 ]]\n",
      "ht_ = [[ 0.32035077  0.55478156]\n",
      " [-0.00592549  0.0195577 ]]\n"
     ]
    }
   ],
   "source": [
    "%run q3_gru_cell.py test"
   ]
  },
  {
   "cell_type": "code",
   "execution_count": 1,
   "metadata": {},
   "outputs": [
    {
     "name": "stderr",
     "output_type": "stream",
     "text": [
      "q3_gru.py:28: UserWarning: \n",
      "This call to matplotlib.use() has no effect because the backend has already\n",
      "been chosen; matplotlib.use() must be called *before* pylab, matplotlib.pyplot,\n",
      "or matplotlib.backends is imported for the first time.\n",
      "\n",
      "The backend was *originally* set to 'module://ipykernel.pylab.backend_inline' by the following code:\n",
      "  File \"/opt/conda/lib/python2.7/runpy.py\", line 174, in _run_module_as_main\n",
      "    \"__main__\", fname, loader, pkg_name)\n",
      "  File \"/opt/conda/lib/python2.7/runpy.py\", line 72, in _run_code\n",
      "    exec code in run_globals\n",
      "  File \"/opt/conda/lib/python2.7/site-packages/ipykernel_launcher.py\", line 16, in <module>\n",
      "    app.launch_new_instance()\n",
      "  File \"/opt/conda/lib/python2.7/site-packages/traitlets/config/application.py\", line 658, in launch_instance\n",
      "    app.start()\n",
      "  File \"/opt/conda/lib/python2.7/site-packages/ipykernel/kernelapp.py\", line 477, in start\n",
      "    ioloop.IOLoop.instance().start()\n",
      "  File \"/opt/conda/lib/python2.7/site-packages/zmq/eventloop/ioloop.py\", line 177, in start\n",
      "    super(ZMQIOLoop, self).start()\n",
      "  File \"/opt/conda/lib/python2.7/site-packages/tornado/ioloop.py\", line 888, in start\n",
      "    handler_func(fd_obj, events)\n",
      "  File \"/opt/conda/lib/python2.7/site-packages/tornado/stack_context.py\", line 277, in null_wrapper\n",
      "    return fn(*args, **kwargs)\n",
      "  File \"/opt/conda/lib/python2.7/site-packages/zmq/eventloop/zmqstream.py\", line 440, in _handle_events\n",
      "    self._handle_recv()\n",
      "  File \"/opt/conda/lib/python2.7/site-packages/zmq/eventloop/zmqstream.py\", line 472, in _handle_recv\n",
      "    self._run_callback(callback, msg)\n",
      "  File \"/opt/conda/lib/python2.7/site-packages/zmq/eventloop/zmqstream.py\", line 414, in _run_callback\n",
      "    callback(*args, **kwargs)\n",
      "  File \"/opt/conda/lib/python2.7/site-packages/tornado/stack_context.py\", line 277, in null_wrapper\n",
      "    return fn(*args, **kwargs)\n",
      "  File \"/opt/conda/lib/python2.7/site-packages/ipykernel/kernelbase.py\", line 283, in dispatcher\n",
      "    return self.dispatch_shell(stream, msg)\n",
      "  File \"/opt/conda/lib/python2.7/site-packages/ipykernel/kernelbase.py\", line 235, in dispatch_shell\n",
      "    handler(stream, idents, msg)\n",
      "  File \"/opt/conda/lib/python2.7/site-packages/ipykernel/kernelbase.py\", line 399, in execute_request\n",
      "    user_expressions, allow_stdin)\n",
      "  File \"/opt/conda/lib/python2.7/site-packages/ipykernel/ipkernel.py\", line 196, in do_execute\n",
      "    res = shell.run_cell(code, store_history=store_history, silent=silent)\n",
      "  File \"/opt/conda/lib/python2.7/site-packages/ipykernel/zmqshell.py\", line 533, in run_cell\n",
      "    return super(ZMQInteractiveShell, self).run_cell(*args, **kwargs)\n",
      "  File \"/opt/conda/lib/python2.7/site-packages/IPython/core/interactiveshell.py\", line 2718, in run_cell\n",
      "    interactivity=interactivity, compiler=compiler, result=result)\n",
      "  File \"/opt/conda/lib/python2.7/site-packages/IPython/core/interactiveshell.py\", line 2822, in run_ast_nodes\n",
      "    if self.run_code(code, result):\n",
      "  File \"/opt/conda/lib/python2.7/site-packages/IPython/core/interactiveshell.py\", line 2882, in run_code\n",
      "    exec(code_obj, self.user_global_ns, self.user_ns)\n",
      "  File \"<ipython-input-1-3ead07d77735>\", line 1, in <module>\n",
      "    get_ipython().magic(u'run q3_gru.py predict -c rnn')\n",
      "  File \"/opt/conda/lib/python2.7/site-packages/IPython/core/interactiveshell.py\", line 2160, in magic\n",
      "    return self.run_line_magic(magic_name, magic_arg_s)\n",
      "  File \"/opt/conda/lib/python2.7/site-packages/IPython/core/interactiveshell.py\", line 2081, in run_line_magic\n",
      "    result = fn(*args,**kwargs)\n",
      "  File \"<decorator-gen-58>\", line 2, in run\n",
      "  File \"/opt/conda/lib/python2.7/site-packages/IPython/core/magic.py\", line 188, in <lambda>\n",
      "    call = lambda f, *a, **k: f(*a, **k)\n",
      "  File \"/opt/conda/lib/python2.7/site-packages/IPython/core/magics/execution.py\", line 742, in run\n",
      "    run()\n",
      "  File \"/opt/conda/lib/python2.7/site-packages/IPython/core/magics/execution.py\", line 728, in run\n",
      "    exit_ignore=exit_ignore)\n",
      "  File \"/opt/conda/lib/python2.7/site-packages/IPython/core/interactiveshell.py\", line 2483, in safe_execfile\n",
      "    self.compile if kw['shell_futures'] else None)\n",
      "  File \"/opt/conda/lib/python2.7/site-packages/IPython/utils/py3compat.py\", line 289, in execfile\n",
      "    builtin_mod.execfile(filename, *where)\n",
      "  File \"/opt/notebooks/cs224/assignment3/q3_gru.py\", line 20, in <module>\n",
      "    import matplotlib.pyplot as plt\n",
      "  File \"/opt/conda/lib/python2.7/site-packages/matplotlib/pyplot.py\", line 69, in <module>\n",
      "    from matplotlib.backends import pylab_setup\n",
      "  File \"/opt/conda/lib/python2.7/site-packages/matplotlib/backends/__init__.py\", line 14, in <module>\n",
      "    line for line in traceback.format_stack()\n",
      "\n",
      "\n",
      "  matplotlib.use('TkAgg')\n",
      "INFO:Building model...\n",
      "INFO:took 0.45 seconds\n",
      "INFO:Epoch 1 out of 40\n"
     ]
    },
    {
     "name": "stdout",
     "output_type": "stream",
     "text": [
      "100/100 [==============================] - 0s - train loss: 12.5914     "
     ]
    },
    {
     "name": "stderr",
     "output_type": "stream",
     "text": [
      "INFO:Epoch 2 out of 40\n"
     ]
    },
    {
     "name": "stdout",
     "output_type": "stream",
     "text": [
      "\n",
      "100/100 [==============================] - 0s - train loss: 12.5143     "
     ]
    },
    {
     "name": "stderr",
     "output_type": "stream",
     "text": [
      "INFO:Epoch 3 out of 40\n"
     ]
    },
    {
     "name": "stdout",
     "output_type": "stream",
     "text": [
      "\n",
      "100/100 [==============================] - 0s - train loss: 12.5061     "
     ]
    },
    {
     "name": "stderr",
     "output_type": "stream",
     "text": [
      "INFO:Epoch 4 out of 40\n"
     ]
    },
    {
     "name": "stdout",
     "output_type": "stream",
     "text": [
      "\n",
      "100/100 [==============================] - 0s - train loss: 12.5031     "
     ]
    },
    {
     "name": "stderr",
     "output_type": "stream",
     "text": [
      "INFO:Epoch 5 out of 40\n"
     ]
    },
    {
     "name": "stdout",
     "output_type": "stream",
     "text": [
      "\n",
      "100/100 [==============================] - 0s - train loss: 12.5017     "
     ]
    },
    {
     "name": "stderr",
     "output_type": "stream",
     "text": [
      "INFO:Epoch 6 out of 40\n"
     ]
    },
    {
     "name": "stdout",
     "output_type": "stream",
     "text": [
      "\n",
      "100/100 [==============================] - 0s - train loss: 12.5008     "
     ]
    },
    {
     "name": "stderr",
     "output_type": "stream",
     "text": [
      "INFO:Epoch 7 out of 40\n"
     ]
    },
    {
     "name": "stdout",
     "output_type": "stream",
     "text": [
      "\n",
      "100/100 [==============================] - 0s - train loss: 12.5002     "
     ]
    },
    {
     "name": "stderr",
     "output_type": "stream",
     "text": [
      "INFO:Epoch 8 out of 40\n"
     ]
    },
    {
     "name": "stdout",
     "output_type": "stream",
     "text": [
      "\n",
      "100/100 [==============================] - 0s - train loss: 12.4998     "
     ]
    },
    {
     "name": "stderr",
     "output_type": "stream",
     "text": [
      "INFO:Epoch 9 out of 40\n"
     ]
    },
    {
     "name": "stdout",
     "output_type": "stream",
     "text": [
      "\n",
      "100/100 [==============================] - 0s - train loss: 12.4995     "
     ]
    },
    {
     "name": "stderr",
     "output_type": "stream",
     "text": [
      "INFO:Epoch 10 out of 40\n"
     ]
    },
    {
     "name": "stdout",
     "output_type": "stream",
     "text": [
      "\n",
      "100/100 [==============================] - 0s - train loss: 12.4993     "
     ]
    },
    {
     "name": "stderr",
     "output_type": "stream",
     "text": [
      "INFO:Epoch 11 out of 40\n"
     ]
    },
    {
     "name": "stdout",
     "output_type": "stream",
     "text": [
      "\n",
      "100/100 [==============================] - 0s - train loss: 12.4991     "
     ]
    },
    {
     "name": "stderr",
     "output_type": "stream",
     "text": [
      "INFO:Epoch 12 out of 40\n"
     ]
    },
    {
     "name": "stdout",
     "output_type": "stream",
     "text": [
      "\n",
      "100/100 [==============================] - 0s - train loss: 12.4989     "
     ]
    },
    {
     "name": "stderr",
     "output_type": "stream",
     "text": [
      "INFO:Epoch 13 out of 40\n"
     ]
    },
    {
     "name": "stdout",
     "output_type": "stream",
     "text": [
      "\n",
      "100/100 [==============================] - 0s - train loss: 12.4988     "
     ]
    },
    {
     "name": "stderr",
     "output_type": "stream",
     "text": [
      "INFO:Epoch 14 out of 40\n"
     ]
    },
    {
     "name": "stdout",
     "output_type": "stream",
     "text": [
      "\n",
      "100/100 [==============================] - 0s - train loss: 12.4987     "
     ]
    },
    {
     "name": "stderr",
     "output_type": "stream",
     "text": [
      "INFO:Epoch 15 out of 40\n"
     ]
    },
    {
     "name": "stdout",
     "output_type": "stream",
     "text": [
      "\n",
      "100/100 [==============================] - 0s - train loss: 12.4986     "
     ]
    },
    {
     "name": "stderr",
     "output_type": "stream",
     "text": [
      "INFO:Epoch 16 out of 40\n"
     ]
    },
    {
     "name": "stdout",
     "output_type": "stream",
     "text": [
      "\n",
      "100/100 [==============================] - 0s - train loss: 12.4985     "
     ]
    },
    {
     "name": "stderr",
     "output_type": "stream",
     "text": [
      "INFO:Epoch 17 out of 40\n"
     ]
    },
    {
     "name": "stdout",
     "output_type": "stream",
     "text": [
      "\n",
      "100/100 [==============================] - 0s - train loss: 12.4984     "
     ]
    },
    {
     "name": "stderr",
     "output_type": "stream",
     "text": [
      "INFO:Epoch 18 out of 40\n"
     ]
    },
    {
     "name": "stdout",
     "output_type": "stream",
     "text": [
      "\n",
      "100/100 [==============================] - 0s - train loss: 12.4984     "
     ]
    },
    {
     "name": "stderr",
     "output_type": "stream",
     "text": [
      "INFO:Epoch 19 out of 40\n"
     ]
    },
    {
     "name": "stdout",
     "output_type": "stream",
     "text": [
      "\n",
      "100/100 [==============================] - 0s - train loss: 12.4983     "
     ]
    },
    {
     "name": "stderr",
     "output_type": "stream",
     "text": [
      "INFO:Epoch 20 out of 40\n"
     ]
    },
    {
     "name": "stdout",
     "output_type": "stream",
     "text": [
      "\n",
      "100/100 [==============================] - 0s - train loss: 12.4983     "
     ]
    },
    {
     "name": "stderr",
     "output_type": "stream",
     "text": [
      "INFO:Epoch 21 out of 40\n"
     ]
    },
    {
     "name": "stdout",
     "output_type": "stream",
     "text": [
      "\n",
      "100/100 [==============================] - 0s - train loss: 12.4983     "
     ]
    },
    {
     "name": "stderr",
     "output_type": "stream",
     "text": [
      "INFO:Epoch 22 out of 40\n"
     ]
    },
    {
     "name": "stdout",
     "output_type": "stream",
     "text": [
      "\n",
      "100/100 [==============================] - 0s - train loss: 12.4982     "
     ]
    },
    {
     "name": "stderr",
     "output_type": "stream",
     "text": [
      "INFO:Epoch 23 out of 40\n"
     ]
    },
    {
     "name": "stdout",
     "output_type": "stream",
     "text": [
      "\n",
      "100/100 [==============================] - 0s - train loss: 12.4982     "
     ]
    },
    {
     "name": "stderr",
     "output_type": "stream",
     "text": [
      "INFO:Epoch 24 out of 40\n"
     ]
    },
    {
     "name": "stdout",
     "output_type": "stream",
     "text": [
      "\n",
      "100/100 [==============================] - 0s - train loss: 12.4981     "
     ]
    },
    {
     "name": "stderr",
     "output_type": "stream",
     "text": [
      "INFO:Epoch 25 out of 40\n"
     ]
    },
    {
     "name": "stdout",
     "output_type": "stream",
     "text": [
      "\n",
      "100/100 [==============================] - 0s - train loss: 12.4981     "
     ]
    },
    {
     "name": "stderr",
     "output_type": "stream",
     "text": [
      "INFO:Epoch 26 out of 40\n"
     ]
    },
    {
     "name": "stdout",
     "output_type": "stream",
     "text": [
      "\n",
      "100/100 [==============================] - 0s - train loss: 12.4981     "
     ]
    },
    {
     "name": "stderr",
     "output_type": "stream",
     "text": [
      "INFO:Epoch 27 out of 40\n"
     ]
    },
    {
     "name": "stdout",
     "output_type": "stream",
     "text": [
      "\n",
      "100/100 [==============================] - 0s - train loss: 12.4981     \n"
     ]
    },
    {
     "name": "stderr",
     "output_type": "stream",
     "text": [
      "INFO:Epoch 28 out of 40\n"
     ]
    },
    {
     "name": "stdout",
     "output_type": "stream",
     "text": [
      "100/100 [==============================] - 0s - train loss: 12.4980     "
     ]
    },
    {
     "name": "stderr",
     "output_type": "stream",
     "text": [
      "INFO:Epoch 29 out of 40\n"
     ]
    },
    {
     "name": "stdout",
     "output_type": "stream",
     "text": [
      "\n",
      "100/100 [==============================] - 0s - train loss: 12.4980     "
     ]
    },
    {
     "name": "stderr",
     "output_type": "stream",
     "text": [
      "INFO:Epoch 30 out of 40\n"
     ]
    },
    {
     "name": "stdout",
     "output_type": "stream",
     "text": [
      "\n",
      "100/100 [==============================] - 0s - train loss: 12.4980     "
     ]
    },
    {
     "name": "stderr",
     "output_type": "stream",
     "text": [
      "INFO:Epoch 31 out of 40\n"
     ]
    },
    {
     "name": "stdout",
     "output_type": "stream",
     "text": [
      "\n",
      "100/100 [==============================] - 0s - train loss: 12.4980     "
     ]
    },
    {
     "name": "stderr",
     "output_type": "stream",
     "text": [
      "INFO:Epoch 32 out of 40\n"
     ]
    },
    {
     "name": "stdout",
     "output_type": "stream",
     "text": [
      "\n",
      "100/100 [==============================] - 0s - train loss: 12.4980     "
     ]
    },
    {
     "name": "stderr",
     "output_type": "stream",
     "text": [
      "INFO:Epoch 33 out of 40\n"
     ]
    },
    {
     "name": "stdout",
     "output_type": "stream",
     "text": [
      "\n",
      "100/100 [==============================] - 0s - train loss: 12.4980     "
     ]
    },
    {
     "name": "stderr",
     "output_type": "stream",
     "text": [
      "INFO:Epoch 34 out of 40\n"
     ]
    },
    {
     "name": "stdout",
     "output_type": "stream",
     "text": [
      "\n",
      "100/100 [==============================] - 0s - train loss: 12.4979     "
     ]
    },
    {
     "name": "stderr",
     "output_type": "stream",
     "text": [
      "INFO:Epoch 35 out of 40\n"
     ]
    },
    {
     "name": "stdout",
     "output_type": "stream",
     "text": [
      "\n",
      "100/100 [==============================] - 0s - train loss: 12.4979     "
     ]
    },
    {
     "name": "stderr",
     "output_type": "stream",
     "text": [
      "INFO:Epoch 36 out of 40\n"
     ]
    },
    {
     "name": "stdout",
     "output_type": "stream",
     "text": [
      "\n",
      "100/100 [==============================] - 0s - train loss: 12.4979     "
     ]
    },
    {
     "name": "stderr",
     "output_type": "stream",
     "text": [
      "INFO:Epoch 37 out of 40\n"
     ]
    },
    {
     "name": "stdout",
     "output_type": "stream",
     "text": [
      "\n",
      "100/100 [==============================] - 0s - train loss: 12.4979     "
     ]
    },
    {
     "name": "stderr",
     "output_type": "stream",
     "text": [
      "INFO:Epoch 38 out of 40\n"
     ]
    },
    {
     "name": "stdout",
     "output_type": "stream",
     "text": [
      "\n",
      "100/100 [==============================] - 0s - train loss: 12.4979     "
     ]
    },
    {
     "name": "stderr",
     "output_type": "stream",
     "text": [
      "INFO:Epoch 39 out of 40\n"
     ]
    },
    {
     "name": "stdout",
     "output_type": "stream",
     "text": [
      "\n",
      "100/100 [==============================] - 0s - train loss: 12.4979     "
     ]
    },
    {
     "name": "stderr",
     "output_type": "stream",
     "text": [
      "INFO:Epoch 40 out of 40\n"
     ]
    },
    {
     "name": "stdout",
     "output_type": "stream",
     "text": [
      "\n",
      "100/100 [==============================] - 0s - train loss: 12.4979     \n"
     ]
    },
    {
     "name": "stderr",
     "output_type": "stream",
     "text": [
      "q3_gru.py:28: UserWarning: \n",
      "This call to matplotlib.use() has no effect because the backend has already\n",
      "been chosen; matplotlib.use() must be called *before* pylab, matplotlib.pyplot,\n",
      "or matplotlib.backends is imported for the first time.\n",
      "\n",
      "The backend was *originally* set to 'module://ipykernel.pylab.backend_inline' by the following code:\n",
      "  File \"/opt/conda/lib/python2.7/runpy.py\", line 174, in _run_module_as_main\n",
      "    \"__main__\", fname, loader, pkg_name)\n",
      "  File \"/opt/conda/lib/python2.7/runpy.py\", line 72, in _run_code\n",
      "    exec code in run_globals\n",
      "  File \"/opt/conda/lib/python2.7/site-packages/ipykernel_launcher.py\", line 16, in <module>\n",
      "    app.launch_new_instance()\n",
      "  File \"/opt/conda/lib/python2.7/site-packages/traitlets/config/application.py\", line 658, in launch_instance\n",
      "    app.start()\n",
      "  File \"/opt/conda/lib/python2.7/site-packages/ipykernel/kernelapp.py\", line 477, in start\n",
      "    ioloop.IOLoop.instance().start()\n",
      "  File \"/opt/conda/lib/python2.7/site-packages/zmq/eventloop/ioloop.py\", line 177, in start\n",
      "    super(ZMQIOLoop, self).start()\n",
      "  File \"/opt/conda/lib/python2.7/site-packages/tornado/ioloop.py\", line 888, in start\n",
      "    handler_func(fd_obj, events)\n",
      "  File \"/opt/conda/lib/python2.7/site-packages/tornado/stack_context.py\", line 277, in null_wrapper\n",
      "    return fn(*args, **kwargs)\n",
      "  File \"/opt/conda/lib/python2.7/site-packages/zmq/eventloop/zmqstream.py\", line 440, in _handle_events\n",
      "    self._handle_recv()\n",
      "  File \"/opt/conda/lib/python2.7/site-packages/zmq/eventloop/zmqstream.py\", line 472, in _handle_recv\n",
      "    self._run_callback(callback, msg)\n",
      "  File \"/opt/conda/lib/python2.7/site-packages/zmq/eventloop/zmqstream.py\", line 414, in _run_callback\n",
      "    callback(*args, **kwargs)\n",
      "  File \"/opt/conda/lib/python2.7/site-packages/tornado/stack_context.py\", line 277, in null_wrapper\n",
      "    return fn(*args, **kwargs)\n",
      "  File \"/opt/conda/lib/python2.7/site-packages/ipykernel/kernelbase.py\", line 283, in dispatcher\n",
      "    return self.dispatch_shell(stream, msg)\n",
      "  File \"/opt/conda/lib/python2.7/site-packages/ipykernel/kernelbase.py\", line 235, in dispatch_shell\n",
      "    handler(stream, idents, msg)\n",
      "  File \"/opt/conda/lib/python2.7/site-packages/ipykernel/kernelbase.py\", line 399, in execute_request\n",
      "    user_expressions, allow_stdin)\n",
      "  File \"/opt/conda/lib/python2.7/site-packages/ipykernel/ipkernel.py\", line 196, in do_execute\n",
      "    res = shell.run_cell(code, store_history=store_history, silent=silent)\n",
      "  File \"/opt/conda/lib/python2.7/site-packages/ipykernel/zmqshell.py\", line 533, in run_cell\n",
      "    return super(ZMQInteractiveShell, self).run_cell(*args, **kwargs)\n",
      "  File \"/opt/conda/lib/python2.7/site-packages/IPython/core/interactiveshell.py\", line 2718, in run_cell\n",
      "    interactivity=interactivity, compiler=compiler, result=result)\n",
      "  File \"/opt/conda/lib/python2.7/site-packages/IPython/core/interactiveshell.py\", line 2822, in run_ast_nodes\n",
      "    if self.run_code(code, result):\n",
      "  File \"/opt/conda/lib/python2.7/site-packages/IPython/core/interactiveshell.py\", line 2882, in run_code\n",
      "    exec(code_obj, self.user_global_ns, self.user_ns)\n",
      "  File \"<ipython-input-1-3ead07d77735>\", line 1, in <module>\n",
      "    get_ipython().magic(u'run q3_gru.py predict -c rnn')\n",
      "  File \"/opt/conda/lib/python2.7/site-packages/IPython/core/interactiveshell.py\", line 2160, in magic\n",
      "    return self.run_line_magic(magic_name, magic_arg_s)\n",
      "  File \"/opt/conda/lib/python2.7/site-packages/IPython/core/interactiveshell.py\", line 2081, in run_line_magic\n",
      "    result = fn(*args,**kwargs)\n",
      "  File \"<decorator-gen-58>\", line 2, in run\n",
      "  File \"/opt/conda/lib/python2.7/site-packages/IPython/core/magic.py\", line 188, in <lambda>\n",
      "    call = lambda f, *a, **k: f(*a, **k)\n",
      "  File \"/opt/conda/lib/python2.7/site-packages/IPython/core/magics/execution.py\", line 742, in run\n",
      "    run()\n",
      "  File \"/opt/conda/lib/python2.7/site-packages/IPython/core/magics/execution.py\", line 728, in run\n",
      "    exit_ignore=exit_ignore)\n",
      "  File \"/opt/conda/lib/python2.7/site-packages/IPython/core/interactiveshell.py\", line 2483, in safe_execfile\n",
      "    self.compile if kw['shell_futures'] else None)\n",
      "  File \"/opt/conda/lib/python2.7/site-packages/IPython/utils/py3compat.py\", line 289, in execfile\n",
      "    builtin_mod.execfile(filename, *where)\n",
      "  File \"/opt/notebooks/cs224/assignment3/q3_gru.py\", line 20, in <module>\n",
      "    import matplotlib.pyplot as plt\n",
      "  File \"/opt/conda/lib/python2.7/site-packages/matplotlib/pyplot.py\", line 69, in <module>\n",
      "    from matplotlib.backends import pylab_setup\n",
      "  File \"/opt/conda/lib/python2.7/site-packages/matplotlib/backends/__init__.py\", line 14, in <module>\n",
      "    line for line in traceback.format_stack()\n",
      "\n",
      "\n",
      "  matplotlib.use('TkAgg')\n",
      "INFO:Building model...\n",
      "INFO:took 0.12 seconds\n",
      "INFO:Epoch 1 out of 40\n"
     ]
    },
    {
     "name": "stdout",
     "output_type": "stream",
     "text": [
      "100/100 [==============================] - 0s - train loss: 12.5914     "
     ]
    },
    {
     "name": "stderr",
     "output_type": "stream",
     "text": [
      "INFO:Epoch 2 out of 40\n"
     ]
    },
    {
     "name": "stdout",
     "output_type": "stream",
     "text": [
      "\n",
      "100/100 [==============================] - 0s - train loss: 12.5143     "
     ]
    },
    {
     "name": "stderr",
     "output_type": "stream",
     "text": [
      "INFO:Epoch 3 out of 40\n"
     ]
    },
    {
     "name": "stdout",
     "output_type": "stream",
     "text": [
      "\n",
      "100/100 [==============================] - 0s - train loss: 12.5061     "
     ]
    },
    {
     "name": "stderr",
     "output_type": "stream",
     "text": [
      "INFO:Epoch 4 out of 40\n"
     ]
    },
    {
     "name": "stdout",
     "output_type": "stream",
     "text": [
      "\n",
      "100/100 [==============================] - 0s - train loss: 12.5031     "
     ]
    },
    {
     "name": "stderr",
     "output_type": "stream",
     "text": [
      "INFO:Epoch 5 out of 40\n"
     ]
    },
    {
     "name": "stdout",
     "output_type": "stream",
     "text": [
      "\n",
      "100/100 [==============================] - 0s - train loss: 12.5017     "
     ]
    },
    {
     "name": "stderr",
     "output_type": "stream",
     "text": [
      "INFO:Epoch 6 out of 40\n"
     ]
    },
    {
     "name": "stdout",
     "output_type": "stream",
     "text": [
      "\n",
      "100/100 [==============================] - 0s - train loss: 12.5008     "
     ]
    },
    {
     "name": "stderr",
     "output_type": "stream",
     "text": [
      "INFO:Epoch 7 out of 40\n"
     ]
    },
    {
     "name": "stdout",
     "output_type": "stream",
     "text": [
      "\n",
      "100/100 [==============================] - 0s - train loss: 12.5002     "
     ]
    },
    {
     "name": "stderr",
     "output_type": "stream",
     "text": [
      "INFO:Epoch 8 out of 40\n"
     ]
    },
    {
     "name": "stdout",
     "output_type": "stream",
     "text": [
      "\n",
      "100/100 [==============================] - 0s - train loss: 12.4998     "
     ]
    },
    {
     "name": "stderr",
     "output_type": "stream",
     "text": [
      "INFO:Epoch 9 out of 40\n"
     ]
    },
    {
     "name": "stdout",
     "output_type": "stream",
     "text": [
      "\n",
      "100/100 [==============================] - 0s - train loss: 12.4995     "
     ]
    },
    {
     "name": "stderr",
     "output_type": "stream",
     "text": [
      "INFO:Epoch 10 out of 40\n"
     ]
    },
    {
     "name": "stdout",
     "output_type": "stream",
     "text": [
      "\n",
      "100/100 [==============================] - 0s - train loss: 12.4993     "
     ]
    },
    {
     "name": "stderr",
     "output_type": "stream",
     "text": [
      "INFO:Epoch 11 out of 40\n"
     ]
    },
    {
     "name": "stdout",
     "output_type": "stream",
     "text": [
      "\n",
      "100/100 [==============================] - 0s - train loss: 12.4991     "
     ]
    },
    {
     "name": "stderr",
     "output_type": "stream",
     "text": [
      "INFO:Epoch 12 out of 40\n"
     ]
    },
    {
     "name": "stdout",
     "output_type": "stream",
     "text": [
      "\n",
      "100/100 [==============================] - 0s - train loss: 12.4989     "
     ]
    },
    {
     "name": "stderr",
     "output_type": "stream",
     "text": [
      "INFO:Epoch 13 out of 40\n"
     ]
    },
    {
     "name": "stdout",
     "output_type": "stream",
     "text": [
      "\n",
      "100/100 [==============================] - 0s - train loss: 12.4988     "
     ]
    },
    {
     "name": "stderr",
     "output_type": "stream",
     "text": [
      "INFO:Epoch 14 out of 40\n"
     ]
    },
    {
     "name": "stdout",
     "output_type": "stream",
     "text": [
      "\n",
      "100/100 [==============================] - 0s - train loss: 12.4987     "
     ]
    },
    {
     "name": "stderr",
     "output_type": "stream",
     "text": [
      "INFO:Epoch 15 out of 40\n"
     ]
    },
    {
     "name": "stdout",
     "output_type": "stream",
     "text": [
      "\n",
      "100/100 [==============================] - 0s - train loss: 12.4986     "
     ]
    },
    {
     "name": "stderr",
     "output_type": "stream",
     "text": [
      "INFO:Epoch 16 out of 40\n"
     ]
    },
    {
     "name": "stdout",
     "output_type": "stream",
     "text": [
      "\n",
      "100/100 [==============================] - 0s - train loss: 12.4985     "
     ]
    },
    {
     "name": "stderr",
     "output_type": "stream",
     "text": [
      "INFO:Epoch 17 out of 40\n"
     ]
    },
    {
     "name": "stdout",
     "output_type": "stream",
     "text": [
      "\n",
      "100/100 [==============================] - 0s - train loss: 12.4984     "
     ]
    },
    {
     "name": "stderr",
     "output_type": "stream",
     "text": [
      "INFO:Epoch 18 out of 40\n"
     ]
    },
    {
     "name": "stdout",
     "output_type": "stream",
     "text": [
      "\n",
      "100/100 [==============================] - 0s - train loss: 12.4984     "
     ]
    },
    {
     "name": "stderr",
     "output_type": "stream",
     "text": [
      "INFO:Epoch 19 out of 40\n"
     ]
    },
    {
     "name": "stdout",
     "output_type": "stream",
     "text": [
      "\n",
      "100/100 [==============================] - 0s - train loss: 12.4983      ETA: "
     ]
    },
    {
     "name": "stderr",
     "output_type": "stream",
     "text": [
      "INFO:Epoch 20 out of 40\n"
     ]
    },
    {
     "name": "stdout",
     "output_type": "stream",
     "text": [
      "\n",
      "100/100 [==============================] - 0s - train loss: 12.4983     "
     ]
    },
    {
     "name": "stderr",
     "output_type": "stream",
     "text": [
      "INFO:Epoch 21 out of 40\n"
     ]
    },
    {
     "name": "stdout",
     "output_type": "stream",
     "text": [
      "\n",
      "100/100 [==============================] - 0s - train loss: 12.4983     "
     ]
    },
    {
     "name": "stderr",
     "output_type": "stream",
     "text": [
      "INFO:Epoch 22 out of 40\n"
     ]
    },
    {
     "name": "stdout",
     "output_type": "stream",
     "text": [
      "\n",
      "100/100 [==============================] - 0s - train loss: 12.4982     "
     ]
    },
    {
     "name": "stderr",
     "output_type": "stream",
     "text": [
      "INFO:Epoch 23 out of 40\n"
     ]
    },
    {
     "name": "stdout",
     "output_type": "stream",
     "text": [
      "\n",
      "100/100 [==============================] - 0s - train loss: 12.4982     "
     ]
    },
    {
     "name": "stderr",
     "output_type": "stream",
     "text": [
      "INFO:Epoch 24 out of 40\n"
     ]
    },
    {
     "name": "stdout",
     "output_type": "stream",
     "text": [
      "\n",
      "100/100 [==============================] - 0s - train loss: 12.4981     "
     ]
    },
    {
     "name": "stderr",
     "output_type": "stream",
     "text": [
      "INFO:Epoch 25 out of 40\n"
     ]
    },
    {
     "name": "stdout",
     "output_type": "stream",
     "text": [
      "\n",
      "100/100 [==============================] - 0s - train loss: 12.4981     "
     ]
    },
    {
     "name": "stderr",
     "output_type": "stream",
     "text": [
      "INFO:Epoch 26 out of 40\n"
     ]
    },
    {
     "name": "stdout",
     "output_type": "stream",
     "text": [
      "\n",
      "100/100 [==============================] - 0s - train loss: 12.4981     "
     ]
    },
    {
     "name": "stderr",
     "output_type": "stream",
     "text": [
      "INFO:Epoch 27 out of 40\n"
     ]
    },
    {
     "name": "stdout",
     "output_type": "stream",
     "text": [
      "\n",
      "100/100 [==============================] - 0s - train loss: 12.4981     "
     ]
    },
    {
     "name": "stderr",
     "output_type": "stream",
     "text": [
      "INFO:Epoch 28 out of 40\n"
     ]
    },
    {
     "name": "stdout",
     "output_type": "stream",
     "text": [
      "\n",
      "100/100 [==============================] - 0s - train loss: 12.4980      ETA: 0s - train loss: 12.50"
     ]
    },
    {
     "name": "stderr",
     "output_type": "stream",
     "text": [
      "INFO:Epoch 29 out of 40\n"
     ]
    },
    {
     "name": "stdout",
     "output_type": "stream",
     "text": [
      "\n",
      "100/100 [==============================] - 0s - train loss: 12.4980     "
     ]
    },
    {
     "name": "stderr",
     "output_type": "stream",
     "text": [
      "INFO:Epoch 30 out of 40\n"
     ]
    },
    {
     "name": "stdout",
     "output_type": "stream",
     "text": [
      "\n",
      "100/100 [==============================] - 0s - train loss: 12.4980     "
     ]
    },
    {
     "name": "stderr",
     "output_type": "stream",
     "text": [
      "INFO:Epoch 31 out of 40\n"
     ]
    },
    {
     "name": "stdout",
     "output_type": "stream",
     "text": [
      "\n",
      "100/100 [==============================] - 0s - train loss: 12.4980     "
     ]
    },
    {
     "name": "stderr",
     "output_type": "stream",
     "text": [
      "INFO:Epoch 32 out of 40\n"
     ]
    },
    {
     "name": "stdout",
     "output_type": "stream",
     "text": [
      "\n",
      "100/100 [==============================] - 0s - train loss: 12.4980     "
     ]
    },
    {
     "name": "stderr",
     "output_type": "stream",
     "text": [
      "INFO:Epoch 33 out of 40\n"
     ]
    },
    {
     "name": "stdout",
     "output_type": "stream",
     "text": [
      "\n",
      "100/100 [==============================] - 0s - train loss: 12.4980     "
     ]
    },
    {
     "name": "stderr",
     "output_type": "stream",
     "text": [
      "INFO:Epoch 34 out of 40\n"
     ]
    },
    {
     "name": "stdout",
     "output_type": "stream",
     "text": [
      "\n",
      "100/100 [==============================] - 0s - train loss: 12.4979     "
     ]
    },
    {
     "name": "stderr",
     "output_type": "stream",
     "text": [
      "INFO:Epoch 35 out of 40\n"
     ]
    },
    {
     "name": "stdout",
     "output_type": "stream",
     "text": [
      "\n",
      "100/100 [==============================] - 0s - train loss: 12.4979     "
     ]
    },
    {
     "name": "stderr",
     "output_type": "stream",
     "text": [
      "INFO:Epoch 36 out of 40\n"
     ]
    },
    {
     "name": "stdout",
     "output_type": "stream",
     "text": [
      "\n",
      "100/100 [==============================] - 0s - train loss: 12.4979     "
     ]
    },
    {
     "name": "stderr",
     "output_type": "stream",
     "text": [
      "INFO:Epoch 37 out of 40\n"
     ]
    },
    {
     "name": "stdout",
     "output_type": "stream",
     "text": [
      "\n",
      "100/100 [==============================] - 0s - train loss: 12.4979     "
     ]
    },
    {
     "name": "stderr",
     "output_type": "stream",
     "text": [
      "INFO:Epoch 38 out of 40\n"
     ]
    },
    {
     "name": "stdout",
     "output_type": "stream",
     "text": [
      "\n",
      "100/100 [==============================] - 0s - train loss: 12.4979     "
     ]
    },
    {
     "name": "stderr",
     "output_type": "stream",
     "text": [
      "INFO:Epoch 39 out of 40\n"
     ]
    },
    {
     "name": "stdout",
     "output_type": "stream",
     "text": [
      "\n",
      "100/100 [==============================] - 0s - train loss: 12.4979     "
     ]
    },
    {
     "name": "stderr",
     "output_type": "stream",
     "text": [
      "INFO:Epoch 40 out of 40\n"
     ]
    },
    {
     "name": "stdout",
     "output_type": "stream",
     "text": [
      "\n",
      "100/100 [==============================] - 0s - train loss: 12.4979     \n"
     ]
    },
    {
     "name": "stderr",
     "output_type": "stream",
     "text": [
      "q3_gru.py:28: UserWarning: \n",
      "This call to matplotlib.use() has no effect because the backend has already\n",
      "been chosen; matplotlib.use() must be called *before* pylab, matplotlib.pyplot,\n",
      "or matplotlib.backends is imported for the first time.\n",
      "\n",
      "The backend was *originally* set to 'module://ipykernel.pylab.backend_inline' by the following code:\n",
      "  File \"/opt/conda/lib/python2.7/runpy.py\", line 174, in _run_module_as_main\n",
      "    \"__main__\", fname, loader, pkg_name)\n",
      "  File \"/opt/conda/lib/python2.7/runpy.py\", line 72, in _run_code\n",
      "    exec code in run_globals\n",
      "  File \"/opt/conda/lib/python2.7/site-packages/ipykernel_launcher.py\", line 16, in <module>\n",
      "    app.launch_new_instance()\n",
      "  File \"/opt/conda/lib/python2.7/site-packages/traitlets/config/application.py\", line 658, in launch_instance\n",
      "    app.start()\n",
      "  File \"/opt/conda/lib/python2.7/site-packages/ipykernel/kernelapp.py\", line 477, in start\n",
      "    ioloop.IOLoop.instance().start()\n",
      "  File \"/opt/conda/lib/python2.7/site-packages/zmq/eventloop/ioloop.py\", line 177, in start\n",
      "    super(ZMQIOLoop, self).start()\n",
      "  File \"/opt/conda/lib/python2.7/site-packages/tornado/ioloop.py\", line 888, in start\n",
      "    handler_func(fd_obj, events)\n",
      "  File \"/opt/conda/lib/python2.7/site-packages/tornado/stack_context.py\", line 277, in null_wrapper\n",
      "    return fn(*args, **kwargs)\n",
      "  File \"/opt/conda/lib/python2.7/site-packages/zmq/eventloop/zmqstream.py\", line 440, in _handle_events\n",
      "    self._handle_recv()\n",
      "  File \"/opt/conda/lib/python2.7/site-packages/zmq/eventloop/zmqstream.py\", line 472, in _handle_recv\n",
      "    self._run_callback(callback, msg)\n",
      "  File \"/opt/conda/lib/python2.7/site-packages/zmq/eventloop/zmqstream.py\", line 414, in _run_callback\n",
      "    callback(*args, **kwargs)\n",
      "  File \"/opt/conda/lib/python2.7/site-packages/tornado/stack_context.py\", line 277, in null_wrapper\n",
      "    return fn(*args, **kwargs)\n",
      "  File \"/opt/conda/lib/python2.7/site-packages/ipykernel/kernelbase.py\", line 283, in dispatcher\n",
      "    return self.dispatch_shell(stream, msg)\n",
      "  File \"/opt/conda/lib/python2.7/site-packages/ipykernel/kernelbase.py\", line 235, in dispatch_shell\n",
      "    handler(stream, idents, msg)\n",
      "  File \"/opt/conda/lib/python2.7/site-packages/ipykernel/kernelbase.py\", line 399, in execute_request\n",
      "    user_expressions, allow_stdin)\n",
      "  File \"/opt/conda/lib/python2.7/site-packages/ipykernel/ipkernel.py\", line 196, in do_execute\n",
      "    res = shell.run_cell(code, store_history=store_history, silent=silent)\n",
      "  File \"/opt/conda/lib/python2.7/site-packages/ipykernel/zmqshell.py\", line 533, in run_cell\n",
      "    return super(ZMQInteractiveShell, self).run_cell(*args, **kwargs)\n",
      "  File \"/opt/conda/lib/python2.7/site-packages/IPython/core/interactiveshell.py\", line 2718, in run_cell\n",
      "    interactivity=interactivity, compiler=compiler, result=result)\n",
      "  File \"/opt/conda/lib/python2.7/site-packages/IPython/core/interactiveshell.py\", line 2822, in run_ast_nodes\n",
      "    if self.run_code(code, result):\n",
      "  File \"/opt/conda/lib/python2.7/site-packages/IPython/core/interactiveshell.py\", line 2882, in run_code\n",
      "    exec(code_obj, self.user_global_ns, self.user_ns)\n",
      "  File \"<ipython-input-1-3ead07d77735>\", line 1, in <module>\n",
      "    get_ipython().magic(u'run q3_gru.py predict -c rnn')\n",
      "  File \"/opt/conda/lib/python2.7/site-packages/IPython/core/interactiveshell.py\", line 2160, in magic\n",
      "    return self.run_line_magic(magic_name, magic_arg_s)\n",
      "  File \"/opt/conda/lib/python2.7/site-packages/IPython/core/interactiveshell.py\", line 2081, in run_line_magic\n",
      "    result = fn(*args,**kwargs)\n",
      "  File \"<decorator-gen-58>\", line 2, in run\n",
      "  File \"/opt/conda/lib/python2.7/site-packages/IPython/core/magic.py\", line 188, in <lambda>\n",
      "    call = lambda f, *a, **k: f(*a, **k)\n",
      "  File \"/opt/conda/lib/python2.7/site-packages/IPython/core/magics/execution.py\", line 742, in run\n",
      "    run()\n",
      "  File \"/opt/conda/lib/python2.7/site-packages/IPython/core/magics/execution.py\", line 728, in run\n",
      "    exit_ignore=exit_ignore)\n",
      "  File \"/opt/conda/lib/python2.7/site-packages/IPython/core/interactiveshell.py\", line 2483, in safe_execfile\n",
      "    self.compile if kw['shell_futures'] else None)\n",
      "  File \"/opt/conda/lib/python2.7/site-packages/IPython/utils/py3compat.py\", line 289, in execfile\n",
      "    builtin_mod.execfile(filename, *where)\n",
      "  File \"/opt/notebooks/cs224/assignment3/q3_gru.py\", line 20, in <module>\n",
      "    import matplotlib.pyplot as plt\n",
      "  File \"/opt/conda/lib/python2.7/site-packages/matplotlib/pyplot.py\", line 69, in <module>\n",
      "    from matplotlib.backends import pylab_setup\n",
      "  File \"/opt/conda/lib/python2.7/site-packages/matplotlib/backends/__init__.py\", line 14, in <module>\n",
      "    line for line in traceback.format_stack()\n",
      "\n",
      "\n",
      "  matplotlib.use('TkAgg')\n",
      "INFO:Building model...\n",
      "INFO:took 0.32 seconds\n",
      "INFO:Epoch 1 out of 40\n"
     ]
    },
    {
     "name": "stdout",
     "output_type": "stream",
     "text": [
      "100/100 [==============================] - 1s - train loss: 12.5383     "
     ]
    },
    {
     "name": "stderr",
     "output_type": "stream",
     "text": [
      "INFO:Epoch 2 out of 40\n"
     ]
    },
    {
     "name": "stdout",
     "output_type": "stream",
     "text": [
      "\n",
      "100/100 [==============================] - 1s - train loss: 12.5465     "
     ]
    },
    {
     "name": "stderr",
     "output_type": "stream",
     "text": [
      "INFO:Epoch 3 out of 40\n"
     ]
    },
    {
     "name": "stdout",
     "output_type": "stream",
     "text": [
      "\n",
      "100/100 [==============================] - 1s - train loss: 12.5144     "
     ]
    },
    {
     "name": "stderr",
     "output_type": "stream",
     "text": [
      "INFO:Epoch 4 out of 40\n"
     ]
    },
    {
     "name": "stdout",
     "output_type": "stream",
     "text": [
      "\n",
      "100/100 [==============================] - 1s - train loss: 12.5163     "
     ]
    },
    {
     "name": "stderr",
     "output_type": "stream",
     "text": [
      "INFO:Epoch 5 out of 40\n"
     ]
    },
    {
     "name": "stdout",
     "output_type": "stream",
     "text": [
      "\n",
      "100/100 [==============================] - 1s - train loss: 12.5202     "
     ]
    },
    {
     "name": "stderr",
     "output_type": "stream",
     "text": [
      "INFO:Epoch 6 out of 40\n"
     ]
    },
    {
     "name": "stdout",
     "output_type": "stream",
     "text": [
      "\n",
      "100/100 [==============================] - 1s - train loss: 12.5165     "
     ]
    },
    {
     "name": "stderr",
     "output_type": "stream",
     "text": [
      "INFO:Epoch 7 out of 40\n"
     ]
    },
    {
     "name": "stdout",
     "output_type": "stream",
     "text": [
      "\n",
      "100/100 [==============================] - 1s - train loss: 12.5087     "
     ]
    },
    {
     "name": "stderr",
     "output_type": "stream",
     "text": [
      "INFO:Epoch 8 out of 40\n"
     ]
    },
    {
     "name": "stdout",
     "output_type": "stream",
     "text": [
      "\n",
      "100/100 [==============================] - 1s - train loss: 12.5097     "
     ]
    },
    {
     "name": "stderr",
     "output_type": "stream",
     "text": [
      "INFO:Epoch 9 out of 40\n"
     ]
    },
    {
     "name": "stdout",
     "output_type": "stream",
     "text": [
      "\n",
      "100/100 [==============================] - 1s - train loss: 12.5085     "
     ]
    },
    {
     "name": "stderr",
     "output_type": "stream",
     "text": [
      "INFO:Epoch 10 out of 40\n"
     ]
    },
    {
     "name": "stdout",
     "output_type": "stream",
     "text": [
      "\n",
      "100/100 [==============================] - 1s - train loss: 12.5074     "
     ]
    },
    {
     "name": "stderr",
     "output_type": "stream",
     "text": [
      "INFO:Epoch 11 out of 40\n"
     ]
    },
    {
     "name": "stdout",
     "output_type": "stream",
     "text": [
      "\n",
      "100/100 [==============================] - 1s - train loss: 12.5053     "
     ]
    },
    {
     "name": "stderr",
     "output_type": "stream",
     "text": [
      "INFO:Epoch 12 out of 40\n"
     ]
    },
    {
     "name": "stdout",
     "output_type": "stream",
     "text": [
      "\n",
      "100/100 [==============================] - 1s - train loss: 12.5049     "
     ]
    },
    {
     "name": "stderr",
     "output_type": "stream",
     "text": [
      "INFO:Epoch 13 out of 40\n"
     ]
    },
    {
     "name": "stdout",
     "output_type": "stream",
     "text": [
      "\n",
      "100/100 [==============================] - 1s - train loss: 12.5107     "
     ]
    },
    {
     "name": "stderr",
     "output_type": "stream",
     "text": [
      "INFO:Epoch 14 out of 40\n"
     ]
    },
    {
     "name": "stdout",
     "output_type": "stream",
     "text": [
      "\n",
      "100/100 [==============================] - 1s - train loss: 12.5021     "
     ]
    },
    {
     "name": "stderr",
     "output_type": "stream",
     "text": [
      "INFO:Epoch 15 out of 40\n"
     ]
    },
    {
     "name": "stdout",
     "output_type": "stream",
     "text": [
      "\n",
      "100/100 [==============================] - 1s - train loss: 12.5056     "
     ]
    },
    {
     "name": "stderr",
     "output_type": "stream",
     "text": [
      "INFO:Epoch 16 out of 40\n"
     ]
    },
    {
     "name": "stdout",
     "output_type": "stream",
     "text": [
      "\n",
      "100/100 [==============================] - 1s - train loss: 12.5051     "
     ]
    },
    {
     "name": "stderr",
     "output_type": "stream",
     "text": [
      "INFO:Epoch 17 out of 40\n"
     ]
    },
    {
     "name": "stdout",
     "output_type": "stream",
     "text": [
      "\n",
      "100/100 [==============================] - 1s - train loss: 12.5045      ETA: 0s - train l"
     ]
    },
    {
     "name": "stderr",
     "output_type": "stream",
     "text": [
      "INFO:Epoch 18 out of 40\n"
     ]
    },
    {
     "name": "stdout",
     "output_type": "stream",
     "text": [
      "\n",
      "100/100 [==============================] - 1s - train loss: 12.5061     "
     ]
    },
    {
     "name": "stderr",
     "output_type": "stream",
     "text": [
      "INFO:Epoch 19 out of 40\n"
     ]
    },
    {
     "name": "stdout",
     "output_type": "stream",
     "text": [
      "\n",
      "100/100 [==============================] - 1s - train loss: 12.5023     "
     ]
    },
    {
     "name": "stderr",
     "output_type": "stream",
     "text": [
      "INFO:Epoch 20 out of 40\n"
     ]
    },
    {
     "name": "stdout",
     "output_type": "stream",
     "text": [
      "\n",
      "100/100 [==============================] - 1s - train loss: 12.4908     "
     ]
    },
    {
     "name": "stderr",
     "output_type": "stream",
     "text": [
      "INFO:Epoch 21 out of 40\n"
     ]
    },
    {
     "name": "stdout",
     "output_type": "stream",
     "text": [
      "\n",
      "100/100 [==============================] - 1s - train loss: 12.5084     "
     ]
    },
    {
     "name": "stderr",
     "output_type": "stream",
     "text": [
      "INFO:Epoch 22 out of 40\n"
     ]
    },
    {
     "name": "stdout",
     "output_type": "stream",
     "text": [
      "\n",
      "100/100 [==============================] - 1s - train loss: 12.5013     "
     ]
    },
    {
     "name": "stderr",
     "output_type": "stream",
     "text": [
      "INFO:Epoch 23 out of 40\n"
     ]
    },
    {
     "name": "stdout",
     "output_type": "stream",
     "text": [
      "\n",
      "100/100 [==============================] - 1s - train loss: 12.5021     "
     ]
    },
    {
     "name": "stderr",
     "output_type": "stream",
     "text": [
      "INFO:Epoch 24 out of 40\n"
     ]
    },
    {
     "name": "stdout",
     "output_type": "stream",
     "text": [
      "\n",
      "100/100 [==============================] - 1s - train loss: 12.5061     "
     ]
    },
    {
     "name": "stderr",
     "output_type": "stream",
     "text": [
      "INFO:Epoch 25 out of 40\n"
     ]
    },
    {
     "name": "stdout",
     "output_type": "stream",
     "text": [
      "\n",
      "100/100 [==============================] - 1s - train loss: 12.5037     "
     ]
    },
    {
     "name": "stderr",
     "output_type": "stream",
     "text": [
      "INFO:Epoch 26 out of 40\n"
     ]
    },
    {
     "name": "stdout",
     "output_type": "stream",
     "text": [
      "\n",
      "100/100 [==============================] - 1s - train loss: 12.5025     "
     ]
    },
    {
     "name": "stderr",
     "output_type": "stream",
     "text": [
      "INFO:Epoch 27 out of 40\n"
     ]
    },
    {
     "name": "stdout",
     "output_type": "stream",
     "text": [
      "\n",
      "100/100 [==============================] - 1s - train loss: 12.5042     "
     ]
    },
    {
     "name": "stderr",
     "output_type": "stream",
     "text": [
      "INFO:Epoch 28 out of 40\n"
     ]
    },
    {
     "name": "stdout",
     "output_type": "stream",
     "text": [
      "\n",
      "100/100 [==============================] - 1s - train loss: 12.5041     "
     ]
    },
    {
     "name": "stderr",
     "output_type": "stream",
     "text": [
      "INFO:Epoch 29 out of 40\n"
     ]
    },
    {
     "name": "stdout",
     "output_type": "stream",
     "text": [
      "\n",
      "100/100 [==============================] - 1s - train loss: 12.5061     "
     ]
    },
    {
     "name": "stderr",
     "output_type": "stream",
     "text": [
      "INFO:Epoch 30 out of 40\n"
     ]
    },
    {
     "name": "stdout",
     "output_type": "stream",
     "text": [
      "\n",
      "100/100 [==============================] - 1s - train loss: 12.5034     "
     ]
    },
    {
     "name": "stderr",
     "output_type": "stream",
     "text": [
      "INFO:Epoch 31 out of 40\n"
     ]
    },
    {
     "name": "stdout",
     "output_type": "stream",
     "text": [
      "\n",
      "100/100 [==============================] - 1s - train loss: 12.5002     "
     ]
    },
    {
     "name": "stderr",
     "output_type": "stream",
     "text": [
      "INFO:Epoch 32 out of 40\n"
     ]
    },
    {
     "name": "stdout",
     "output_type": "stream",
     "text": [
      "\n",
      "100/100 [==============================] - 1s - train loss: 12.5038     "
     ]
    },
    {
     "name": "stderr",
     "output_type": "stream",
     "text": [
      "INFO:Epoch 33 out of 40\n"
     ]
    },
    {
     "name": "stdout",
     "output_type": "stream",
     "text": [
      "\n",
      "100/100 [==============================] - 1s - train loss: 12.5007     "
     ]
    },
    {
     "name": "stderr",
     "output_type": "stream",
     "text": [
      "INFO:Epoch 34 out of 40\n"
     ]
    },
    {
     "name": "stdout",
     "output_type": "stream",
     "text": [
      "\n",
      "100/100 [==============================] - 1s - train loss: 12.5038     "
     ]
    },
    {
     "name": "stderr",
     "output_type": "stream",
     "text": [
      "INFO:Epoch 35 out of 40\n"
     ]
    },
    {
     "name": "stdout",
     "output_type": "stream",
     "text": [
      "\n",
      "100/100 [==============================] - 1s - train loss: 12.3234     "
     ]
    },
    {
     "name": "stderr",
     "output_type": "stream",
     "text": [
      "INFO:Epoch 36 out of 40\n"
     ]
    },
    {
     "name": "stdout",
     "output_type": "stream",
     "text": [
      "\n",
      "100/100 [==============================] - 1s - train loss: 12.1921     "
     ]
    },
    {
     "name": "stderr",
     "output_type": "stream",
     "text": [
      "INFO:Epoch 37 out of 40\n"
     ]
    },
    {
     "name": "stdout",
     "output_type": "stream",
     "text": [
      "\n",
      "100/100 [==============================] - 1s - train loss: 12.5004     "
     ]
    },
    {
     "name": "stderr",
     "output_type": "stream",
     "text": [
      "INFO:Epoch 38 out of 40\n"
     ]
    },
    {
     "name": "stdout",
     "output_type": "stream",
     "text": [
      "\n",
      "100/100 [==============================] - 1s - train loss: 12.5000     "
     ]
    },
    {
     "name": "stderr",
     "output_type": "stream",
     "text": [
      "INFO:Epoch 39 out of 40\n"
     ]
    },
    {
     "name": "stdout",
     "output_type": "stream",
     "text": [
      "\n",
      "100/100 [==============================] - 1s - train loss: 12.4998     "
     ]
    },
    {
     "name": "stderr",
     "output_type": "stream",
     "text": [
      "INFO:Epoch 40 out of 40\n"
     ]
    },
    {
     "name": "stdout",
     "output_type": "stream",
     "text": [
      "\n",
      "100/100 [==============================] - 1s - train loss: 12.4996     \n"
     ]
    },
    {
     "name": "stderr",
     "output_type": "stream",
     "text": [
      "q3_gru.py:28: UserWarning: \n",
      "This call to matplotlib.use() has no effect because the backend has already\n",
      "been chosen; matplotlib.use() must be called *before* pylab, matplotlib.pyplot,\n",
      "or matplotlib.backends is imported for the first time.\n",
      "\n",
      "The backend was *originally* set to 'module://ipykernel.pylab.backend_inline' by the following code:\n",
      "  File \"/opt/conda/lib/python2.7/runpy.py\", line 174, in _run_module_as_main\n",
      "    \"__main__\", fname, loader, pkg_name)\n",
      "  File \"/opt/conda/lib/python2.7/runpy.py\", line 72, in _run_code\n",
      "    exec code in run_globals\n",
      "  File \"/opt/conda/lib/python2.7/site-packages/ipykernel_launcher.py\", line 16, in <module>\n",
      "    app.launch_new_instance()\n",
      "  File \"/opt/conda/lib/python2.7/site-packages/traitlets/config/application.py\", line 658, in launch_instance\n",
      "    app.start()\n",
      "  File \"/opt/conda/lib/python2.7/site-packages/ipykernel/kernelapp.py\", line 477, in start\n",
      "    ioloop.IOLoop.instance().start()\n",
      "  File \"/opt/conda/lib/python2.7/site-packages/zmq/eventloop/ioloop.py\", line 177, in start\n",
      "    super(ZMQIOLoop, self).start()\n",
      "  File \"/opt/conda/lib/python2.7/site-packages/tornado/ioloop.py\", line 888, in start\n",
      "    handler_func(fd_obj, events)\n",
      "  File \"/opt/conda/lib/python2.7/site-packages/tornado/stack_context.py\", line 277, in null_wrapper\n",
      "    return fn(*args, **kwargs)\n",
      "  File \"/opt/conda/lib/python2.7/site-packages/zmq/eventloop/zmqstream.py\", line 440, in _handle_events\n",
      "    self._handle_recv()\n",
      "  File \"/opt/conda/lib/python2.7/site-packages/zmq/eventloop/zmqstream.py\", line 472, in _handle_recv\n",
      "    self._run_callback(callback, msg)\n",
      "  File \"/opt/conda/lib/python2.7/site-packages/zmq/eventloop/zmqstream.py\", line 414, in _run_callback\n",
      "    callback(*args, **kwargs)\n",
      "  File \"/opt/conda/lib/python2.7/site-packages/tornado/stack_context.py\", line 277, in null_wrapper\n",
      "    return fn(*args, **kwargs)\n",
      "  File \"/opt/conda/lib/python2.7/site-packages/ipykernel/kernelbase.py\", line 283, in dispatcher\n",
      "    return self.dispatch_shell(stream, msg)\n",
      "  File \"/opt/conda/lib/python2.7/site-packages/ipykernel/kernelbase.py\", line 235, in dispatch_shell\n",
      "    handler(stream, idents, msg)\n",
      "  File \"/opt/conda/lib/python2.7/site-packages/ipykernel/kernelbase.py\", line 399, in execute_request\n",
      "    user_expressions, allow_stdin)\n",
      "  File \"/opt/conda/lib/python2.7/site-packages/ipykernel/ipkernel.py\", line 196, in do_execute\n",
      "    res = shell.run_cell(code, store_history=store_history, silent=silent)\n",
      "  File \"/opt/conda/lib/python2.7/site-packages/ipykernel/zmqshell.py\", line 533, in run_cell\n",
      "    return super(ZMQInteractiveShell, self).run_cell(*args, **kwargs)\n",
      "  File \"/opt/conda/lib/python2.7/site-packages/IPython/core/interactiveshell.py\", line 2718, in run_cell\n",
      "    interactivity=interactivity, compiler=compiler, result=result)\n",
      "  File \"/opt/conda/lib/python2.7/site-packages/IPython/core/interactiveshell.py\", line 2822, in run_ast_nodes\n",
      "    if self.run_code(code, result):\n",
      "  File \"/opt/conda/lib/python2.7/site-packages/IPython/core/interactiveshell.py\", line 2882, in run_code\n",
      "    exec(code_obj, self.user_global_ns, self.user_ns)\n",
      "  File \"<ipython-input-1-3ead07d77735>\", line 1, in <module>\n",
      "    get_ipython().magic(u'run q3_gru.py predict -c rnn')\n",
      "  File \"/opt/conda/lib/python2.7/site-packages/IPython/core/interactiveshell.py\", line 2160, in magic\n",
      "    return self.run_line_magic(magic_name, magic_arg_s)\n",
      "  File \"/opt/conda/lib/python2.7/site-packages/IPython/core/interactiveshell.py\", line 2081, in run_line_magic\n",
      "    result = fn(*args,**kwargs)\n",
      "  File \"<decorator-gen-58>\", line 2, in run\n",
      "  File \"/opt/conda/lib/python2.7/site-packages/IPython/core/magic.py\", line 188, in <lambda>\n",
      "    call = lambda f, *a, **k: f(*a, **k)\n",
      "  File \"/opt/conda/lib/python2.7/site-packages/IPython/core/magics/execution.py\", line 742, in run\n",
      "    run()\n",
      "  File \"/opt/conda/lib/python2.7/site-packages/IPython/core/magics/execution.py\", line 728, in run\n",
      "    exit_ignore=exit_ignore)\n",
      "  File \"/opt/conda/lib/python2.7/site-packages/IPython/core/interactiveshell.py\", line 2483, in safe_execfile\n",
      "    self.compile if kw['shell_futures'] else None)\n",
      "  File \"/opt/conda/lib/python2.7/site-packages/IPython/utils/py3compat.py\", line 289, in execfile\n",
      "    builtin_mod.execfile(filename, *where)\n",
      "  File \"/opt/notebooks/cs224/assignment3/q3_gru.py\", line 20, in <module>\n",
      "    import matplotlib.pyplot as plt\n",
      "  File \"/opt/conda/lib/python2.7/site-packages/matplotlib/pyplot.py\", line 69, in <module>\n",
      "    from matplotlib.backends import pylab_setup\n",
      "  File \"/opt/conda/lib/python2.7/site-packages/matplotlib/backends/__init__.py\", line 14, in <module>\n",
      "    line for line in traceback.format_stack()\n",
      "\n",
      "\n",
      "  matplotlib.use('TkAgg')\n",
      "INFO:Building model...\n",
      "INFO:took 0.30 seconds\n",
      "INFO:Epoch 1 out of 40\n"
     ]
    },
    {
     "name": "stdout",
     "output_type": "stream",
     "text": [
      "100/100 [==============================] - 1s - train loss: 12.5383     "
     ]
    },
    {
     "name": "stderr",
     "output_type": "stream",
     "text": [
      "INFO:Epoch 2 out of 40\n"
     ]
    },
    {
     "name": "stdout",
     "output_type": "stream",
     "text": [
      "\n",
      "100/100 [==============================] - 1s - train loss: 12.5465     "
     ]
    },
    {
     "name": "stderr",
     "output_type": "stream",
     "text": [
      "INFO:Epoch 3 out of 40\n"
     ]
    },
    {
     "name": "stdout",
     "output_type": "stream",
     "text": [
      "\n",
      "100/100 [==============================] - 1s - train loss: 12.5144     "
     ]
    },
    {
     "name": "stderr",
     "output_type": "stream",
     "text": [
      "INFO:Epoch 4 out of 40\n"
     ]
    },
    {
     "name": "stdout",
     "output_type": "stream",
     "text": [
      "\n",
      "100/100 [==============================] - 1s - train loss: 12.5163     "
     ]
    },
    {
     "name": "stderr",
     "output_type": "stream",
     "text": [
      "INFO:Epoch 5 out of 40\n"
     ]
    },
    {
     "name": "stdout",
     "output_type": "stream",
     "text": [
      "\n",
      "100/100 [==============================] - 1s - train loss: 12.5202     "
     ]
    },
    {
     "name": "stderr",
     "output_type": "stream",
     "text": [
      "INFO:Epoch 6 out of 40\n"
     ]
    },
    {
     "name": "stdout",
     "output_type": "stream",
     "text": [
      "\n",
      "100/100 [==============================] - 1s - train loss: 12.5165     "
     ]
    },
    {
     "name": "stderr",
     "output_type": "stream",
     "text": [
      "INFO:Epoch 7 out of 40\n"
     ]
    },
    {
     "name": "stdout",
     "output_type": "stream",
     "text": [
      "\n",
      "100/100 [==============================] - 1s - train loss: 12.5087     "
     ]
    },
    {
     "name": "stderr",
     "output_type": "stream",
     "text": [
      "INFO:Epoch 8 out of 40\n"
     ]
    },
    {
     "name": "stdout",
     "output_type": "stream",
     "text": [
      "\n",
      "100/100 [==============================] - 1s - train loss: 12.5097     "
     ]
    },
    {
     "name": "stderr",
     "output_type": "stream",
     "text": [
      "INFO:Epoch 9 out of 40\n"
     ]
    },
    {
     "name": "stdout",
     "output_type": "stream",
     "text": [
      "\n",
      "100/100 [==============================] - 1s - train loss: 12.5085     "
     ]
    },
    {
     "name": "stderr",
     "output_type": "stream",
     "text": [
      "INFO:Epoch 10 out of 40\n"
     ]
    },
    {
     "name": "stdout",
     "output_type": "stream",
     "text": [
      "\n",
      "100/100 [==============================] - 1s - train loss: 12.5074     "
     ]
    },
    {
     "name": "stderr",
     "output_type": "stream",
     "text": [
      "INFO:Epoch 11 out of 40\n"
     ]
    },
    {
     "name": "stdout",
     "output_type": "stream",
     "text": [
      "\n",
      "100/100 [==============================] - 1s - train loss: 12.5053     "
     ]
    },
    {
     "name": "stderr",
     "output_type": "stream",
     "text": [
      "INFO:Epoch 12 out of 40\n"
     ]
    },
    {
     "name": "stdout",
     "output_type": "stream",
     "text": [
      "\n",
      "100/100 [==============================] - 1s - train loss: 12.5049     "
     ]
    },
    {
     "name": "stderr",
     "output_type": "stream",
     "text": [
      "INFO:Epoch 13 out of 40\n"
     ]
    },
    {
     "name": "stdout",
     "output_type": "stream",
     "text": [
      "\n",
      "100/100 [==============================] - 1s - train loss: 12.5107     "
     ]
    },
    {
     "name": "stderr",
     "output_type": "stream",
     "text": [
      "INFO:Epoch 14 out of 40\n"
     ]
    },
    {
     "name": "stdout",
     "output_type": "stream",
     "text": [
      "\n",
      "100/100 [==============================] - 1s - train loss: 12.5021     "
     ]
    },
    {
     "name": "stderr",
     "output_type": "stream",
     "text": [
      "INFO:Epoch 15 out of 40\n"
     ]
    },
    {
     "name": "stdout",
     "output_type": "stream",
     "text": [
      "\n",
      "100/100 [==============================] - 1s - train loss: 12.5056     "
     ]
    },
    {
     "name": "stderr",
     "output_type": "stream",
     "text": [
      "INFO:Epoch 16 out of 40\n"
     ]
    },
    {
     "name": "stdout",
     "output_type": "stream",
     "text": [
      "\n",
      "100/100 [==============================] - 1s - train loss: 12.5051     "
     ]
    },
    {
     "name": "stderr",
     "output_type": "stream",
     "text": [
      "INFO:Epoch 17 out of 40\n"
     ]
    },
    {
     "name": "stdout",
     "output_type": "stream",
     "text": [
      "\n",
      "100/100 [==============================] - 1s - train loss: 12.5045     "
     ]
    },
    {
     "name": "stderr",
     "output_type": "stream",
     "text": [
      "INFO:Epoch 18 out of 40\n"
     ]
    },
    {
     "name": "stdout",
     "output_type": "stream",
     "text": [
      "\n",
      "100/100 [==============================] - 1s - train loss: 12.5061     "
     ]
    },
    {
     "name": "stderr",
     "output_type": "stream",
     "text": [
      "INFO:Epoch 19 out of 40\n"
     ]
    },
    {
     "name": "stdout",
     "output_type": "stream",
     "text": [
      "\n",
      "100/100 [==============================] - 1s - train loss: 12.5023     "
     ]
    },
    {
     "name": "stderr",
     "output_type": "stream",
     "text": [
      "INFO:Epoch 20 out of 40\n"
     ]
    },
    {
     "name": "stdout",
     "output_type": "stream",
     "text": [
      "\n",
      "100/100 [==============================] - 1s - train loss: 12.4908     "
     ]
    },
    {
     "name": "stderr",
     "output_type": "stream",
     "text": [
      "INFO:Epoch 21 out of 40\n"
     ]
    },
    {
     "name": "stdout",
     "output_type": "stream",
     "text": [
      "\n",
      "100/100 [==============================] - 1s - train loss: 12.5084     "
     ]
    },
    {
     "name": "stderr",
     "output_type": "stream",
     "text": [
      "INFO:Epoch 22 out of 40\n"
     ]
    },
    {
     "name": "stdout",
     "output_type": "stream",
     "text": [
      "\n",
      "100/100 [==============================] - 1s - train loss: 12.5013     "
     ]
    },
    {
     "name": "stderr",
     "output_type": "stream",
     "text": [
      "INFO:Epoch 23 out of 40\n"
     ]
    },
    {
     "name": "stdout",
     "output_type": "stream",
     "text": [
      "\n",
      "100/100 [==============================] - 1s - train loss: 12.5021     "
     ]
    },
    {
     "name": "stderr",
     "output_type": "stream",
     "text": [
      "INFO:Epoch 24 out of 40\n"
     ]
    },
    {
     "name": "stdout",
     "output_type": "stream",
     "text": [
      "\n",
      "100/100 [==============================] - 1s - train loss: 12.5061     "
     ]
    },
    {
     "name": "stderr",
     "output_type": "stream",
     "text": [
      "INFO:Epoch 25 out of 40\n"
     ]
    },
    {
     "name": "stdout",
     "output_type": "stream",
     "text": [
      "\n",
      "100/100 [==============================] - 1s - train loss: 12.5037     "
     ]
    },
    {
     "name": "stderr",
     "output_type": "stream",
     "text": [
      "INFO:Epoch 26 out of 40\n"
     ]
    },
    {
     "name": "stdout",
     "output_type": "stream",
     "text": [
      "\n",
      "100/100 [==============================] - 1s - train loss: 12.5025     "
     ]
    },
    {
     "name": "stderr",
     "output_type": "stream",
     "text": [
      "INFO:Epoch 27 out of 40\n"
     ]
    },
    {
     "name": "stdout",
     "output_type": "stream",
     "text": [
      "\n",
      "100/100 [==============================] - 1s - train loss: 12.5042     "
     ]
    },
    {
     "name": "stderr",
     "output_type": "stream",
     "text": [
      "INFO:Epoch 28 out of 40\n"
     ]
    },
    {
     "name": "stdout",
     "output_type": "stream",
     "text": [
      "\n",
      "100/100 [==============================] - 1s - train loss: 12.5041     "
     ]
    },
    {
     "name": "stderr",
     "output_type": "stream",
     "text": [
      "INFO:Epoch 29 out of 40\n"
     ]
    },
    {
     "name": "stdout",
     "output_type": "stream",
     "text": [
      "\n",
      "100/100 [==============================] - 1s - train loss: 12.5061     "
     ]
    },
    {
     "name": "stderr",
     "output_type": "stream",
     "text": [
      "INFO:Epoch 30 out of 40\n"
     ]
    },
    {
     "name": "stdout",
     "output_type": "stream",
     "text": [
      "\n",
      "100/100 [==============================] - 1s - train loss: 12.5034      ETA: 0s - train loss: 12.50"
     ]
    },
    {
     "name": "stderr",
     "output_type": "stream",
     "text": [
      "INFO:Epoch 31 out of 40\n"
     ]
    },
    {
     "name": "stdout",
     "output_type": "stream",
     "text": [
      "\n",
      "100/100 [==============================] - 1s - train loss: 12.5002     "
     ]
    },
    {
     "name": "stderr",
     "output_type": "stream",
     "text": [
      "INFO:Epoch 32 out of 40\n"
     ]
    },
    {
     "name": "stdout",
     "output_type": "stream",
     "text": [
      "\n",
      "100/100 [==============================] - 1s - train loss: 12.5038     "
     ]
    },
    {
     "name": "stderr",
     "output_type": "stream",
     "text": [
      "INFO:Epoch 33 out of 40\n"
     ]
    },
    {
     "name": "stdout",
     "output_type": "stream",
     "text": [
      "\n",
      "100/100 [==============================] - 1s - train loss: 12.5007     "
     ]
    },
    {
     "name": "stderr",
     "output_type": "stream",
     "text": [
      "INFO:Epoch 34 out of 40\n"
     ]
    },
    {
     "name": "stdout",
     "output_type": "stream",
     "text": [
      "\n",
      "100/100 [==============================] - 1s - train loss: 12.5038     "
     ]
    },
    {
     "name": "stderr",
     "output_type": "stream",
     "text": [
      "INFO:Epoch 35 out of 40\n"
     ]
    },
    {
     "name": "stdout",
     "output_type": "stream",
     "text": [
      "\n",
      "100/100 [==============================] - 1s - train loss: 12.2738     "
     ]
    },
    {
     "name": "stderr",
     "output_type": "stream",
     "text": [
      "INFO:Epoch 36 out of 40\n"
     ]
    },
    {
     "name": "stdout",
     "output_type": "stream",
     "text": [
      "\n",
      "100/100 [==============================] - 1s - train loss: 12.2904     "
     ]
    },
    {
     "name": "stderr",
     "output_type": "stream",
     "text": [
      "INFO:Epoch 37 out of 40\n"
     ]
    },
    {
     "name": "stdout",
     "output_type": "stream",
     "text": [
      "\n",
      "100/100 [==============================] - 1s - train loss: 12.4835     \n"
     ]
    },
    {
     "name": "stderr",
     "output_type": "stream",
     "text": [
      "INFO:Epoch 38 out of 40\n"
     ]
    },
    {
     "name": "stdout",
     "output_type": "stream",
     "text": [
      "100/100 [==============================] - 1s - train loss: 12.3402     "
     ]
    },
    {
     "name": "stderr",
     "output_type": "stream",
     "text": [
      "INFO:Epoch 39 out of 40\n"
     ]
    },
    {
     "name": "stdout",
     "output_type": "stream",
     "text": [
      "\n",
      "100/100 [==============================] - 1s - train loss: 12.5123     "
     ]
    },
    {
     "name": "stderr",
     "output_type": "stream",
     "text": [
      "INFO:Epoch 40 out of 40\n"
     ]
    },
    {
     "name": "stdout",
     "output_type": "stream",
     "text": [
      "\n",
      "100/100 [==============================] - 1s - train loss: 12.5122     \n"
     ]
    }
   ],
   "source": [
    "%run q3_gru.py predict -c rnn\n",
    "plt.clf()\n",
    "%run q3_gru.py predict -c rnn -g\n",
    "plt.clf()\n",
    "%run q3_gru.py predict -c gru\n",
    "plt.clf()\n",
    "%run q3_gru.py predict -c gru -g"
   ]
  },
  {
   "cell_type": "code",
   "execution_count": 1,
   "metadata": {},
   "outputs": [
    {
     "name": "stderr",
     "output_type": "stream",
     "text": [
      "INFO:Loading training data...\n",
      "INFO:Done. Read 14041 sentences\n",
      "INFO:Loading dev data...\n",
      "INFO:Done. Read 3250 sentences\n",
      "INFO:Built dictionary for 10007 features.\n",
      "INFO:Initialized embeddings.\n",
      "INFO:Building model...\n",
      "/opt/conda/lib/python2.7/site-packages/tensorflow/python/ops/gradients_impl.py:96: UserWarning: Converting sparse IndexedSlices to a dense Tensor of unknown shape. This may consume a large amount of memory.\n",
      "  \"Converting sparse IndexedSlices to a dense Tensor of unknown shape. \"\n",
      "INFO:took 12.68 seconds\n",
      "INFO:Epoch 1 out of 10\n"
     ]
    },
    {
     "name": "stdout",
     "output_type": "stream",
     "text": [
      "439/439 [==============================] - 34s - train loss: 2.7351    "
     ]
    },
    {
     "name": "stderr",
     "output_type": "stream",
     "text": [
      "INFO:Evaluating on development data\n"
     ]
    },
    {
     "name": "stdout",
     "output_type": "stream",
     "text": [
      "\n",
      "\n",
      "102/102 [==============================] - 2s     \n"
     ]
    },
    {
     "name": "stderr",
     "output_type": "stream",
     "text": [
      "DEBUG:Token-level confusion matrix:\n",
      "go\\gu   \tPER     \tORG     \tLOC     \tMISC    \tO       \n",
      "PER     \t2823.00 \t146.00  \t64.00   \t28.00   \t88.00   \n",
      "ORG     \t214.00  \t1448.00 \t128.00  \t144.00  \t158.00  \n",
      "LOC     \t64.00   \t286.00  \t1590.00 \t73.00   \t81.00   \n",
      "MISC    \t44.00   \t136.00  \t63.00   \t898.00  \t127.00  \n",
      "O       \t85.00   \t90.00   \t28.00   \t49.00   \t42507.00\n",
      "\n",
      "DEBUG:Token-level scores:\n",
      "label\tacc  \tprec \trec  \tf1   \n",
      "PER  \t0.99 \t0.87 \t0.90 \t0.89 \n",
      "ORG  \t0.97 \t0.69 \t0.69 \t0.69 \n",
      "LOC  \t0.98 \t0.85 \t0.76 \t0.80 \n",
      "MISC \t0.99 \t0.75 \t0.71 \t0.73 \n",
      "O    \t0.99 \t0.99 \t0.99 \t0.99 \n",
      "micro\t0.98 \t0.96 \t0.96 \t0.96 \n",
      "macro\t0.98 \t0.83 \t0.81 \t0.82 \n",
      "not-O\t0.98 \t0.80 \t0.79 \t0.79 \n",
      "\n",
      "INFO:Entity level P/R/F1: 0.71/0.75/0.73\n",
      "INFO:New best score! Saving model in results/gru/20180101_062006/model.weights\n",
      "INFO:Epoch 2 out of 10\n"
     ]
    },
    {
     "name": "stdout",
     "output_type": "stream",
     "text": [
      "\n",
      "439/439 [==============================] - 31s - train loss: 1.5547    "
     ]
    },
    {
     "name": "stderr",
     "output_type": "stream",
     "text": [
      "INFO:Evaluating on development data\n"
     ]
    },
    {
     "name": "stdout",
     "output_type": "stream",
     "text": [
      "\n",
      "\n",
      "102/102 [==============================] - 2s     \n"
     ]
    },
    {
     "name": "stderr",
     "output_type": "stream",
     "text": [
      "DEBUG:Token-level confusion matrix:\n",
      "go\\gu   \tPER     \tORG     \tLOC     \tMISC    \tO       \n",
      "PER     \t2784.00 \t197.00  \t49.00   \t26.00   \t93.00   \n",
      "ORG     \t103.00  \t1683.00 \t91.00   \t100.00  \t115.00  \n",
      "LOC     \t29.00   \t295.00  \t1677.00 \t42.00   \t51.00   \n",
      "MISC    \t17.00   \t117.00  \t43.00   \t979.00  \t112.00  \n",
      "O       \t44.00   \t110.00  \t11.00   \t49.00   \t42545.00\n",
      "\n",
      "DEBUG:Token-level scores:\n",
      "label\tacc  \tprec \trec  \tf1   \n",
      "PER  \t0.99 \t0.94 \t0.88 \t0.91 \n",
      "ORG  \t0.98 \t0.70 \t0.80 \t0.75 \n",
      "LOC  \t0.99 \t0.90 \t0.80 \t0.85 \n",
      "MISC \t0.99 \t0.82 \t0.77 \t0.79 \n",
      "O    \t0.99 \t0.99 \t0.99 \t0.99 \n",
      "micro\t0.99 \t0.97 \t0.97 \t0.97 \n",
      "macro\t0.99 \t0.87 \t0.85 \t0.86 \n",
      "not-O\t0.99 \t0.84 \t0.83 \t0.84 \n",
      "\n",
      "INFO:Entity level P/R/F1: 0.77/0.79/0.78\n",
      "INFO:New best score! Saving model in results/gru/20180101_062006/model.weights\n",
      "INFO:Epoch 3 out of 10\n"
     ]
    },
    {
     "name": "stdout",
     "output_type": "stream",
     "text": [
      "\n",
      "439/439 [==============================] - 31s - train loss: 1.0599    "
     ]
    },
    {
     "name": "stderr",
     "output_type": "stream",
     "text": [
      "INFO:Evaluating on development data\n"
     ]
    },
    {
     "name": "stdout",
     "output_type": "stream",
     "text": [
      "\n",
      "\n",
      "102/102 [==============================] - 2s     \n"
     ]
    },
    {
     "name": "stderr",
     "output_type": "stream",
     "text": [
      "DEBUG:Token-level confusion matrix:\n",
      "go\\gu   \tPER     \tORG     \tLOC     \tMISC    \tO       \n",
      "PER     \t2819.00 \t89.00   \t124.00  \t18.00   \t99.00   \n",
      "ORG     \t110.00  \t1641.00 \t155.00  \t63.00   \t123.00  \n",
      "LOC     \t17.00   \t176.00  \t1843.00 \t12.00   \t46.00   \n",
      "MISC    \t21.00   \t83.00   \t98.00   \t948.00  \t118.00  \n",
      "O       \t39.00   \t67.00   \t23.00   \t38.00   \t42592.00\n",
      "\n",
      "DEBUG:Token-level scores:\n",
      "label\tacc  \tprec \trec  \tf1   \n",
      "PER  \t0.99 \t0.94 \t0.90 \t0.92 \n",
      "ORG  \t0.98 \t0.80 \t0.78 \t0.79 \n",
      "LOC  \t0.99 \t0.82 \t0.88 \t0.85 \n",
      "MISC \t0.99 \t0.88 \t0.75 \t0.81 \n",
      "O    \t0.99 \t0.99 \t1.00 \t0.99 \n",
      "micro\t0.99 \t0.97 \t0.97 \t0.97 \n",
      "macro\t0.99 \t0.89 \t0.86 \t0.87 \n",
      "not-O\t0.99 \t0.86 \t0.84 \t0.85 \n",
      "\n",
      "INFO:Entity level P/R/F1: 0.79/0.82/0.81\n",
      "INFO:New best score! Saving model in results/gru/20180101_062006/model.weights\n",
      "INFO:Epoch 4 out of 10\n"
     ]
    },
    {
     "name": "stdout",
     "output_type": "stream",
     "text": [
      "\n",
      "439/439 [==============================] - 31s - train loss: 0.7736    "
     ]
    },
    {
     "name": "stderr",
     "output_type": "stream",
     "text": [
      "INFO:Evaluating on development data\n"
     ]
    },
    {
     "name": "stdout",
     "output_type": "stream",
     "text": [
      "\n",
      "\n",
      "102/102 [==============================] - 2s     \n"
     ]
    },
    {
     "name": "stderr",
     "output_type": "stream",
     "text": [
      "DEBUG:Token-level confusion matrix:\n",
      "go\\gu   \tPER     \tORG     \tLOC     \tMISC    \tO       \n",
      "PER     \t3004.00 \t58.00   \t15.00   \t18.00   \t54.00   \n",
      "ORG     \t156.00  \t1650.00 \t42.00   \t147.00  \t97.00   \n",
      "LOC     \t75.00   \t181.00  \t1745.00 \t62.00   \t31.00   \n",
      "MISC    \t41.00   \t55.00   \t21.00   \t1044.00 \t107.00  \n",
      "O       \t55.00   \t69.00   \t8.00    \t52.00   \t42575.00\n",
      "\n",
      "DEBUG:Token-level scores:\n",
      "label\tacc  \tprec \trec  \tf1   \n",
      "PER  \t0.99 \t0.90 \t0.95 \t0.93 \n",
      "ORG  \t0.98 \t0.82 \t0.79 \t0.80 \n",
      "LOC  \t0.99 \t0.95 \t0.83 \t0.89 \n",
      "MISC \t0.99 \t0.79 \t0.82 \t0.81 \n",
      "O    \t0.99 \t0.99 \t1.00 \t0.99 \n",
      "micro\t0.99 \t0.97 \t0.97 \t0.97 \n",
      "macro\t0.99 \t0.89 \t0.88 \t0.88 \n",
      "not-O\t0.99 \t0.88 \t0.87 \t0.87 \n",
      "\n",
      "INFO:Entity level P/R/F1: 0.81/0.84/0.82\n",
      "INFO:New best score! Saving model in results/gru/20180101_062006/model.weights\n",
      "INFO:Epoch 5 out of 10\n"
     ]
    },
    {
     "name": "stdout",
     "output_type": "stream",
     "text": [
      "\n",
      "439/439 [==============================] - 30s - train loss: 0.5712    "
     ]
    },
    {
     "name": "stderr",
     "output_type": "stream",
     "text": [
      "INFO:Evaluating on development data\n"
     ]
    },
    {
     "name": "stdout",
     "output_type": "stream",
     "text": [
      "\n",
      "\n",
      "102/102 [==============================] - 2s     \n"
     ]
    },
    {
     "name": "stderr",
     "output_type": "stream",
     "text": [
      "DEBUG:Token-level confusion matrix:\n",
      "go\\gu   \tPER     \tORG     \tLOC     \tMISC    \tO       \n",
      "PER     \t2915.00 \t76.00   \t79.00   \t9.00    \t70.00   \n",
      "ORG     \t116.00  \t1758.00 \t61.00   \t65.00   \t92.00   \n",
      "LOC     \t21.00   \t148.00  \t1864.00 \t24.00   \t37.00   \n",
      "MISC    \t25.00   \t79.00   \t56.00   \t996.00  \t112.00  \n",
      "O       \t46.00   \t89.00   \t25.00   \t29.00   \t42570.00\n",
      "\n",
      "DEBUG:Token-level scores:\n",
      "label\tacc  \tprec \trec  \tf1   \n",
      "PER  \t0.99 \t0.93 \t0.93 \t0.93 \n",
      "ORG  \t0.99 \t0.82 \t0.84 \t0.83 \n",
      "LOC  \t0.99 \t0.89 \t0.89 \t0.89 \n",
      "MISC \t0.99 \t0.89 \t0.79 \t0.83 \n",
      "O    \t0.99 \t0.99 \t1.00 \t0.99 \n",
      "micro\t0.99 \t0.98 \t0.98 \t0.98 \n",
      "macro\t0.99 \t0.90 \t0.89 \t0.90 \n",
      "not-O\t0.99 \t0.89 \t0.88 \t0.88 \n",
      "\n",
      "INFO:Entity level P/R/F1: 0.83/0.85/0.84\n",
      "INFO:New best score! Saving model in results/gru/20180101_062006/model.weights\n",
      "INFO:Epoch 6 out of 10\n"
     ]
    },
    {
     "name": "stdout",
     "output_type": "stream",
     "text": [
      "\n",
      "439/439 [==============================] - 31s - train loss: 0.4371    "
     ]
    },
    {
     "name": "stderr",
     "output_type": "stream",
     "text": [
      "INFO:Evaluating on development data\n"
     ]
    },
    {
     "name": "stdout",
     "output_type": "stream",
     "text": [
      "\n",
      "\n",
      "102/102 [==============================] - 2s     \n"
     ]
    },
    {
     "name": "stderr",
     "output_type": "stream",
     "text": [
      "DEBUG:Token-level confusion matrix:\n",
      "go\\gu   \tPER     \tORG     \tLOC     \tMISC    \tO       \n",
      "PER     \t2882.00 \t52.00   \t87.00   \t11.00   \t117.00  \n",
      "ORG     \t90.00   \t1715.00 \t104.00  \t65.00   \t118.00  \n",
      "LOC     \t23.00   \t91.00   \t1904.00 \t33.00   \t43.00   \n",
      "MISC    \t21.00   \t72.00   \t66.00   \t1007.00 \t102.00  \n",
      "O       \t28.00   \t52.00   \t24.00   \t33.00   \t42622.00\n",
      "\n",
      "DEBUG:Token-level scores:\n",
      "label\tacc  \tprec \trec  \tf1   \n",
      "PER  \t0.99 \t0.95 \t0.92 \t0.93 \n",
      "ORG  \t0.99 \t0.87 \t0.82 \t0.84 \n",
      "LOC  \t0.99 \t0.87 \t0.91 \t0.89 \n",
      "MISC \t0.99 \t0.88 \t0.79 \t0.83 \n",
      "O    \t0.99 \t0.99 \t1.00 \t0.99 \n",
      "micro\t0.99 \t0.98 \t0.98 \t0.98 \n",
      "macro\t0.99 \t0.91 \t0.89 \t0.90 \n",
      "not-O\t0.99 \t0.90 \t0.87 \t0.89 \n",
      "\n",
      "INFO:Entity level P/R/F1: 0.84/0.85/0.85\n",
      "INFO:New best score! Saving model in results/gru/20180101_062006/model.weights\n",
      "INFO:Epoch 7 out of 10\n"
     ]
    },
    {
     "name": "stdout",
     "output_type": "stream",
     "text": [
      "\n",
      "439/439 [==============================] - 30s - train loss: 0.3509    "
     ]
    },
    {
     "name": "stderr",
     "output_type": "stream",
     "text": [
      "INFO:Evaluating on development data\n"
     ]
    },
    {
     "name": "stdout",
     "output_type": "stream",
     "text": [
      "\n",
      "\n",
      "102/102 [==============================] - 2s     \n"
     ]
    },
    {
     "name": "stderr",
     "output_type": "stream",
     "text": [
      "DEBUG:Token-level confusion matrix:\n",
      "go\\gu   \tPER     \tORG     \tLOC     \tMISC    \tO       \n",
      "PER     \t2996.00 \t23.00   \t44.00   \t8.00    \t78.00   \n",
      "ORG     \t151.00  \t1662.00 \t101.00  \t72.00   \t106.00  \n",
      "LOC     \t50.00   \t69.00   \t1928.00 \t14.00   \t33.00   \n",
      "MISC    \t40.00   \t51.00   \t66.00   \t1020.00 \t91.00   \n",
      "O       \t48.00   \t50.00   \t22.00   \t38.00   \t42601.00\n",
      "\n",
      "DEBUG:Token-level scores:\n",
      "label\tacc  \tprec \trec  \tf1   \n",
      "PER  \t0.99 \t0.91 \t0.95 \t0.93 \n",
      "ORG  \t0.99 \t0.90 \t0.79 \t0.84 \n",
      "LOC  \t0.99 \t0.89 \t0.92 \t0.91 \n",
      "MISC \t0.99 \t0.89 \t0.80 \t0.84 \n",
      "O    \t0.99 \t0.99 \t1.00 \t0.99 \n",
      "micro\t0.99 \t0.98 \t0.98 \t0.98 \n",
      "macro\t0.99 \t0.92 \t0.89 \t0.90 \n",
      "not-O\t0.99 \t0.90 \t0.88 \t0.89 \n",
      "\n",
      "INFO:Entity level P/R/F1: 0.85/0.86/0.86\n",
      "INFO:New best score! Saving model in results/gru/20180101_062006/model.weights\n",
      "INFO:Epoch 8 out of 10\n"
     ]
    },
    {
     "name": "stdout",
     "output_type": "stream",
     "text": [
      "\n",
      "439/439 [==============================] - 31s - train loss: 0.2706    "
     ]
    },
    {
     "name": "stderr",
     "output_type": "stream",
     "text": [
      "INFO:Evaluating on development data\n"
     ]
    },
    {
     "name": "stdout",
     "output_type": "stream",
     "text": [
      "\n",
      "\n",
      "102/102 [==============================] - 2s     \n"
     ]
    },
    {
     "name": "stderr",
     "output_type": "stream",
     "text": [
      "DEBUG:Token-level confusion matrix:\n",
      "go\\gu   \tPER     \tORG     \tLOC     \tMISC    \tO       \n",
      "PER     \t2970.00 \t22.00   \t61.00   \t7.00    \t89.00   \n",
      "ORG     \t170.00  \t1613.00 \t77.00   \t77.00   \t155.00  \n",
      "LOC     \t41.00   \t90.00   \t1896.00 \t26.00   \t41.00   \n",
      "MISC    \t55.00   \t23.00   \t41.00   \t1031.00 \t118.00  \n",
      "O       \t42.00   \t29.00   \t17.00   \t27.00   \t42644.00\n",
      "\n",
      "DEBUG:Token-level scores:\n",
      "label\tacc  \tprec \trec  \tf1   \n",
      "PER  \t0.99 \t0.91 \t0.94 \t0.92 \n",
      "ORG  \t0.99 \t0.91 \t0.77 \t0.83 \n",
      "LOC  \t0.99 \t0.91 \t0.91 \t0.91 \n",
      "MISC \t0.99 \t0.88 \t0.81 \t0.85 \n",
      "O    \t0.99 \t0.99 \t1.00 \t0.99 \n",
      "micro\t0.99 \t0.98 \t0.98 \t0.98 \n",
      "macro\t0.99 \t0.92 \t0.89 \t0.90 \n",
      "not-O\t0.99 \t0.90 \t0.87 \t0.89 \n",
      "\n",
      "INFO:Entity level P/R/F1: 0.85/0.85/0.85\n",
      "INFO:Epoch 9 out of 10\n"
     ]
    },
    {
     "name": "stdout",
     "output_type": "stream",
     "text": [
      "\n",
      "439/439 [==============================] - 30s - train loss: 0.2385    "
     ]
    },
    {
     "name": "stderr",
     "output_type": "stream",
     "text": [
      "INFO:Evaluating on development data\n"
     ]
    },
    {
     "name": "stdout",
     "output_type": "stream",
     "text": [
      "\n",
      "\n",
      "102/102 [==============================] - 2s     \n"
     ]
    },
    {
     "name": "stderr",
     "output_type": "stream",
     "text": [
      "DEBUG:Token-level confusion matrix:\n",
      "go\\gu   \tPER     \tORG     \tLOC     \tMISC    \tO       \n",
      "PER     \t2978.00 \t23.00   \t73.00   \t4.00    \t71.00   \n",
      "ORG     \t146.00  \t1689.00 \t101.00  \t32.00   \t124.00  \n",
      "LOC     \t34.00   \t81.00   \t1940.00 \t8.00    \t31.00   \n",
      "MISC    \t49.00   \t81.00   \t68.00   \t954.00  \t116.00  \n",
      "O       \t47.00   \t39.00   \t34.00   \t17.00   \t42622.00\n",
      "\n",
      "DEBUG:Token-level scores:\n",
      "label\tacc  \tprec \trec  \tf1   \n",
      "PER  \t0.99 \t0.92 \t0.95 \t0.93 \n",
      "ORG  \t0.99 \t0.88 \t0.81 \t0.84 \n",
      "LOC  \t0.99 \t0.88 \t0.93 \t0.90 \n",
      "MISC \t0.99 \t0.94 \t0.75 \t0.84 \n",
      "O    \t0.99 \t0.99 \t1.00 \t0.99 \n",
      "micro\t0.99 \t0.98 \t0.98 \t0.98 \n",
      "macro\t0.99 \t0.92 \t0.89 \t0.90 \n",
      "not-O\t0.99 \t0.90 \t0.88 \t0.89 \n",
      "\n",
      "INFO:Entity level P/R/F1: 0.84/0.86/0.85\n",
      "INFO:Epoch 10 out of 10\n"
     ]
    },
    {
     "name": "stdout",
     "output_type": "stream",
     "text": [
      "\n",
      "439/439 [==============================] - 30s - train loss: 0.2013    "
     ]
    },
    {
     "name": "stderr",
     "output_type": "stream",
     "text": [
      "INFO:Evaluating on development data\n"
     ]
    },
    {
     "name": "stdout",
     "output_type": "stream",
     "text": [
      "\n",
      "\n",
      "102/102 [==============================] - 2s     \n"
     ]
    },
    {
     "name": "stderr",
     "output_type": "stream",
     "text": [
      "DEBUG:Token-level confusion matrix:\n",
      "go\\gu   \tPER     \tORG     \tLOC     \tMISC    \tO       \n",
      "PER     \t2939.00 \t42.00   \t86.00   \t7.00    \t75.00   \n",
      "ORG     \t117.00  \t1707.00 \t96.00   \t77.00   \t95.00   \n",
      "LOC     \t28.00   \t76.00   \t1941.00 \t20.00   \t29.00   \n",
      "MISC    \t31.00   \t52.00   \t62.00   \t1018.00 \t105.00  \n",
      "O       \t39.00   \t47.00   \t25.00   \t31.00   \t42617.00\n",
      "\n",
      "DEBUG:Token-level scores:\n",
      "label\tacc  \tprec \trec  \tf1   \n",
      "PER  \t0.99 \t0.93 \t0.93 \t0.93 \n",
      "ORG  \t0.99 \t0.89 \t0.82 \t0.85 \n",
      "LOC  \t0.99 \t0.88 \t0.93 \t0.90 \n",
      "MISC \t0.99 \t0.88 \t0.80 \t0.84 \n",
      "O    \t0.99 \t0.99 \t1.00 \t0.99 \n",
      "micro\t0.99 \t0.98 \t0.98 \t0.98 \n",
      "macro\t0.99 \t0.91 \t0.90 \t0.90 \n",
      "not-O\t0.99 \t0.90 \t0.88 \t0.89 \n",
      "\n",
      "INFO:Entity level P/R/F1: 0.85/0.86/0.85\n"
     ]
    },
    {
     "name": "stdout",
     "output_type": "stream",
     "text": [
      "\n",
      "102/102 [==============================] - 2s     \n"
     ]
    }
   ],
   "source": [
    "%run q2_rnn.py train -c gru"
   ]
  },
  {
   "cell_type": "code",
   "execution_count": null,
   "metadata": {
    "collapsed": true
   },
   "outputs": [],
   "source": []
  }
 ],
 "metadata": {
  "kernelspec": {
   "display_name": "Python 2",
   "language": "python",
   "name": "python2"
  },
  "language_info": {
   "codemirror_mode": {
    "name": "ipython",
    "version": 2
   },
   "file_extension": ".py",
   "mimetype": "text/x-python",
   "name": "python",
   "nbconvert_exporter": "python",
   "pygments_lexer": "ipython2",
   "version": "2.7.14"
  }
 },
 "nbformat": 4,
 "nbformat_minor": 2
}
