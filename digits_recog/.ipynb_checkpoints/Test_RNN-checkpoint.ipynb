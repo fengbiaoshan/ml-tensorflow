{
 "cells": [
  {
   "cell_type": "code",
   "execution_count": 1,
   "metadata": {
    "collapsed": true
   },
   "outputs": [],
   "source": [
    "import numpy as np\n",
    "import tensorflow as tf"
   ]
  },
  {
   "cell_type": "code",
   "execution_count": 2,
   "metadata": {},
   "outputs": [],
   "source": [
    "data = (np.broadcast_to(np.array([0,1,2,3,4,5]), [30000, 6]) + np.arange(30000)[:,None]) % 10\n",
    "np.random.shuffle(data)\n",
    "seq_len = np.full([30000], 6, np.int32)\n",
    "for i in range(1,6):\n",
    "    seq_len[i*5000:(i+1)*5000] = i\n",
    "    data[i*5000:(i+1)*5000, i:] = 10\n",
    "permu = np.random.permutation(30000)\n",
    "data = data[permu]\n",
    "seq_len = seq_len[permu]"
   ]
  },
  {
   "cell_type": "code",
   "execution_count": 3,
   "metadata": {},
   "outputs": [
    {
     "name": "stdout",
     "output_type": "stream",
     "text": [
      "[[ 5  6  7  8  9  0]\n",
      " [ 5  6  7  8 10 10]\n",
      " [ 4  5  6  7  8 10]\n",
      " [ 1  2  3  4  5 10]\n",
      " [ 0  1  2 10 10 10]\n",
      " [ 1  2  3 10 10 10]\n",
      " [ 4  5  6  7 10 10]\n",
      " [ 8  9  0  1  2  3]\n",
      " [ 7  8 10 10 10 10]\n",
      " [ 9  0  1  2  3 10]]\n",
      "[6 4 5 5 3 3 4 6 2 5]\n"
     ]
    }
   ],
   "source": [
    "print(data[:10])\n",
    "print(seq_len[:10])"
   ]
  },
  {
   "cell_type": "code",
   "execution_count": 4,
   "metadata": {},
   "outputs": [],
   "source": [
    "num_units = 200\n",
    "max_time = 6\n",
    "g = tf.Graph()\n",
    "with g.as_default():\n",
    "    data_placeholder = tf.placeholder(tf.int32,shape=[None, max_time])\n",
    "    seq_len_placeholder = tf.placeholder(tf.int32,shape=[None])\n",
    "    \n",
    "    batch_size = tf.shape(data_placeholder)[0]\n",
    "    \n",
    "    data_input = tf.one_hot(data_placeholder, 11)\n",
    "    cell = tf.contrib.rnn.BasicLSTMCell(num_units)\n",
    "    outputs, final_state = tf.nn.dynamic_rnn(\n",
    "                cell,\n",
    "                data_input,\n",
    "                dtype=tf.float32,\n",
    "                sequence_length=seq_len_placeholder,\n",
    "                swap_memory=True)\n",
    "    logits = tf.layers.dense(outputs, 11, use_bias=False)\n",
    "    \n",
    "#     paddings = tf.constant([[0, 0], [0, 1]])\n",
    "#     labels = tf.pad(data_placeholder, paddings, constant_values=10)\n",
    "    pad = tf.constant(10,shape=[1,1])\n",
    "    pad = tf.tile(pad, tf.stack([batch_size, 1]))\n",
    "    labels = tf.concat([data_placeholder, pad], 1)\n",
    "    labels = tf.one_hot(labels,11)\n",
    "    target_weights = tf.sequence_mask(seq_len_placeholder, max_time, dtype=logits.dtype)\n",
    "    loss = tf.reduce_sum(\n",
    "        tf.nn.softmax_cross_entropy_with_logits(labels=labels,logits=logits)*target_weights)/tf.to_float(batch_size)\n",
    "    \n",
    "    optimizer = tf.train.GradientDescentOptimizer(1e-3)\n",
    "    gra, var = zip(*optimizer.compute_gradients(loss))\n",
    "    gra, _ = tf.clip_by_global_norm(gra, 3)\n",
    "    train_op = optimizer.apply_gradients(zip(gra,var))\n",
    "    "
   ]
  },
  {
   "cell_type": "code",
   "execution_count": 8,
   "metadata": {},
   "outputs": [
    {
     "name": "stdout",
     "output_type": "stream",
     "text": [
      "[6 5 5 2 6 4 3 4 1 3 2 6 2 5 2 1 5 1 3 5]\n",
      "(20, 6, 200)\n",
      "(20, 6, 11)\n"
     ]
    }
   ],
   "source": [
    "with tf.Session(graph=g) as sess:\n",
    "    tf.global_variables_initializer().run()\n",
    "    rand_index = np.random.randint(0,30000,20)\n",
    "    batch_data = data[rand_index]\n",
    "    batch_seq_len = seq_len[rand_index]\n",
    "    outputs_e, logits_e = sess.run([outputs, logits], feed_dict={data_placeholder:batch_data, seq_len_placeholder:batch_seq_len})\n",
    "    print(batch_seq_len)\n",
    "    print(outputs_e.shape)"
   ]
  },
  {
   "cell_type": "code",
   "execution_count": null,
   "metadata": {
    "collapsed": true
   },
   "outputs": [],
   "source": []
  }
 ],
 "metadata": {
  "anaconda-cloud": {},
  "kernelspec": {
   "display_name": "Python [conda env:py27]",
   "language": "python",
   "name": "conda-env-py27-py"
  },
  "language_info": {
   "codemirror_mode": {
    "name": "ipython",
    "version": 2
   },
   "file_extension": ".py",
   "mimetype": "text/x-python",
   "name": "python",
   "nbconvert_exporter": "python",
   "pygments_lexer": "ipython2",
   "version": "2.7.13"
  }
 },
 "nbformat": 4,
 "nbformat_minor": 1
}
