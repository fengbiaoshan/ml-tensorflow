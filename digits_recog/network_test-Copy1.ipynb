{
 "cells": [
  {
   "cell_type": "markdown",
   "metadata": {
    "deletable": true,
    "editable": true
   },
   "source": [
    "# 测试网络"
   ]
  },
  {
   "cell_type": "code",
   "execution_count": 8,
   "metadata": {
    "collapsed": false,
    "deletable": true,
    "editable": true
   },
   "outputs": [],
   "source": [
    "from __future__ import print_function\n",
    "import tensorflow as tf\n",
    "import numpy as np\n",
    "import matplotlib.pyplot as plt\n",
    "from six.moves import range\n",
    "from RNNCell_diy import diyLSTMCell\n",
    "from six.moves import cPickle as pickle\n",
    "\n",
    "%matplotlib inline"
   ]
  },
  {
   "cell_type": "markdown",
   "metadata": {
    "deletable": true,
    "editable": true
   },
   "source": [
    "读取训练数据"
   ]
  },
  {
   "cell_type": "code",
   "execution_count": 9,
   "metadata": {
    "collapsed": false,
    "deletable": true,
    "editable": true
   },
   "outputs": [],
   "source": [
    "pfile = './concat_image_valid_test_data.pickle'\n",
    "with open(pfile, \"rb\") as f:\n",
    "    valid_test_data = pickle.load(f)\n",
    "test_dataset = valid_test_data[\"test_dataset\"]\n",
    "test_dataset.shape = test_dataset.shape + (1,)\n",
    "test_labels = valid_test_data[\"test_labels\"]"
   ]
  },
  {
   "cell_type": "code",
   "execution_count": 10,
   "metadata": {
    "collapsed": false,
    "deletable": true,
    "editable": true
   },
   "outputs": [],
   "source": [
    "cdic = {\"a\":0, \"b\":1, \"c\":2, \"d\":3, \"e\":4, \"f\":5, \"g\":6, \"h\":7, \"i\":8, \"j\":9, \" \":10}\n",
    "cdic_r = {}\n",
    "for key, value in cdic.items():\n",
    "    cdic_r[value] = key"
   ]
  },
  {
   "cell_type": "code",
   "execution_count": 11,
   "metadata": {
    "collapsed": true,
    "deletable": true,
    "editable": true
   },
   "outputs": [],
   "source": [
    "image_size_h = 56\n",
    "image_size_w = 112\n",
    "num_channels = 1"
   ]
  },
  {
   "cell_type": "markdown",
   "metadata": {
    "deletable": true,
    "editable": true
   },
   "source": [
    "网络结构"
   ]
  },
  {
   "cell_type": "code",
   "execution_count": 12,
   "metadata": {
    "collapsed": false,
    "deletable": true,
    "editable": true
   },
   "outputs": [],
   "source": [
    "kernel_size = 5\n",
    "pooling_size = 2\n",
    "channels_one = 12\n",
    "channels_two = 32\n",
    "hidden1_size = 300\n",
    "hidden2_size = 260\n",
    "rnn_num_nodes = 260\n",
    "rnn_num_layers = 3\n",
    "\n",
    "\n",
    "graph = tf.Graph()\n",
    "with graph.as_default():\n",
    "    #input data\n",
    "    tf_test_dataset = tf.placeholder(tf.float32,shape=(1, image_size_h, image_size_w, num_channels))\n",
    "#     tf_rnn_input = tf.placeholder(tf.int32,shape=[1])\n",
    "    \n",
    "    #variables\n",
    "    layer_weight1 = tf.Variable(tf.truncated_normal([kernel_size, kernel_size, num_channels, channels_one],stddev=0.1))\n",
    "    layer_biases1 = tf.Variable(tf.zeros([channels_one]), name=\"bias1\")\n",
    "    \n",
    "    layer_weight3 = tf.Variable(tf.truncated_normal([kernel_size, kernel_size, channels_one, channels_two], stddev=0.1))\n",
    "    layer_biases3 = tf.Variable(tf.constant(1.0, shape=[channels_two]), name=\"bias3\")\n",
    "    \n",
    "    neuron_num = ((((image_size_h-pooling_size)//pooling_size+1-kernel_size+1-pooling_size)//pooling_size+1)**2)*channels_two\n",
    "    layer_weight5 = tf.Variable(tf.truncated_normal([neuron_num, hidden1_size], stddev=0.1))\n",
    "    layer_biases5 = tf.Variable(tf.constant(1.0, shape=[hidden1_size]), name=\"bias5\")\n",
    "    \n",
    "    layer_weight6 = tf.Variable(tf.truncated_normal([hidden1_size, hidden2_size], stddev=0.1))\n",
    "    layer_biases6 = tf.Variable(tf.constant(1.0, shape=[hidden2_size]), name=\"bias6\")\n",
    "    \n",
    "    # Classifier weights and biases.\n",
    "    s_weight = tf.Variable(tf.truncated_normal([hidden2_size, max_time_step], stddev=0.1))\n",
    "    s_biases = tf.Variable(tf.constant(1.0, shape=[max_time_step]), name=\"s_bias\")\n",
    "    \n",
    "    c1_weight = tf.Variable(tf.truncated_normal([hidden2_size, len(cdic)], stddev=0.1))\n",
    "    c1_biases = tf.Variable(tf.constant(1.0, shape=[len(cdic)]), name=\"c1_bias\")\n",
    "    \n",
    "    c2_weight = tf.Variable(tf.truncated_normal([hidden2_size, len(cdic)], stddev=0.1))\n",
    "    c2_biases = tf.Variable(tf.constant(1.0, shape=[len(cdic)]), name=\"c2_bias\")\n",
    "    \n",
    "    c3_weight = tf.Variable(tf.truncated_normal([hidden2_size, len(cdic)], stddev=0.1))\n",
    "    c3_biases = tf.Variable(tf.constant(1.0, shape=[len(cdic)]), name=\"c3_bias\")\n",
    "    \n",
    "#     w = tf.Variable(tf.truncated_normal([rnn_num_nodes, len(cdic)], -0.1, 0.1))\n",
    "#     b = tf.Variable(tf.zeros([len(cdic)]), name=\"bias_o\")\n",
    "    \n",
    "    # Model\n",
    "    def conv_model(data):\n",
    "        conv = tf.nn.conv2d(data, layer_weight1, [1,1,1,1], padding=\"SAME\")+layer_biases1\n",
    "        pooling = tf.nn.relu(tf.nn.max_pool(conv, [1,2,4,1], [1,2,4,1], padding=\"VALID\"))\n",
    "        conv = tf.nn.conv2d(pooling, layer_weight3, [1,1,1,1], padding=\"VALID\")+layer_biases3\n",
    "        pooling = tf.nn.relu(tf.nn.max_pool(conv, [1,2,2,1], [1,2,2,1], padding=\"VALID\"))\n",
    "        shape = pooling.get_shape().as_list()\n",
    "        reshape = tf.reshape(pooling,[shape[0],shape[1]*shape[2]*shape[3]])\n",
    "        hidden1 = tf.matmul(reshape, layer_weight5)+layer_biases5\n",
    "        hidden2 = tf.nn.relu(tf.matmul(hidden1, layer_weight6)+layer_biases6)\n",
    "        return hidden2\n",
    "            \n",
    "#     def rnn_model(input_data):\n",
    "\n",
    "#         cell_list = []\n",
    "#         for i in range(rnn_num_layers):\n",
    "#             rnn_cell = diyLSTMCell(rnn_num_nodes)\n",
    "#             cell_list.append(rnn_cell)\n",
    "#         rnn_cells = tf.contrib.rnn.MultiRNNCell(cell_list)\n",
    "#         with tf.variable_scope(\"saved_state\"):\n",
    "#             saved_output = tf.get_variable(\"saved_output\", [1, rnn_cells.output_size], initializer=tf.constant_initializer(0.0),\n",
    "#                                            trainable=False)\n",
    "#             saved_state_tuple = tuple([tf.get_variable(\"saved_state_%d\"%i, [1, rnn_cells.state_size[i]], \n",
    "#                                             initializer=tf.constant_initializer(0.0),\n",
    "#                                             trainable=False) for i in range(len(rnn_cells.state_size))])\n",
    "#         with tf.variable_scope(\"rnn\"): \n",
    "#             rnn_output, rnn_state = rnn_cells(input_data, saved_state_tuple)\n",
    "#         return rnn_output, rnn_state, rnn_cells\n",
    "    \n",
    "#     def update_state_and_out_op(state_variables, new_states, output_variable, new_output):\n",
    "#         update_ops = []\n",
    "#         for state_variable, new_state in zip(state_variables, new_states):\n",
    "#             # Assign the new state to the state variables on this layer\n",
    "#             update_ops.append(state_variable.assign(new_state))\n",
    "#         # Return a tuple in order to combine all update_ops into a single operation.\n",
    "#         # The tuple's actual value should not be used.\n",
    "#         update_ops.append(output_variable.assign(new_output))\n",
    "#         return tf.tuple(update_ops)\n",
    "\n",
    "    conv_out = conv_model(tf_test_dataset)\n",
    "#     rnn_output, rnn_state, rnn_cells = rnn_model(conv_out)\n",
    "#     logits = tf.matmul(rnn_output, w) + b\n",
    "    \n",
    "#     tf.get_variable_scope().reuse_variables()\n",
    "#     rnn_output2, rnn_state2, rnn_cells = rnn_model(tf.one_hot(tf_rnn_input, hidden2_size))\n",
    "#     logits2 = tf.matmul(rnn_output2, w) + b\n",
    "    \n",
    "    \n",
    "    \n",
    "#     with tf.variable_scope(\"saved_state\"):\n",
    "#         saved_output = tf.get_variable(\"saved_output\")\n",
    "#         saved_state_tuple = tuple([tf.get_variable(\"saved_state_%d\"%i) for i in range(len(rnn_cells.state_size))])\n",
    "    \n",
    "#     zero_ouput = tf.zeros([1, rnn_cells.output_size])\n",
    "#     zero_state_init = rnn_cells.zero_state(1,tf.float32)\n",
    "    \n",
    "        \n",
    "    # Predictions for the training, validation, and test data.\n",
    "#     test_prediction = tf.nn.softmax(logits)\n",
    "#     test_prediction2 = tf.nn.softmax(logits2)\n",
    "    \n",
    "    #update state\n",
    "#     update_state_and_output = update_state_and_out_op(saved_state_tuple, rnn_state, saved_output, rnn_output)\n",
    "#     update_state_and_output2 = update_state_and_out_op(saved_state_tuple, rnn_state2, saved_output, rnn_output2)\n",
    "#     reset_state_and_ouptut = update_state_and_out_op(saved_state_tuple, zero_state_init, saved_output, zero_ouput)\n",
    "\n",
    "    s_logits = tf.matmul(conv_out, s_weight)+s_biases\n",
    "    c1_logits = tf.matmul(conv_out, c1_weight)+c1_biases\n",
    "    c2_logits = tf.matmul(conv_out, c2_weight)+c2_biases\n",
    "    c3_logits = tf.matmul(conv_out, c3_weight)+c3_biases\n",
    "    \n",
    "    test_prediction_s = tf.nn.softmax(s_logits)\n",
    "    test_prediction1 = tf.nn.softmax(c1_logits)\n",
    "    test_prediction2 = tf.nn.softmax(c2_logits)\n",
    "    test_prediction3 = tf.nn.softmax(c3_logits)\n",
    "    \n",
    "    #model saver\n",
    "    saver = tf.train.Saver(tf.trainable_variables())\n"
   ]
  },
  {
   "cell_type": "code",
   "execution_count": 13,
   "metadata": {
    "collapsed": false,
    "deletable": true,
    "editable": true
   },
   "outputs": [],
   "source": [
    "def logprob(predictions, labels):\n",
    "  \"\"\"Log-probability of the true labels in a predicted batch.\"\"\"\n",
    "  predictions[predictions < 1e-10] = 1e-10\n",
    "  return np.sum(np.multiply(labels, -np.log(predictions))) / labels.shape[0]\n",
    "\n",
    "def chara(prediction):\n",
    "    return cdic_r[np.argmax(prediction,1)[0]]\n",
    "\n",
    "def charsq(predictions):\n",
    "    pass"
   ]
  },
  {
   "cell_type": "code",
   "execution_count": 14,
   "metadata": {
    "collapsed": false,
    "deletable": true,
    "editable": true
   },
   "outputs": [
    {
     "name": "stdout",
     "output_type": "stream",
     "text": [
      "INFO:tensorflow:Restoring parameters from model2/model.ckpt\n"
     ]
    },
    {
     "data": {
      "image/png": "[encoded data removed]",
      "text/plain": [
       "<matplotlib.figure.Figure at 0x7fe3e1a72ad0>"
      ]
     },
     "metadata": {},
     "output_type": "display_data"
    },
    {
     "name": "stdout",
     "output_type": "stream",
     "text": [
      "ce \n"
     ]
    },
    {
     "data": {
      "image/png": "[encoded data removed]",
      "text/plain": [
       "<matplotlib.figure.Figure at 0x7fe3d3e07350>"
      ]
     },
     "metadata": {},
     "output_type": "display_data"
    },
    {
     "name": "stdout",
     "output_type": "stream",
     "text": [
      "gh \n"
     ]
    },
    {
     "data": {
      "image/png": "[encoded data removed]",
      "text/plain": [
       "<matplotlib.figure.Figure at 0x7fe3d335ded0>"
      ]
     },
     "metadata": {},
     "output_type": "display_data"
    },
    {
     "name": "stdout",
     "output_type": "stream",
     "text": [
      "ief\n"
     ]
    },
    {
     "data": {
      "image/png": "[encoded data removed]",
      "text/plain": [
       "<matplotlib.figure.Figure at 0x7fe3d33284d0>"
      ]
     },
     "metadata": {},
     "output_type": "display_data"
    },
    {
     "name": "stdout",
     "output_type": "stream",
     "text": [
      "fe \n"
     ]
    },
    {
     "data": {
      "image/png": "[encoded data removed]",
      "text/plain": [
       "<matplotlib.figure.Figure at 0x7fe3d339e810>"
      ]
     },
     "metadata": {},
     "output_type": "display_data"
    },
    {
     "name": "stdout",
     "output_type": "stream",
     "text": [
      "ihh\n"
     ]
    }
   ],
   "source": [
    "with tf.Session(graph=graph) as sess:\n",
    "    tf.global_variables_initializer().run()\n",
    "    saver.restore(sess,\"model2/model.ckpt\")\n",
    "    index = np.random.randint(0,len(test_dataset),5)\n",
    "    batch_test = test_dataset[index]\n",
    "    for i in range(5):\n",
    "        feed_dict = {}\n",
    "        feed_dict[tf_test_dataset] = batch_test[[i]]\n",
    "#         prediction,_ = sess.run([test_prediction, update_state_and_output], feed_dict=feed_dict)\n",
    "#         prediction = sess.run(test_prediction, feed_dict=feed_dict)\n",
    "#         print(prediction)\n",
    "#         sentence = chara(prediction)\n",
    "#         while chara(prediction) != \"remain\":\n",
    "#             sentence += chara(prediction)\n",
    "#             feed_dict = {}\n",
    "#             feed_dict[tf_rnn_input] = [cdic[chara(prediction)]]\n",
    "#             prediction,_ = sess.run([test_prediction2,update_state_and_output2], feed_dict=feed_dict)\n",
    "        prediction1, prediction2, prediction3 = sess.run([test_prediction1, test_prediction2, test_prediction3],feed_dict=feed_dict)\n",
    "        plt.imshow(batch_test[i].reshape(batch_test[i].shape[:-1]), cmap=plt.cm.gray)\n",
    "        plt.show()\n",
    "        print(chara(prediction1)+chara(prediction2)+chara(prediction3))\n",
    "#         sess.run([reset_state_and_ouptut])\n",
    "        \n",
    "        "
   ]
  },
  {
   "cell_type": "code",
   "execution_count": null,
   "metadata": {
    "collapsed": true,
    "deletable": true,
    "editable": true
   },
   "outputs": [],
   "source": []
  }
 ],
 "metadata": {
  "kernelspec": {
   "display_name": "Python 2",
   "language": "python",
   "name": "python2"
  },
  "language_info": {
   "codemirror_mode": {
    "name": "ipython",
    "version": 2
   },
   "file_extension": ".py",
   "mimetype": "text/x-python",
   "name": "python",
   "nbconvert_exporter": "python",
   "pygments_lexer": "ipython2",
   "version": "2.7.6"
  }
 },
 "nbformat": 4,
 "nbformat_minor": 2
}
